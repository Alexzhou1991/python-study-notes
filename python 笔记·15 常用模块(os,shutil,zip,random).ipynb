{
 "cells": [
  {
   "cell_type": "markdown",
   "metadata": {},
   "source": [
    "# OS 模块\n",
    "- 操作系统相关，主要是文件操作\n",
    "- 与系统相关的操作，主要包含在三个模块里\n",
    "    - os , 操作系统目录相关\n",
    "    - os.path ,系统路径相关操作\n",
    "    - shutil ， 高级文件操作，目录树的操作，文件赋值，移动，删除\n",
    "- 路径：\n",
    "    - 相对路径：总是从根目录上开始\n",
    "    - 绝对路径：基本以当前环境为开始的一个相对的地方"
   ]
  },
  {
   "cell_type": "code",
   "execution_count": 1,
   "metadata": {},
   "outputs": [],
   "source": [
    "# 导入 os 模块\n",
    "import os"
   ]
  },
  {
   "cell_type": "code",
   "execution_count": 2,
   "metadata": {},
   "outputs": [
    {
     "name": "stdout",
     "output_type": "stream",
     "text": [
      "C:\\Users\\Alex\\OneDrive\\Python 学习笔记\n"
     ]
    }
   ],
   "source": [
    "# getcwd() ：获取当前的工作目录\n",
    "# 格式 ：os.getcwd():\n",
    "# 返回值：当前工作目录的字符串\n",
    "# 当前工作目录就是程序在进行文件相关操作，默认查找文件的目录\n",
    "mydir = os.getcwd()\n",
    "print(mydir)   "
   ]
  },
  {
   "cell_type": "code",
   "execution_count": 6,
   "metadata": {},
   "outputs": [
    {
     "name": "stdout",
     "output_type": "stream",
     "text": [
      "C:\\Users\\Alex\\OneDrive\n"
     ]
    }
   ],
   "source": [
    "# chdir() : 改变当前的工作目录\n",
    "# 格式： os.chdir(路径)\n",
    "# 返回值：无\n",
    "os.chdir('C:\\\\Users\\\\Alex\\\\OneDrive')  # win系统下，反斜杠在字符串里表示转义，需要两个\\ 来表示\n",
    "mydir = os.getcwd()\n",
    "print(mydir)  "
   ]
  },
  {
   "cell_type": "code",
   "execution_count": 17,
   "metadata": {},
   "outputs": [
    {
     "name": "stdout",
     "output_type": "stream",
     "text": [
      "['.git', '.ipynb_checkpoints', 'Alex-study-Python', 'Python 笔记·10 OOP 基础 2 .ipynb', 'Python 笔记·11 OOP 基础 3.ipynb', 'python 笔记·12 高级语法  模块和包.ipynb', 'python 笔记·13 错误和异常.ipynb', 'python 笔记·14 常用模块(calendar,time,datetime).ipynb', 'python 笔记·15 常用模块(os,).ipynb', 'Python 笔记·2 分支 循环.ipynb', 'Python 笔记·3 函数参数.ipynb', 'Python 笔记·4 内置数据结构 1  list操作.ipynb', 'Python 笔记·5 内置数据结构 2  list操作函数.ipynb', 'Python 笔记·6 内置数据结构 3 tuple操作.ipynb', 'Python 笔记·7 内置数据结构 4 set 集合.ipynb', 'Python 笔记·8 内置数据结构 5 dict 字典.ipynb', 'Python 笔记·9 OOP 基础.ipynb', 'Untitled.ipynb', '练习题  - 汉诺塔问题.ipynb']\n",
      "['.anaconda', '.astropy', '.conda', '.gitconfig', '.ipython', '.jupyter', '.matplotlib', '.PyCharm2018.1', '.vscode', '3D Objects', 'Anaconda3', 'AppData', 'Application Data', 'Contacts', 'Cookies', 'Desktop', 'Documents', 'Downloads', 'Favorites', 'IntelGraphicsProfiles', 'Links', 'Local Settings', 'MicrosoftEdgeBackups', 'Music', 'My Documents', 'NetHood', 'NTUSER.DAT', 'ntuser.dat.LOG1', 'ntuser.dat.LOG2', 'NTUSER.DAT{d34a7219-6bcf-11e8-9ac5-94501660ab5b}.TM.blf', 'NTUSER.DAT{d34a7219-6bcf-11e8-9ac5-94501660ab5b}.TMContainer00000000000000000001.regtrans-ms', 'NTUSER.DAT{d34a7219-6bcf-11e8-9ac5-94501660ab5b}.TMContainer00000000000000000002.regtrans-ms', 'ntuser.ini', 'ODBA', 'OneDrive', 'Pictures', 'PrintHood', 'Recent', 'Saved Games', 'Searches', 'SendTo', 'Templates', 'Videos', '「开始」菜单', '快捷方式']\n"
     ]
    }
   ],
   "source": [
    "# listdir() : 获取一个目录中所有子目录和文件名称的列表\n",
    "# 格式： os.listdir(目录路径)\n",
    "# 返回值：所有子文件和文件名称的列表\n",
    "ld = os.listdir() # 路径可以为空\n",
    "print(ld)\n",
    "\n",
    "ld2 = os.listdir('C:\\\\Users\\\\Alex')\n",
    "print(ld2)"
   ]
  },
  {
   "cell_type": "code",
   "execution_count": 16,
   "metadata": {},
   "outputs": [
    {
     "name": "stdout",
     "output_type": "stream",
     "text": [
      "None\n"
     ]
    }
   ],
   "source": [
    "# makedirs() 递归创建文件夹\n",
    "# 格式os.makedirs(递归路径)\n",
    "# 返回值：无\n",
    "# 递归路径： 多个文件夹层层包含的路径就是递归路径 例如：C:\\Users\\Alex\\OneDrive\n",
    "os.chdir('C:\\\\Users\\\\Alex\\\\OneDrive\\\\Python 学习笔记')\n",
    "srt = os.makedirs('Alex-study-Python') # 在当前工作目录下创建一个文件夹\n",
    "print(srt)  # 没有返回值，默认为None\n"
   ]
  },
  {
   "cell_type": "code",
   "execution_count": 19,
   "metadata": {},
   "outputs": [
    {
     "name": "stdout",
     "output_type": "stream",
     "text": [
      "0\n"
     ]
    }
   ],
   "source": [
    "# system() 运行系统shell命令\n",
    "# 格式： os.system('系统命令')\n",
    "# 返回值： 打开一个shell 或者终端界面\n",
    "# dir 命令是查看文件命令\n",
    "rst = os.system('dir')\n",
    "print(rst) # 返回值 0 表示执行成功，返回值1 则表示失败"
   ]
  },
  {
   "cell_type": "code",
   "execution_count": 23,
   "metadata": {},
   "outputs": [
    {
     "name": "stdout",
     "output_type": "stream",
     "text": [
      "C:\\Users\\Alex\\Anaconda3;C:\\Users\\Alex\\Anaconda3\\Library\\mingw-w64\\bin;C:\\Users\\Alex\\Anaconda3\\Library\\usr\\bin;C:\\Users\\Alex\\Anaconda3\\Library\\bin;C:\\Users\\Alex\\Anaconda3\\Scripts;C:\\Program Files (x86)\\Intel\\Intel(R) Management Engine Components\\iCLS\\;C:\\Program Files\\Intel\\Intel(R) Management Engine Components\\iCLS\\;C:\\WINDOWS\\system32;C:\\WINDOWS;C:\\WINDOWS\\System32\\Wbem;C:\\WINDOWS\\System32\\WindowsPowerShell\\v1.0\\;C:\\Program Files (x86)\\Intel\\Intel(R) Management Engine Components\\DAL;C:\\Program Files\\Intel\\Intel(R) Management Engine Components\\DAL;C:\\Program Files (x86)\\Intel\\Intel(R) Management Engine Components\\IPT;C:\\Program Files\\Intel\\Intel(R) Management Engine Components\\IPT;C:\\WINDOWS\\System32\\OpenSSH\\;C:\\Users\\Alex\\AppData\\Local\\Programs\\Python;C:\\Users\\Alex\\Anaconda3;C:\\Users\\Alex\\Anaconda3\\Library\\mingw-w64\\bin;C:\\Users\\Alex\\Anaconda3\\Library\\usr\\bin;C:\\Users\\Alex\\Anaconda3\\Library\\bin;C:\\Users\\Alex\\Anaconda3\\Scripts;C:\\Users\\Alex\\AppData\\Local\\Microsoft\\WindowsApps;C:\\Users\\Alex\\AppData\\Local\\GitHubDesktop\\bin;C:\\Program Files\\Bandizip\\;C:\\Program Files\\Microsoft VS Code\\bin\n"
     ]
    }
   ],
   "source": [
    "# getenv() 获取指定的系统环境变量值\n",
    "# 相对应的还有putenv : \n",
    "# 格式： os.getenv('环境变量名')\n",
    "# 返回值： 指定的环境变量名的值\n",
    "rst = os.getenv('path')\n",
    "print(rst)"
   ]
  },
  {
   "cell_type": "code",
   "execution_count": null,
   "metadata": {},
   "outputs": [],
   "source": [
    "# exit() 推出当前程序\n",
    "# 格式： exit()\n",
    "# 返回值：无"
   ]
  },
  {
   "cell_type": "markdown",
   "metadata": {},
   "source": [
    "## 值部分\n",
    "- os.curdir : curretn dir , 当前目录\n",
    "- os.pardir : parent dir ,父目录\n",
    "- os.sep : 当前系统的路径分隔符\n",
    "    - win系统下路径分割符是 '\\'（反斜杠）\n",
    "    - linux 系统下的路径分隔符是 '/' （正斜杠）\n",
    "- os.linesep :当前系统的换行符号\n",
    "    - win系统的换行符号是‘\\r\\n’\n",
    "    - linux 系统下的换行符号是 '\\n'\n",
    "- os.name : 当前系统名称\n",
    "\n",
    "        - 尽量不要手动输入路径，因为在不同的系统环境下，路径的分隔符不一样（不具有移植性）\n",
    "        - 使用os.path 模块来导入操作路径。"
   ]
  },
  {
   "cell_type": "code",
   "execution_count": 26,
   "metadata": {},
   "outputs": [
    {
     "name": "stdout",
     "output_type": "stream",
     "text": [
      ".\n",
      "..\n",
      "\\\n",
      "\r\n",
      "\n",
      "nt\n"
     ]
    }
   ],
   "source": [
    "print(os.curdir)\n",
    "print(os.pardir)\n",
    "print(os.sep)\n",
    "print(os.linesep)\n",
    "print(os.name) # linux 操作系统的名称是posix ,windows下则是nt  "
   ]
  },
  {
   "cell_type": "markdown",
   "metadata": {},
   "source": [
    "## os.path 模块，跟路径相关的模块\n"
   ]
  },
  {
   "cell_type": "code",
   "execution_count": 29,
   "metadata": {},
   "outputs": [],
   "source": [
    "import os.path as op "
   ]
  },
  {
   "cell_type": "code",
   "execution_count": 30,
   "metadata": {},
   "outputs": [
    {
     "name": "stdout",
     "output_type": "stream",
     "text": [
      "C:\\Users\\Alex\\OneDrive\\Python 学习笔记\n"
     ]
    }
   ],
   "source": [
    "# abspath() 将路径转化为绝对路径\n",
    "# 格式： os.path.abspath('路径')\n",
    "# 返回值： 路径的绝对路径形式\n",
    "absp = op.abspath('.') # 点号代表当前目录，双点号代表父目录\n",
    "print(absp)"
   ]
  },
  {
   "cell_type": "code",
   "execution_count": 34,
   "metadata": {},
   "outputs": [
    {
     "name": "stdout",
     "output_type": "stream",
     "text": [
      "Python 学习笔记\n"
     ]
    }
   ],
   "source": [
    "# basename() 获取路径中的文件名部分\n",
    "# 格式： os.path.basename('路径')\n",
    "# 返回值：文件名字符串\n",
    "bn = op.basename('C:\\\\Users\\\\Alex\\\\OneDrive\\\\Python 学习笔记')\n",
    "print(bn)"
   ]
  },
  {
   "cell_type": "code",
   "execution_count": 35,
   "metadata": {},
   "outputs": [
    {
     "name": "stdout",
     "output_type": "stream",
     "text": [
      "C:\\Users\\Alex\\OneDrive\\Python 学习笔记\\Alex-study-Python\n"
     ]
    }
   ],
   "source": [
    "# join() : 将多个路径拼合成一个路径\n",
    "# 格式： os.path.join('路径1'，'路径2'，，，)\n",
    "# 返回值：组合之后的新路径字符串\n",
    "dir1 = 'C:\\\\Users\\\\Alex\\\\OneDrive\\\\Python 学习笔记'\n",
    "dir2 = 'Alex-study-Python'\n",
    "oj = op.join(dir1,dir2)\n",
    "print(oj)"
   ]
  },
  {
   "cell_type": "code",
   "execution_count": 40,
   "metadata": {},
   "outputs": [
    {
     "name": "stdout",
     "output_type": "stream",
     "text": [
      "('C:\\\\Users\\\\Alex\\\\OneDrive', 'Python 学习笔记')\n",
      "C:\\Users\\Alex\\OneDrive ---- Python 学习笔记\n"
     ]
    }
   ],
   "source": [
    "# split() : 将路径切割成文件夹部分和当前文件部分\n",
    "# 格式： os.path.split('路径')\n",
    "# 返回值：路径和文件名组成的元组\n",
    "d = os.getcwd()\n",
    "t = op.split(d)\n",
    "print(t)\n",
    "a,b = t\n",
    "print(a,'----',b)"
   ]
  },
  {
   "cell_type": "code",
   "execution_count": 41,
   "metadata": {},
   "outputs": [
    {
     "data": {
      "text/plain": [
       "True"
      ]
     },
     "execution_count": 41,
     "metadata": {},
     "output_type": "execute_result"
    }
   ],
   "source": [
    "# isdir() : 判断路径是否是目录\n",
    "# 格式: os.path.isdir('路径')\n",
    "# 返回值： 布尔值\n",
    "rst = op.isdir('C:\\\\Users\\\\Alex\\\\OneDrive\\\\Python 学习笔记')\n",
    "rst"
   ]
  },
  {
   "cell_type": "code",
   "execution_count": 43,
   "metadata": {},
   "outputs": [
    {
     "data": {
      "text/plain": [
       "False"
      ]
     },
     "execution_count": 43,
     "metadata": {},
     "output_type": "execute_result"
    }
   ],
   "source": [
    "# exists() 判断一个文件或者路径是否存在\n",
    "# 格式 : os.path.exists('路径')\n",
    "# 返回值： 布尔值\n",
    "e = op.exists('C:\\\\Users\\\\Alex\\\\OneDrive\\\\Alex') # 不存在的路径\n",
    "e"
   ]
  },
  {
   "cell_type": "markdown",
   "metadata": {},
   "source": [
    "## shutil 模块"
   ]
  },
  {
   "cell_type": "code",
   "execution_count": 44,
   "metadata": {},
   "outputs": [],
   "source": [
    "import shutil"
   ]
  },
  {
   "cell_type": "code",
   "execution_count": 53,
   "metadata": {},
   "outputs": [
    {
     "name": "stdout",
     "output_type": "stream",
     "text": [
      "C:\\Users\\Alex\\OneDrive\\Alex2.txt\n"
     ]
    }
   ],
   "source": [
    "# copy() : 复制文件\n",
    "# 格式： shutil.copy('来源路径','目标路径')\n",
    "# 返回值： 返回目标路径\n",
    "# 拷贝的同时，可以给目标重命名\n",
    "rst = shutil.copy('C:\\\\Users\\\\Alex\\\\OneDrive\\\\Python 学习笔记\\\\Alex.txt','C:\\\\Users\\\\Alex\\\\OneDrive\\\\Alex2.txt')\n",
    "print(rst)"
   ]
  },
  {
   "cell_type": "code",
   "execution_count": null,
   "metadata": {},
   "outputs": [],
   "source": [
    "# copy2 : 复制文件，保留元数据\n",
    "# 格式 ： shutil.copy2('来源路径','目标路径')\n",
    "# 返回值：返回目标路径\n",
    "# 注意： copy 和copy2 的唯一区别在于copy2 赋值文件时尽量保留元数据\n",
    "# 元数据：文件创建时间，所有者，权限 等信息\n"
   ]
  },
  {
   "cell_type": "code",
   "execution_count": 47,
   "metadata": {},
   "outputs": [
    {
     "data": {
      "text/plain": [
       "'test.txt'"
      ]
     },
     "execution_count": 47,
     "metadata": {},
     "output_type": "execute_result"
    }
   ],
   "source": [
    "# copyfile(): 将一个文件当中的内容复制到另一个文件当中\n",
    "# 格式： shutil.copyfile('来源路径','目标路径')\n",
    "# 返回值：无\n",
    "shutil.copyfile('Alex.txt','test.txt') # 没有写绝对路径则默认使用当前路径下的文件"
   ]
  },
  {
   "cell_type": "code",
   "execution_count": 56,
   "metadata": {},
   "outputs": [],
   "source": [
    "# move()  : 移动文件/文件夹\n",
    "# 格式 : shutil.move('原路径','目标路径')\n",
    "# 返回值：目标路径\n",
    "rst = shutil.move('C:\\\\Users\\\\Alex\\\\OneDrive\\\\Python 学习笔记\\\\Alex.txt','C:\\\\Users\\\\Alex\\\\OneDrive\\\\Python 学习笔记\\\\Alex-study-Python')"
   ]
  },
  {
   "cell_type": "markdown",
   "metadata": {},
   "source": [
    "### 归档和压缩\n",
    "- 归档： 把多个文件或者文件夹合并到一个文件当中\n",
    "- 压缩： 用算法把多个文件或者文件夹无损或者有损合并到一个文件当中"
   ]
  },
  {
   "cell_type": "code",
   "execution_count": 59,
   "metadata": {},
   "outputs": [
    {
     "name": "stdout",
     "output_type": "stream",
     "text": [
      "C:\\Users\\Alex\\OneDrive\\Python 学习笔记\\归档测试1.zip\n"
     ]
    }
   ],
   "source": [
    "# make_archive() :归档操作\n",
    "# 格式: shutil.make_archive('归档之后的目录和文件名','后缀','需要归档的文件夹')\n",
    "# 返回值： 归档之后的路径\n",
    "# 以下代码，目的时将Alex-study-Python 归档为： 归档测试1.zip\n",
    "rst = shutil.make_archive('C:\\\\Users\\\\Alex\\\\OneDrive\\\\Python 学习笔记\\\\归档测试1','zip','C:\\\\Users\\\\Alex\\\\OneDrive\\\\Python 学习笔记\\\\Alex-study-Python')\n",
    "print(rst)"
   ]
  },
  {
   "cell_type": "code",
   "execution_count": null,
   "metadata": {},
   "outputs": [],
   "source": [
    "# unpack_archive() ：解包操作\n",
    "# 格式: shutil.unpack_archive('归档文件地址','解包之后的地址')\n",
    "# 返回值：解包之后的地址\n"
   ]
  },
  {
   "cell_type": "markdown",
   "metadata": {},
   "source": [
    "## zip 压缩包\n",
    "- 模块名叫 zipfile"
   ]
  },
  {
   "cell_type": "code",
   "execution_count": 60,
   "metadata": {},
   "outputs": [],
   "source": [
    "import zipfile"
   ]
  },
  {
   "cell_type": "code",
   "execution_count": 63,
   "metadata": {},
   "outputs": [
    {
     "name": "stdout",
     "output_type": "stream",
     "text": [
      "<zipfile.ZipFile filename='C:\\\\Users\\\\Alex\\\\OneDrive\\\\Python 学习笔记\\\\归档测试1.zip' mode='r'>\n"
     ]
    }
   ],
   "source": [
    "# ZipFile(file, mode=\"r\", compression=ZIP_STORED, allowZip64=True)\n",
    "# 创建一个ZipFile 对象，表示一个zip文件，参数file表示文件的路径或类文件对象\n",
    "\n",
    "\n",
    "zf = zipfile.ZipFile('C:\\\\Users\\\\Alex\\\\OneDrive\\\\Python 学习笔记\\\\归档测试1.zip')\n",
    "print(zf) # 创建了一个实例"
   ]
  },
  {
   "cell_type": "code",
   "execution_count": 68,
   "metadata": {},
   "outputs": [
    {
     "name": "stdout",
     "output_type": "stream",
     "text": [
      "C:\\Users\\Alex\\OneDrive\\Python 学习笔记\\归档测试1.zip\n"
     ]
    }
   ],
   "source": [
    "# ZipFile.getinfo('文件名'): 获取zip文档内指定文件的信息\n",
    "# 返回一个ZipFile.zipinfo对象，包括文档的详细信息\n",
    "ret = zf.getinfo('Alex.txt')\n",
    "print(rst)"
   ]
  },
  {
   "cell_type": "code",
   "execution_count": 70,
   "metadata": {},
   "outputs": [
    {
     "name": "stdout",
     "output_type": "stream",
     "text": [
      "['Alex.txt', '归档测试文件1.txt', '归档测试文件2.txt']\n"
     ]
    }
   ],
   "source": [
    "# ZipFile.namelist()\n",
    "# 获取一个zip文档内所有文件的名称列表\n",
    "lt = zf.namelist()\n",
    "print(lt)"
   ]
  },
  {
   "cell_type": "code",
   "execution_count": 73,
   "metadata": {},
   "outputs": [],
   "source": [
    "# ZipFile.extractall(self, path=None, members=None, pwd=None)\n",
    "# 解压zip文档中的所有文件到当前目录,path是解压的目标的路径\n",
    "ext = zf.extractall('C:\\\\Users\\\\Alex\\\\OneDrive\\\\Python 学习笔记')"
   ]
  },
  {
   "cell_type": "markdown",
   "metadata": {},
   "source": [
    "## random 模块\n",
    "- 随机数\n",
    "- 所有的随机模块都是伪随机"
   ]
  },
  {
   "cell_type": "code",
   "execution_count": 75,
   "metadata": {},
   "outputs": [],
   "source": [
    "import random"
   ]
  },
  {
   "cell_type": "code",
   "execution_count": 76,
   "metadata": {},
   "outputs": [
    {
     "name": "stdout",
     "output_type": "stream",
     "text": [
      "0.2801564106206733\n"
     ]
    }
   ],
   "source": [
    "# random() 获取0-1之间的随机小数\n",
    "# 格式random.random() \n",
    "# 返回值： 0到1 之间的随机小数\n",
    "print(random.random())\n",
    "\n",
    "# 作业： 利用random函数，生成0到100的随机整数"
   ]
  },
  {
   "cell_type": "code",
   "execution_count": 94,
   "metadata": {},
   "outputs": [
    {
     "name": "stdout",
     "output_type": "stream",
     "text": [
      "['0Alex', '1Alex', '2Alex', '3Alex', '4Alex', '5Alex', '6Alex', '7Alex', '8Alex', '9Alex']\n",
      "0Alex\n"
     ]
    }
   ],
   "source": [
    "# choice() 返回随机序列中的某个值\n",
    "# 格式 random.choice(序列)\n",
    "# 返回： 序列中的某个值\n",
    "l = [str(i) + 'Alex' for i in range(10)]\n",
    "print(l)\n",
    "ch = random.choice(l)\n",
    "print(ch)"
   ]
  },
  {
   "cell_type": "code",
   "execution_count": 97,
   "metadata": {},
   "outputs": [
    {
     "name": "stdout",
     "output_type": "stream",
     "text": [
      "['0dollar', '1dollar', '2dollar', '3dollar', '4dollar', '5dollar', '6dollar', '7dollar']\n",
      "['7dollar', '4dollar', '5dollar', '0dollar', '1dollar', '6dollar', '3dollar', '2dollar']\n"
     ]
    }
   ],
   "source": [
    "# shuffle() 随机打乱列表\n",
    "# 格式：random.shuffle(列表)\n",
    "# 返回值：无\n",
    "# 打乱的是原列表（原地打乱）\n",
    "l = [str(i) + 'dollar' for i in range(8)]\n",
    "print(l)\n",
    "random.shuffle(l)\n",
    "print(l)"
   ]
  },
  {
   "cell_type": "code",
   "execution_count": 109,
   "metadata": {},
   "outputs": [
    {
     "name": "stdout",
     "output_type": "stream",
     "text": [
      "99\n"
     ]
    }
   ],
   "source": [
    "# randint() 随机产生整数\n",
    "# 格式： random.randint(整数范围)\n",
    "# 返回值： 指定范围内随机产生的整数\n",
    "ri = random.randint(0,100)  # 产生的随机数包含0和100\n",
    "print(ri)"
   ]
  },
  {
   "cell_type": "code",
   "execution_count": null,
   "metadata": {},
   "outputs": [],
   "source": []
  }
 ],
 "metadata": {
  "kernelspec": {
   "display_name": "Python 3",
   "language": "python",
   "name": "python3"
  },
  "language_info": {
   "codemirror_mode": {
    "name": "ipython",
    "version": 3
   },
   "file_extension": ".py",
   "mimetype": "text/x-python",
   "name": "python",
   "nbconvert_exporter": "python",
   "pygments_lexer": "ipython3",
   "version": "3.6.5"
  }
 },
 "nbformat": 4,
 "nbformat_minor": 2
}
