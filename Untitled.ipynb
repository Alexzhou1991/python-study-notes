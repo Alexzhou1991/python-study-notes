{
 "cells": [
  {
   "cell_type": "code",
   "execution_count": null,
   "metadata": {},
   "outputs": [],
   "source": [
    "l = [1,2,3,4,5,6,7,8,9,10,11,12,13,14,15,16,17,18,19,20,21,22,23,24,25,26,27,28,29,30]\n",
    "fen = int(input('一共有{0}份数据，请输入切割份数：'.format(len(l))))\n",
    "while len(l) % fen != 0:\n",
    "    fen = int(input('输入错误，无法平均分配，请重新输入切割份数：'))\n",
    "    \n",
    "ge = int(len(l) / fen)\n",
    "\n",
    "print('切成{0}份后，每份包含{1}条数据'.format(fen,ge))\n",
    "\n",
    "\n",
    "names = locals()\n",
    "\n",
    "b = 0\n",
    "c = 0\n",
    "d = ge\n",
    "i = 1\n",
    "while b < fen:\n",
    "    names['T%s'%i] = l[c:d]\n",
    "    i += 1\n",
    "    b += 1\n",
    "    c += ge\n",
    "    d += ge\n",
    "\n",
    "\n",
    "    \n",
    "    "
   ]
  },
  {
   "cell_type": "code",
   "execution_count": null,
   "metadata": {},
   "outputs": [],
   "source": [
    "l = [1,2,3,4,5,6,7,8,9,10,11,12,13,14,15,16,17,18,19,20,21,22,23,24,25,26,27,28,29,30]\n",
    "fen = int(input('一共有{0}份数据，请输入切割份数：'.format(len(l))))\n",
    "ge = len(l) / fen\n",
    "print('切成{0}份后，每份包含{1}条数据'.format(fen,ge))\n",
    "\n",
    "names = locals()\n",
    "i = 1\n",
    "# if \n",
    "for j in range(1,fen+1):\n",
    "    L = l[ge*(j-1):ge*j]\n",
    "    names['A%s'%i] = L\n",
    "    i += 1\n",
    "    \n"
   ]
  },
  {
   "cell_type": "code",
   "execution_count": null,
   "metadata": {},
   "outputs": [],
   "source": [
    "names = locals()\n",
    "for i in range(1,19):\n",
    "   \n",
    "    \n",
    "\n",
    "    \n",
    "\n"
   ]
  },
  {
   "cell_type": "code",
   "execution_count": 31,
   "metadata": {},
   "outputs": [
    {
     "data": {
      "text/plain": [
       "100"
      ]
     },
     "execution_count": 31,
     "metadata": {},
     "output_type": "execute_result"
    }
   ],
   "source": [
    "b = 100\n",
    "s = 'b'\n",
    "globals()[s]"
   ]
  },
  {
   "cell_type": "code",
   "execution_count": null,
   "metadata": {},
   "outputs": [],
   "source": []
  },
  {
   "cell_type": "code",
   "execution_count": null,
   "metadata": {},
   "outputs": [],
   "source": []
  },
  {
   "cell_type": "code",
   "execution_count": 13,
   "metadata": {},
   "outputs": [],
   "source": [
    "import tkinter\n",
    "base = tkinter.Tk()\n",
    "base.wm_title('这里是标题')   #  窗口标题\n",
    "lb = tkinter.Label(base,text='Python Label')\n",
    "lb.pack()   # lb放置的位置\n",
    "base.mainloop()   # 消息循环"
   ]
  },
  {
   "cell_type": "code",
   "execution_count": 17,
   "metadata": {},
   "outputs": [],
   "source": [
    "import tkinter\n",
    "\n",
    "def ShowLabel():\n",
    "    global baseFrame\n",
    "    lb = tkinter.Label(baseFrame,text='RedLabel')\n",
    "    lb.pack()\n",
    "\n",
    "baseFrame = tkinter.Tk()\n",
    "btn = tkinter.Button(baseFrame,text='Show Label', command=ShowLabel)\n",
    "btn.pack()\n",
    "\n",
    "baseFrame.mainloop()"
   ]
  },
  {
   "cell_type": "code",
   "execution_count": null,
   "metadata": {},
   "outputs": [],
   "source": []
  },
  {
   "cell_type": "code",
   "execution_count": null,
   "metadata": {},
   "outputs": [],
   "source": []
  }
 ],
 "metadata": {
  "kernelspec": {
   "display_name": "Python 3",
   "language": "python",
   "name": "python3"
  },
  "language_info": {
   "codemirror_mode": {
    "name": "ipython",
    "version": 3
   },
   "file_extension": ".py",
   "mimetype": "text/x-python",
   "name": "python",
   "nbconvert_exporter": "python",
   "pygments_lexer": "ipython3",
   "version": "3.6.4"
  }
 },
 "nbformat": 4,
 "nbformat_minor": 2
}
