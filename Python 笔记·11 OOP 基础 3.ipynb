{
 "cells": [
  {
   "cell_type": "markdown",
   "metadata": {},
   "source": [
    " ### 单继承和多继承\n",
    " - 单继承：每个类只能继承一个类\n",
    "     - 优点：传承有序，逻辑清晰，语法简单，隐患少 等等\n",
    "     - 缺点：功能不能无限扩展，只能在当前唯一的继承链中扩展\n",
    " - 多继承：每个类允许继承多个类\n",
    "     - 优点：类的功能扩展方便\n",
    "     - 缺点：继承关系混乱"
   ]
  },
  {
   "cell_type": "code",
   "execution_count": 1,
   "metadata": {},
   "outputs": [
    {
     "name": "stdout",
     "output_type": "stream",
     "text": [
      "I can fly !\n",
      "I can swim !\n",
      "********************\n",
      "I can work ! \n"
     ]
    }
   ],
   "source": [
    "# 多继承 示例 \n",
    "# 子类可以直接拥有父类的属性和方法，私有属性和方法除外\n",
    "class Fish():\n",
    "    def __init__(self,name):\n",
    "        self.name = name\n",
    "    def swim(self):\n",
    "        print('I can swim !')\n",
    "class Brid():\n",
    "    def __init__(self,name):\n",
    "        self.name = name\n",
    "    def fly(self):\n",
    "        print('I can fly !')\n",
    "class Person():\n",
    "    def __init__(self,name):\n",
    "        self.name = name\n",
    "    def work(self):\n",
    "        print('I can work ! ')\n",
    "        \n",
    "class SuperMan(Person,Brid,Fish):   # 继承多个父类\n",
    "    def __init__(self,name):\n",
    "        self.name = name\n",
    "\n",
    "s = SuperMan('Alex')\n",
    "s.fly()\n",
    "s.swim()\n",
    "\n",
    "print('*' * 20)  # ——————分割线——————\n",
    "\n",
    "# 单继承示例\n",
    "\n",
    "class Student(Person):\n",
    "    def __init__(self,name):\n",
    "        self.name = name\n",
    "        \n",
    "stu = Student('john')\n",
    "stu.work()"
   ]
  },
  {
   "cell_type": "markdown",
   "metadata": {},
   "source": [
    "### 菱形继承/钻石继承\n",
    "    - 多个字类继承自同一个父类，这些字类由被同一个类继承，于是继承关系图形成一个菱形图谱\n",
    "    - [MRO] http://hanjianwei.com/2013/07/25/python-mro/\n",
    "    - 关于多继承的MRO \n",
    "        - MRO 就是多继承中，用于保存继承顺序的一个列表\n",
    "        - Python 本身采用C3算法来算多继承的菱形继承进行计算的结果\n",
    "        - MRO列表的计算原则：\n",
    "            - 子类永远在父类前面\n",
    "            - 如果多个父类，则根据继承语法中括号内类的书写顺序来存放\n",
    "            - 如果多个类继承了同一个父类，孙子类中只会选取继承语法括号中第一个父类的父类"
   ]
  },
  {
   "cell_type": "code",
   "execution_count": null,
   "metadata": {},
   "outputs": [],
   "source": [
    "# 菱形继承问题\n",
    "class A():\n",
    "    pass\n",
    "class B(A):  # B类继承自A\n",
    "    pass\n",
    "class C(A):  # C类也继承自A\n",
    "    pass\n",
    "\n",
    "class D(B,C):    # D类同时继承B和C ，同时B和C类继承了A  \n",
    "    pass"
   ]
  },
  {
   "cell_type": "markdown",
   "metadata": {},
   "source": [
    "## 多态\n",
    "- 多态就是同一个对象在不同情况下有不同的状态出现\n",
    "- 多态不是语法，是一种设计思想\n",
    "- 多态性：一种调用方式，不同的执行效果\n",
    "- 多态：同一事物的多种形态\n",
    "- [多态和多态性](http://www.cnblogs.com/luchuangao/p/6739557.html)"
   ]
  },
  {
   "cell_type": "markdown",
   "metadata": {},
   "source": [
    "### Mixin 设计模式\n",
    "- 主要采用多继承方式对类的功能进行扩展\n",
    "- 使用多继承语法来实现Mixin\n",
    "- 使用Mixin实现多继承的时候要非常小心\n",
    "    - 首先他必须表示某一单一功能，而不是某个物品\n",
    "    - 职责必须单一，如果有多个功能，则写多个Mixin\n",
    "    - Mixin 不能依赖于子类实现\n",
    "    - 字类即使没有继承这个Mixin类，也照样能工作，只是缺少了某个功能。\n",
    "- 优点：\n",
    "    - 使用Mixin 可以在不对类进行任何修改的情况下，扩充功能\n",
    "    - 可以方便的组织和维护不同功能组件的划分\n",
    "    - 可以根据需要任意调整功能类的组合\n",
    "    - 可以避免创建很多新的类，导致类的继承混乱\n",
    "    - "
   ]
  },
  {
   "cell_type": "code",
   "execution_count": 8,
   "metadata": {},
   "outputs": [
    {
     "name": "stdout",
     "output_type": "stream",
     "text": [
      "I am Teacher .\n"
     ]
    }
   ],
   "source": [
    "# Mixin 示例 \n",
    "\n",
    "class Person():\n",
    "    name = 'Alex'\n",
    "    age = 19\n",
    "    def eat(self):\n",
    "        print('eating...')\n",
    "    def sleep(self):\n",
    "        print('sleeping...')\n",
    "    def drink(self):\n",
    "        print('drinking...')\n",
    "class Teacher(Person):\n",
    "    def __init__(self):\n",
    "        print('I am Teacher .')\n",
    "    def work(self):\n",
    "        print('working...')\n",
    "class Student(Person):\n",
    "    def __init__(self):\n",
    "        print('I am student .')\n",
    "    def study(self):\n",
    "        print('Study~~~')\n",
    "class Tutor(Teacher,Student):\n",
    "    pass\n",
    "\n",
    "t = Tutor()\n",
    "\n"
   ]
  },
  {
   "cell_type": "markdown",
   "metadata": {},
   "source": [
    "## 类相关函数\n",
    "- issubclass: 检测一个类是不是另一个的子类\n",
    "- isinstance: 检测一个对象是否是一个类的实例\n",
    "- hasattr: 检测一个对象是否有成员XXX\n",
    "- getattr: get attribute\n",
    "- setattr: set attribute\n",
    "- delattr：delete attribute\n",
    "- dir : 获取对象的成员列表"
   ]
  },
  {
   "cell_type": "code",
   "execution_count": 15,
   "metadata": {},
   "outputs": [
    {
     "name": "stdout",
     "output_type": "stream",
     "text": [
      "True\n",
      "True\n",
      "True\n"
     ]
    },
    {
     "data": {
      "text/plain": [
       "['__class__',\n",
       " '__delattr__',\n",
       " '__dict__',\n",
       " '__dir__',\n",
       " '__doc__',\n",
       " '__eq__',\n",
       " '__format__',\n",
       " '__ge__',\n",
       " '__getattribute__',\n",
       " '__gt__',\n",
       " '__hash__',\n",
       " '__init__',\n",
       " '__init_subclass__',\n",
       " '__le__',\n",
       " '__lt__',\n",
       " '__module__',\n",
       " '__ne__',\n",
       " '__new__',\n",
       " '__reduce__',\n",
       " '__reduce_ex__',\n",
       " '__repr__',\n",
       " '__setattr__',\n",
       " '__sizeof__',\n",
       " '__str__',\n",
       " '__subclasshook__',\n",
       " '__weakref__',\n",
       " 'name']"
      ]
     },
     "execution_count": 15,
     "metadata": {},
     "output_type": "execute_result"
    }
   ],
   "source": [
    "# 类相关函数示例\n",
    "class A():\n",
    "    name = 'Noname'\n",
    "class B(A):\n",
    "    pass\n",
    "class C(A):\n",
    "    pass\n",
    "c = C()\n",
    "a = A()\n",
    "print(issubclass(B,A))       # 检测B是否是A的子类，以布尔值形式返回\n",
    "print(isinstance(c,C))      # 检测c是否是C的实例 \n",
    "print(hasattr(a,'name'))\n",
    "dir(a)"
   ]
  },
  {
   "cell_type": "markdown",
   "metadata": {},
   "source": [
    "## 类成员描述符（属性）\n",
    "- 类的成员描述符是为了在类中对类的成员属性进行相关操作而创建的一种方式\n",
    "    - get: 获取属性的操作\n",
    "    - set: 修改或者添加属性操作\n",
    "    - delete ： 删除属性的操作\n",
    "- 如果想使用类的成员描述符，大概有三种方法\n",
    "    - 使用类实现描述器\n",
    "    - 使用属性修饰符\n",
    "    - 使用property 函数\n",
    "        - property(fget,fset,fdel,doc)\n",
    "- 无论那种修饰符都是为了对成员属性进行相应的控制\n",
    "    - 类的方式：适合多个类中的多个属性共用同一个描述符\n",
    "    - property ：使用当前类中使用，可以控制一个类中多个属性\n",
    "    - 属性修饰符：适用于当前类中使用，控制一个类中的一个属性\n",
    "    \n",
    "    "
   ]
  },
  {
   "cell_type": "code",
   "execution_count": 3,
   "metadata": {},
   "outputs": [
    {
     "name": "stdout",
     "output_type": "stream",
     "text": [
      "ALEXALEX\n",
      "ALEX\n"
     ]
    }
   ],
   "source": [
    "#  property 示例 \n",
    "# x = property(fget,fset,fdel,doc)\n",
    "class Person():\n",
    "    def fget(self):                    # 此函数的名称可以任意\n",
    "        return self._name * 2         # 此函数将name乘以2\n",
    "    def fset(self,name):             # 此函数的名称可以任意\n",
    "        self._name = name.upper()   # 此函数将所有字母转换成大写\n",
    "    def fdel(self):                # 此函数的名称可以任意\n",
    "        self.name = 'Noname'      # \n",
    "        \n",
    "    name = property(fget,fset,fdel,'property函数的示例')\n",
    "    \n",
    "    \n",
    "p1 = Person()\n",
    "p1.name = 'Alex'\n",
    "\n",
    "print(p1.name)\n",
    "print(p1._name)"
   ]
  },
  {
   "cell_type": "markdown",
   "metadata": {},
   "source": [
    "## 类的内置属性\n",
    "\n",
    "1：   __dict__ : 以字典的方式显示类的成员组成\n",
    "2：   __doc__  : 获取类的文档信息\n",
    "3：   __name__ : 获取类的名称，如果在模块中使用，获取模块的名称\n",
    "4：   __bases__: 获取某个类的所有父类，以元组的方式显示\n"
   ]
  },
  {
   "cell_type": "markdown",
   "metadata": {},
   "source": [
    "## 类的常用魔术方法\n",
    "- 魔术方法就是不需要人为调用的方法，基本是在特定的时刻自动触发\n",
    "- 魔术方法的统一特征，方法名被前后各两个下划线\n",
    "- 操作类\n",
    "    - __init__  :构造函数\n",
    "    - __new__   : 对象实例化方法，此函数比较特殊，一般不需要使用\n",
    "    - __call__  : 对象当函数的时候触发\n",
    "    - __str__   ：当对象被当做字符串使用的时候调用\n",
    "    - __repr__   : 返回字符串\n",
    "- 描述符相关\n",
    "    - __set__\n",
    "    - __get__\n",
    "    - __delete__\n",
    "- 属性操作相关\n",
    "    - __getattr__  访问一个不存在的属性时触发\n",
    "    - __setattr__  对成员属性进行设置的时候触发\n",
    "        - 参数：\n",
    "            - self 用来获取当前对象\n",
    "            - 被设置的属性名称，以字符串形式出现\n",
    "            - 需要对属性名称设置的值\n",
    "        - 作用： 进行属性设置 的时候进行验证或者修改\n",
    "        - 注意： 在该方法中不能对属性直接进行赋值操作，否则进入死循环\n",
    "        \n",
    "- 运算类相关魔术方法\n",
    "    - __gt__ : 进行大于判断的时候触发的函数\n",
    "        - 参数：\n",
    "            - self\n",
    "            - 第二个参数是第二个对象\n",
    "            - 返回值可以是任意值，推荐返回布尔值\n",
    "            "
   ]
  },
  {
   "cell_type": "code",
   "execution_count": 6,
   "metadata": {},
   "outputs": [
    {
     "name": "stdout",
     "output_type": "stream",
     "text": [
      "构造函数已调用\n",
      "CALL函数被调用\n",
      "__str__函数被调用\n",
      "并没有找到你要的\n",
      "None\n"
     ]
    }
   ],
   "source": [
    "# 操作类魔法函数 示例\n",
    "class A():\n",
    "    name = 'Alex'\n",
    "    age = 19\n",
    "    def __init__(self,name = 0):\n",
    "        print('构造函数已调用')\n",
    "    def __call__(self):          #  对象当函数使用时触发\n",
    "        print('CALL函数被调用')\n",
    "    def __str__(self):         \n",
    "        return '__str__函数被调用'   # 当对象被当做字符串使用时，返回此内容\n",
    "    def __getattr__(self,name):    # 当调用一个不存在的属性时，触发此函数\n",
    "        print('并没有找到你要的')\n",
    "a = A()\n",
    "a()     # 将对象当成函数直接使用，触发__call__函数  \n",
    "print(a)\n",
    "print(a.addr)   # 调用一个并不存在的属性"
   ]
  },
  {
   "cell_type": "code",
   "execution_count": 2,
   "metadata": {},
   "outputs": [
    {
     "name": "stdout",
     "output_type": "stream",
     "text": [
      "{}\n"
     ]
    },
    {
     "data": {
      "text/plain": [
       "<bound method Person.__stattr__ of <__main__.Person object at 0x00000260B71E96A0>>"
      ]
     },
     "execution_count": 2,
     "metadata": {},
     "output_type": "execute_result"
    }
   ],
   "source": [
    "# __setattr__  示例\n",
    "class Person():\n",
    "    def __init__(self):\n",
    "        pass\n",
    "    def __stattr__(self,name,value):\n",
    "        print('设置属性 {0}'.format(name))\n",
    "        # __self.name = value 使用此代码会进入死循环\n",
    "        super().__stattr__(name,value)       # 正确方式\n",
    "        \n",
    "p = Person()\n",
    "print(p.__dict__)\n",
    "p.age = 18\n",
    "p.__stattr__"
   ]
  },
  {
   "cell_type": "code",
   "execution_count": 4,
   "metadata": {},
   "outputs": [
    {
     "name": "stdout",
     "output_type": "stream",
     "text": [
      "比较<__main__.Student object at 0x000002080AEE7E80>和<__main__.Student object at 0x000002080AEE7F60>的大小\n",
      "False\n"
     ]
    }
   ],
   "source": [
    "# __gt__ 示例\n",
    "class Student():\n",
    "    def __init__(self,name):\n",
    "        self._name = name\n",
    "        \n",
    "    def __gt__(self,obj):\n",
    "        print('比较{0}和{1}的大小'.format(self,obj))\n",
    "        return self._name > obj._name   \n",
    "A = Student('Alex')\n",
    "B = Student('Bella')\n",
    "print(A > B)\n",
    "\n",
    "# 作业 ： 将打印结果改为：比较Alex 和Bella 的大小\n"
   ]
  },
  {
   "cell_type": "markdown",
   "metadata": {},
   "source": [
    "## 类和对象的三种方法\n",
    "- 实例方法\n",
    "    - 需要实例化对象才能使用的方法，使用过程中可能需要截止对象的其他对象的方法完成\n",
    "- 静态方法\n",
    "    - 不需要实例化，通过类直接访问\n",
    "- 类方法\n",
    "    - 不需要实例化"
   ]
  },
  {
   "cell_type": "code",
   "execution_count": 3,
   "metadata": {},
   "outputs": [
    {
     "name": "stdout",
     "output_type": "stream",
     "text": [
      "<__main__.Person object at 0x00000260B71E9EB8>\n",
      "eating...\n",
      "<class '__main__.Person'>\n",
      "playing...\n",
      "<class '__main__.Person'>\n",
      "playing...\n",
      "saying\n",
      "saying\n"
     ]
    }
   ],
   "source": [
    "# 三种方法实例\n",
    "class Person():\n",
    "    def eat(self):      # 实例方法\n",
    "        print(self)\n",
    "        print('eating...')\n",
    "        \n",
    "    @classmethod     \n",
    "    def play(cls):   # 类方法，第一个参数一般命名为cls ，区别于self   \n",
    "        print(cls)\n",
    "        print('playing...')\n",
    "        \n",
    "    @staticmethod\n",
    "    def say():     # 静态方法，不需要用第一个参数表示自身或者类\n",
    "        print('saying')\n",
    "        \n",
    "        \n",
    "alex = Person()\n",
    "#实例方法\n",
    "alex.eat()\n",
    "# 类方法\n",
    "Person.play()\n",
    "alex.play()\n",
    "# 静态方法\n",
    "Person.say()\n",
    "alex.say()"
   ]
  },
  {
   "cell_type": "code",
   "execution_count": 17,
   "metadata": {},
   "outputs": [
    {
     "name": "stdout",
     "output_type": "stream",
     "text": [
      "刘大拿\n"
     ]
    },
    {
     "ename": "AttributeError",
     "evalue": "'A' object has no attribute 'name'",
     "output_type": "error",
     "traceback": [
      "\u001b[1;31m---------------------------------------------------------------------------\u001b[0m",
      "\u001b[1;31mAttributeError\u001b[0m                            Traceback (most recent call last)",
      "\u001b[1;32m<ipython-input-17-55cb7aadee99>\u001b[0m in \u001b[0;36m<module>\u001b[1;34m()\u001b[0m\n\u001b[0;32m     10\u001b[0m \u001b[0mprint\u001b[0m\u001b[1;33m(\u001b[0m\u001b[0ma\u001b[0m\u001b[1;33m.\u001b[0m\u001b[0mname\u001b[0m\u001b[1;33m)\u001b[0m\u001b[1;33m\u001b[0m\u001b[0m\n\u001b[0;32m     11\u001b[0m \u001b[1;32mdel\u001b[0m \u001b[0ma\u001b[0m\u001b[1;33m.\u001b[0m\u001b[0mname\u001b[0m\u001b[1;33m\u001b[0m\u001b[0m\n\u001b[1;32m---> 12\u001b[1;33m \u001b[0mprint\u001b[0m\u001b[1;33m(\u001b[0m\u001b[0ma\u001b[0m\u001b[1;33m.\u001b[0m\u001b[0mname\u001b[0m\u001b[1;33m)\u001b[0m\u001b[1;33m\u001b[0m\u001b[0m\n\u001b[0m",
      "\u001b[1;31mAttributeError\u001b[0m: 'A' object has no attribute 'name'"
     ]
    }
   ],
   "source": [
    "# 变量的三种方法\n",
    "class A():\n",
    "    def __init__(self):\n",
    "        self.name = 'haha'\n",
    "        self.age = 18\n",
    "a = A()\n",
    "# 属性的三种用法\n",
    "# 1.赋值   2.读取      3.删除\n",
    "a.name = '刘大拿'\n",
    "print(a.name)\n",
    "del a.name     #  删除操作\n",
    "print(a.name) # 删除后就无法读取了 "
   ]
  },
  {
   "cell_type": "code",
   "execution_count": 23,
   "metadata": {},
   "outputs": [
    {
     "name": "stdout",
     "output_type": "stream",
     "text": [
      "hahaha\n",
      "我被读取了\n",
      "hahaha\n"
     ]
    }
   ],
   "source": [
    "# 类属性  property \n",
    "class A():\n",
    "    def __init__(self):\n",
    "        self.name = 'hahaha'\n",
    "        self.age = 18\n",
    "    def fget(self):           # 此功能，是对类变量进行读取操作的时候应该执行的函数功能\n",
    "        print('我被读取了')\n",
    "        return self.name\n",
    "    def fset(self):     #  模拟的是对变量进行写操作的时候执行的功能\n",
    "        print('我被写入了。')\n",
    "        self.name = '图灵学院' + name\n",
    "    def fdel(self):   # 模拟的是删除变量的时候进行的操作\n",
    "        pass\n",
    "    \n",
    "    name2 = property(fget,fset,fdel,'这里是说明文档')\n",
    "\n",
    "a = A()\n",
    "print(a.name)\n",
    "\n",
    "print(a.name2)"
   ]
  },
  {
   "cell_type": "markdown",
   "metadata": {},
   "source": [
    "##  抽象类\n",
    "- 抽象方法：没有具体实现内容的方法称为抽象方法\n",
    "- 抽象方法的主要意义是规范了子类的行为和接口\n",
    "- 抽象类的使用需要借助abc模块\n",
    "    - inport abc\n",
    "- 抽象类： 包含抽象方法的类叫抽象类。通常称为ABC类\n",
    "- 抽象类的使用：\n",
    "    - 抽象类可以包含抽象方法，也可以包含具体方法\n",
    "    - 抽象类中可以有方法也可以有属性\n",
    "    - 抽象类不允许直接实例化\n",
    "    - 必须继承才可以使用，且继承的子类必须实现所有继承来的抽象方法\n",
    "    - 假定子类没有实现所有继承的抽象方法，则子类也不能实例化\n",
    "    - 抽象类的主要作用是设定类的标准，以便于开发的时候具有统一的规范\n",
    "    "
   ]
  },
  {
   "cell_type": "code",
   "execution_count": 24,
   "metadata": {},
   "outputs": [],
   "source": [
    "# 抽象类的实现\n",
    "\n",
    "import abc\n",
    "class Human(metaclass=abc.ABCMeta):      # 声明一个类并且指定当前类的元类\n",
    "    @abc.abstractmethod   # 定义一个抽象的方法\n",
    "    def smoking(self):\n",
    "        pass\n",
    "    @abc.abstractclassmethod   # 定义类抽象方法\n",
    "    def drink():\n",
    "        pass\n",
    "    @abc.abstractstaticmethod\n",
    "    def play():\n",
    "        pass\n",
    "    def sleep(self):\n",
    "        print('sleeping...')\n",
    "        "
   ]
  },
  {
   "cell_type": "markdown",
   "metadata": {},
   "source": [
    "##  自定义类\n",
    "- 类其实是一个普通类定义和各种方法的自由组合\n",
    "- 可以定义类和函数，然后自己通过类直接赋值\n",
    "- 可以借助于MethhodType实现\n",
    "- 借助于type实现\n",
    "- 利用元类实现 MetaClass\n",
    "    - 元类是类\n",
    "    - 被用来创造类\n",
    "    - 元类写法是固定的，必须继承自type\n",
    "    - 元类命名一般以 MetaClass 结尾"
   ]
  },
  {
   "cell_type": "code",
   "execution_count": null,
   "metadata": {},
   "outputs": [],
   "source": [
    "# "
   ]
  },
  {
   "cell_type": "code",
   "execution_count": 26,
   "metadata": {},
   "outputs": [
    {
     "name": "stdout",
     "output_type": "stream",
     "text": [
      "saying...\n",
      "saying...\n"
     ]
    }
   ],
   "source": [
    "# 自己组装一个类\n",
    "class A():\n",
    "    pass\n",
    "def say(self):\n",
    "    print('saying...')\n",
    "say(9)\n",
    "A.say = say  # 把函数放入类\n",
    "\n",
    "a = A()\n",
    "a.say()"
   ]
  },
  {
   "cell_type": "code",
   "execution_count": null,
   "metadata": {},
   "outputs": [],
   "source": []
  }
 ],
 "metadata": {
  "kernelspec": {
   "display_name": "Python 3",
   "language": "python",
   "name": "python3"
  },
  "language_info": {
   "codemirror_mode": {
    "name": "ipython",
    "version": 3
   },
   "file_extension": ".py",
   "mimetype": "text/x-python",
   "name": "python",
   "nbconvert_exporter": "python",
   "pygments_lexer": "ipython3",
   "version": "3.6.5"
  }
 },
 "nbformat": 4,
 "nbformat_minor": 2
}
