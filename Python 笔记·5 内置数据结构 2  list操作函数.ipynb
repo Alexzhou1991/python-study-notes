{
 "cells": [
  {
   "cell_type": "markdown",
   "metadata": {},
   "source": [
    "# 关于列表的函数 \n",
    "    - append() 插入一个内容\n",
    "    - insert() 指定位置插入\n",
    "    - del[] 删除\n",
    "    - pop() 拿出列表内最后一个值并返回\n",
    "    - remove() 在列表中删除指定的值 \n",
    "    - clear() 清空\n",
    "    - reverse()  翻转\n",
    "    - extend() 扩展列表，两个列表，吧一个直接拼接到最后一个上  \n",
    "    - count() 查找列表中指定值或元素的个数并作为值返回\n",
    "    - copy() 拷贝  浅拷贝"
   ]
  },
  {
   "cell_type": "code",
   "execution_count": 47,
   "metadata": {},
   "outputs": [
    {
     "name": "stdout",
     "output_type": "stream",
     "text": [
      "[1, 2, 3, 4, 5, 6, 7, 8, 9]\n",
      "[1, 2, 3, 4, 5, 6, 7, 8, 9, 99]\n"
     ]
    }
   ],
   "source": [
    "# append 操作示例 （在末尾追加）\n",
    "a = [x for x in range(1,10)]  # 生成一个列表 a\n",
    "print(a)\n",
    "a.append(99)   # 在a 列表末尾增加 一个值 \n",
    "print(a)\n"
   ]
  },
  {
   "cell_type": "code",
   "execution_count": 48,
   "metadata": {},
   "outputs": [
    {
     "name": "stdout",
     "output_type": "stream",
     "text": [
      "[1, 2, 3, 4, 5, 777, 6, 7, 8, 9, 99]\n"
     ]
    }
   ],
   "source": [
    "# insert  操作示例 （指定位置插入）\n",
    "a.insert(5,777)   # insert 插入需要两个数值，第一个为插入位置，第二个为插入内容\n",
    "print(a)"
   ]
  },
  {
   "cell_type": "code",
   "execution_count": 49,
   "metadata": {},
   "outputs": [
    {
     "name": "stdout",
     "output_type": "stream",
     "text": [
      "[1, 2, 4, 5, 777, 6, 7, 8, 9, 99]\n"
     ]
    }
   ],
   "source": [
    "# del 删除 示例\n",
    "del a[2]  # 删除指定位置的内容 \n",
    "print(a)"
   ]
  },
  {
   "cell_type": "code",
   "execution_count": 51,
   "metadata": {},
   "outputs": [
    {
     "name": "stdout",
     "output_type": "stream",
     "text": [
      "[1, 2, 4, 5, 777, 6, 7, 8, 9]\n",
      "[1, 2, 4, 5, 777, 6, 7, 8]\n",
      "9\n"
     ]
    }
   ],
   "source": [
    "# pop  示例\n",
    "print(a)\n",
    "b = a.pop()  # 将a列表内的最后一个内容从a删除，并赋值给b \n",
    "print(a)    # a列表内不再有最后一个数值\n",
    "print(b)    # 拿出的数值已赋值给了b"
   ]
  },
  {
   "cell_type": "code",
   "execution_count": 52,
   "metadata": {},
   "outputs": [
    {
     "name": "stdout",
     "output_type": "stream",
     "text": [
      "[1, 2, 4, 5, 777, 6, 7, 8]\n",
      "2896444135816\n",
      "[1, 2, 4, 5, 777, 6, 7]\n",
      "2896444135816\n"
     ]
    }
   ],
   "source": [
    "# remove 示例\n",
    "# 如果要删除的值没在list中，则会报错\n",
    "\n",
    "print(a)\n",
    "print(id(a))\n",
    "\n",
    "if 8 in a:\n",
    "    a.remove(8)   # 删除列表中值为8 的内容 \n",
    "print(a)\n",
    "print(id(a))   #输出操作前和操作后的列表a的ID 一样，说明是在原list 上直接操作"
   ]
  },
  {
   "cell_type": "code",
   "execution_count": 53,
   "metadata": {},
   "outputs": [
    {
     "name": "stdout",
     "output_type": "stream",
     "text": [
      "[1, 2, 4, 5, 777, 6, 7]\n",
      "2896444135816\n",
      "[]\n",
      "2896444135816\n"
     ]
    }
   ],
   "source": [
    "# clear 操作示例\n",
    "print(a)\n",
    "print(id(a))     # 打印出原list的ID  \n",
    "a.clear()       # 进行清空操作\n",
    "print(a)       #操作后的结果\n",
    "print(id(a))  # 操作后的ID 与原ID 一致，说明是在原list上直接操作\n"
   ]
  },
  {
   "cell_type": "code",
   "execution_count": 55,
   "metadata": {},
   "outputs": [
    {
     "name": "stdout",
     "output_type": "stream",
     "text": [
      "[1, 2, 3, 4, 5, 6]\n",
      "2896461926472\n",
      "[6, 5, 4, 3, 2, 1]\n",
      "2896461926472\n"
     ]
    }
   ],
   "source": [
    "# reverse 操作示例\n",
    "\n",
    "a = [1,2,3,4,5,6]\n",
    "print(a)       \n",
    "print(id(a))    \n",
    "a.reverse()    #翻转操作\n",
    "print(a)      #翻转后的结果\n",
    "print(id(a))  #翻转后的ID 与原ID 一致  说明是在原list上直接进行操作\n"
   ]
  },
  {
   "cell_type": "code",
   "execution_count": 56,
   "metadata": {},
   "outputs": [
    {
     "name": "stdout",
     "output_type": "stream",
     "text": [
      "2896463200008\n",
      "[1, 2, 3, 4, 5, 5, 6, 7, 8, 9]\n",
      "2896463200008\n"
     ]
    }
   ],
   "source": [
    "# extend 操作示例\n",
    "a = [1,2,3,4,5]\n",
    "b = [5,6,7,8,9]\n",
    "print(id(a))\n",
    "a.extend(b)     # 进行扩展操作\n",
    "print(a)       # 扩展后的结果\n",
    "print(id(a))  # 扩展后的ID 与原ID 一致  说明是在原list上直接进行操作"
   ]
  },
  {
   "cell_type": "code",
   "execution_count": 61,
   "metadata": {},
   "outputs": [
    {
     "name": "stdout",
     "output_type": "stream",
     "text": [
      "[1, 2, 3, 4, 5, 2, 1, 2]\n",
      "3\n",
      "4\n"
     ]
    }
   ],
   "source": [
    "# count  操作示例\n",
    "a = [1,2,3,4,5,2,1,2,]\n",
    "print(a)\n",
    "b = a.count(2)   # 数出列表a中有多少个2 ，然后将个数赋值给b \n",
    "print(b)\n",
    "print(b + 1)\n"
   ]
  },
  {
   "cell_type": "code",
   "execution_count": 70,
   "metadata": {},
   "outputs": [
    {
     "name": "stdout",
     "output_type": "stream",
     "text": [
      "[1, 2, 3, 4, 5, 666]\n",
      "[1, 2, 3, 777, 5, 666]\n",
      "[1, 2, 3, 777, 5, 666]\n",
      "--------------------\n",
      "[1, 2, 3, 4, 5, 666]\n",
      "[1, 2, 3, 4, 5, 666, 999]\n"
     ]
    }
   ],
   "source": [
    "# copy 浅拷贝 操作示例\n",
    "# list直接赋值是传址操作  \n",
    "a = [1,2,3,4,5,666]\n",
    "b = a        # 将a 赋值给b\n",
    "print(a)\n",
    "b[3] = 777   # 将列表b的第四个值换成777\n",
    "print(a)    # 操作后a的内容也被改变了 \n",
    "print(b)   # b的的内容\n",
    "\n",
    "print('-' * 20)  #  ---------分割线---------\n",
    "\n",
    "# copy 拷贝操作\n",
    "a = [1,2,3,4,5,666]\n",
    "b = a.copy()      # 将列表a的内容拷贝一份给b \n",
    "b.append(999)    # 操作列表b\n",
    "print(a)        # 列表a 内容不变\n",
    "print(b)       # 列表a 和列表b 内容不一致"
   ]
  },
  {
   "cell_type": "code",
   "execution_count": 75,
   "metadata": {},
   "outputs": [
    {
     "name": "stdout",
     "output_type": "stream",
     "text": [
      "2896463089544\n",
      "2896463089544\n"
     ]
    }
   ],
   "source": [
    "#  浅拷贝和深拷贝的区别\n",
    "a = [1,2,3,4,[5,1,6,7]]\n",
    "b = a.copy()\n",
    "print(id(a[4]))    # a列表里的列表ID 与不列表里的列表浅拷贝 里只拷贝一层\n",
    "print(id(b[4]))"
   ]
  },
  {
   "cell_type": "code",
   "execution_count": null,
   "metadata": {},
   "outputs": [],
   "source": []
  }
 ],
 "metadata": {
  "kernelspec": {
   "display_name": "Python 3",
   "language": "python",
   "name": "python3"
  },
  "language_info": {
   "codemirror_mode": {
    "name": "ipython",
    "version": 3
   },
   "file_extension": ".py",
   "mimetype": "text/x-python",
   "name": "python",
   "nbconvert_exporter": "python",
   "pygments_lexer": "ipython3",
   "version": "3.6.4"
  }
 },
 "nbformat": 4,
 "nbformat_minor": 2
}
