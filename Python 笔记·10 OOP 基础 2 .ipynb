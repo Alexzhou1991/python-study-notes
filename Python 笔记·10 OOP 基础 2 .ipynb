{
 "cells": [
  {
   "cell_type": "markdown",
   "metadata": {},
   "source": [
    "# 类和对象的成员分析\n",
    "\n",
    "- 类存储成员是使用的 是与类关联的一个对象\n",
    "- 独享存储成员是存储在当前对象中\n",
    "- 对象访问一个成员是，如果对象中没有该成员，常识访问类中的同名成员，如果对象中有此成员一定使用对象中的成员\n",
    "- 创建对象的时候，类中的成员不会放入对象当中，而是得到一个空对象，没有成员\n",
    "- 通过对象对类中成员重新赋值或者通过对象添加成员时，对象成员会保存在对象中，而不会修改类成员"
   ]
  },
  {
   "cell_type": "code",
   "execution_count": 5,
   "metadata": {},
   "outputs": [
    {
     "name": "stdout",
     "output_type": "stream",
     "text": [
      "alex\n",
      "18\n",
      "2767216109248\n",
      "1692823552\n",
      "====================\n",
      "alex\n",
      "18\n",
      "2767216109248\n",
      "1692823552\n",
      "====================\n",
      "Liu\n",
      "200\n",
      "2767216213888\n",
      "1692829376\n"
     ]
    }
   ],
   "source": [
    "# 类和对象实例 \n",
    "# 此案例说明：类实例的属性和其对象的实例的属性在不对对象的实例属性赋值的前提下，指向同一个变量\n",
    "\n",
    "class A():\n",
    "    name = 'alex'\n",
    "    age = 18\n",
    "    \n",
    "    def say(self):     # 参数有一个self\n",
    "        self.name = 'aaaaaa'\n",
    "        self.age = 200\n",
    "\n",
    "# 此时，A成为类实例\n",
    "print(A.name)\n",
    "print(A.age)\n",
    "\n",
    "print(id(A.name))\n",
    "print(id(A.age))    \n",
    "\n",
    "print('=' * 20)\n",
    "\n",
    "a = A()\n",
    "\n",
    "print(a.name)\n",
    "print(a.age)\n",
    "\n",
    "print(id(a.name))    # 这两个的ID 与A.name和A.age的ID一致，说明在不给实例赋值的情况下是同一个变量\n",
    "print(id(a.age))  \n",
    "\n",
    "a.name = 'Liu'\n",
    "a.age = 200\n",
    "\n",
    "print('=' * 20)\n",
    "\n",
    "print(a.name)\n",
    "print(a.age)\n",
    "\n",
    "print(id(a.name))    # 给实例化的对象实例赋值之后，ID不一致，说明就不是用一个变量了\n",
    "print(id(a.age))  "
   ]
  },
  {
   "cell_type": "markdown",
   "metadata": {},
   "source": [
    "# 关于self \n",
    "\n",
    "- self 在对象的方法中表示当前对象本身，如果通过对象调用一个方法，那么该对象会自动传入到当前方法的第一个参数中\n",
    "- self 本身并不是关键字，只是一个用于接受对象的普通参数，理论上可以用任何一个普通变量名称代替\n",
    "- 方法中有self 形参的方法称为非绑定类的方法，可以通过对象访问，没有self的是绑定类的方法，只能通过类访问\n",
    "- 使用类访问绑定类的方法时，如果类方法中需要访问当前类的成员，可以通过__class__成员名来访问\n",
    "- "
   ]
  },
  {
   "cell_type": "code",
   "execution_count": 13,
   "metadata": {},
   "outputs": [
    {
     "name": "stdout",
     "output_type": "stream",
     "text": [
      "my name is aaaaaa\n",
      "my age is 200\n",
      "--------------------\n",
      "my name is aaaaaa\n",
      "my age is 200\n"
     ]
    }
   ],
   "source": [
    "# self 示例\n",
    "class Student():\n",
    "    name = 'alex'\n",
    "    age = 18\n",
    "    \n",
    "    def say(self):    \n",
    "        self.name = 'aaaaaa'\n",
    "        self.age = 200\n",
    "        print('my name is {0}'.format(self.name))\n",
    "        print('my age is {0}'.format(self.age))\n",
    "    \n",
    "    def saysay(s):    \n",
    "        print('my name is {0}'.format(s.name))   # 将self替换为s  ，此函数不变\n",
    "        print('my age is {0}'.format(s.age))\n",
    "stu = Student()\n",
    "stu.say()\n",
    "\n",
    "print('-' * 20)\n",
    "stu.saysay()    # 将 s 替换为 self 后，此函数执行结果不变，说明self 可替代\n",
    "        "
   ]
  },
  {
   "cell_type": "code",
   "execution_count": 20,
   "metadata": {},
   "outputs": [
    {
     "name": "stdout",
     "output_type": "stream",
     "text": [
      "My name is john\n",
      "My age is 17\n",
      "Alex\n",
      "19\n",
      "HHHHHHHHHHHHHHH\n"
     ]
    }
   ],
   "source": [
    "# 示例2 \n",
    "\n",
    "class Teacher():\n",
    "    name = 'Alex'\n",
    "    age = 19\n",
    "    \n",
    "    def say(self):\n",
    "        self.name = 'john'\n",
    "        self.age = 17\n",
    "        print('My name is {0}'.format(self.name))\n",
    "        print('My age is {0}'.format(self.age))\n",
    "    def saysay():\n",
    "        print(__class__.name)     # 调用类的成员变量，要用__class__\n",
    "        print(__class__.age)\n",
    "        print('HHHHHHHHHHHHHHH')\n",
    "\n",
    "t = Teacher()\n",
    "t.say()\n",
    "# 调用绑定类函数是用类名\n",
    "Teacher.saysay()   # 直接使用 t.saysay() 则会报错\n",
    "\n"
   ]
  },
  {
   "cell_type": "code",
   "execution_count": 34,
   "metadata": {},
   "outputs": [
    {
     "name": "stdout",
     "output_type": "stream",
     "text": [
      "john\n",
      "29\n",
      "john\n",
      "29\n",
      "BBBBBBB\n",
      "99\n"
     ]
    }
   ],
   "source": [
    "# 关于self的案例\n",
    "\n",
    "class A():\n",
    "    name = 'alex'\n",
    "    age = 19\n",
    "    \n",
    "    def __init__(self):\n",
    "        self.name = 'john'\n",
    "        self.age = 29\n",
    "    def saysay(self):\n",
    "        print(self.name)\n",
    "        print(self.age)\n",
    "        \n",
    "class B():\n",
    "    name = 'BBBBBBB'\n",
    "    age = 99\n",
    "        \n",
    "a = A()\n",
    "a.saysay()   # 此时系统会默认吧a作为第一个参数传入函数\n",
    "\n",
    "A.saysay(a)  # 此时self 被 a 替换\n",
    "\n",
    "A.saysay(B)  #此时传入的类示例B ，因为B有name 和age 属性，所以不会报错\n",
    "\n",
    "# 以上代码，利用了鸭子模型 ： 不同的类，只要具有相同属性，就可以作为参数互传\n"
   ]
  },
  {
   "cell_type": "markdown",
   "metadata": {},
   "source": [
    "## 面向对象的三大特性\n",
    "- 封装\n",
    "- 继承\n",
    "- 多态\n",
    "\n",
    "### 封装\n",
    "- 封装就是对对象的成员进行访问限制\n",
    "- 封装的三个级别\n",
    "    - 公开，public\n",
    "    - 受保护的，protected\n",
    "    - 私有的，private\n",
    "    - public , private , protected 不是关键字\n",
    "    \n",
    "- 判别对象的位置\n",
    "    - 对象内部\n",
    "    - 对象外部\n",
    "    - 子类中\n",
    "- 私有\n",
    "    - 私有成员是最高级别的封装，只能在当前类或者对象中访问\n",
    "    - 成员前面添加两个下划线即可\n",
    "    - Python 的私有 不是真私有，是一种称为name mangling 的改名策略，可以使用对象._classname_attributename访问\n",
    "\n",
    "- 受保护的封装\n",
    "    - 受保护的封装是将对象成员进行一定级别的封装，然后在类中或者子类中都可以进行访问，但是在外部不可以\n",
    "    - 封装方法：在成员名称前添加一个下划线即可\n",
    "\n",
    "- 公开的，公共的 public \n",
    "    - 公共的封装实际对成员没有任何操作，任何地方都可以访问\n",
    "    "
   ]
  },
  {
   "cell_type": "code",
   "execution_count": 6,
   "metadata": {},
   "outputs": [
    {
     "name": "stdout",
     "output_type": "stream",
     "text": [
      "alex\n",
      "99\n"
     ]
    }
   ],
   "source": [
    "# 私有变量案例\n",
    "class Person():\n",
    "    name = 'alex'    # name 是公有的成员\n",
    "    __age = 18      # __age 就是私有成员\n",
    "    \n",
    "p = Person()  \n",
    "print(p.name)    # name 是公有成员，可以访问 \n",
    "# print(p.__age)   __age 是私有成员，无法访问  此代码执行会报错\n",
    "\n",
    "p._Person__age = 99       # 使用_classname_attributename  可以访问并传入变量\n",
    "print(p._Person__age)"
   ]
  },
  {
   "cell_type": "markdown",
   "metadata": {},
   "source": [
    "###  继承\n",
    "- 继承就是一个类可以获得另外一个类中的成员属性和成员方法\n",
    "- 作用：减少代码，增加代码的复用功能，同时可以设置类与类直接的关系\n",
    "- 继承与被继承的概念：\n",
    "    - 被继承的类叫父类，也叫基类，也叫超类\n",
    "    - 用于继承的类叫自类，也叫派生类\n",
    "    - 继承与被继承一定存在一个is-a 关系\n",
    "- 继承的特征\n",
    "    - 所有的类都继承自object 类，即所有的类都是object的子类\n",
    "    - 子类一旦继承父类，则可以试用父类中除私有成员外的所有内容。\n",
    "    - 子类继承父类后并没有将父类成员完全赋值到子类中，而是通过引用关系访问调用\n",
    "    - 子类中可以定义独有的成员属性和方法\n",
    "    - 子类中定义的成员和父类成员如果相同，则优先使用子类成员\n",
    "    - 子类如果想扩充父类的方法，可以在定义新方法的同时访问父类成员来进行代码重用，可以使用 [父类名.父类成员] 的格式来调用父类成员，也可以使用[super().父类成员]  的格式来调用\n",
    "\n",
    "- 继承变量函数的查找顺序问题\n",
    "    - 优先查找自己的变量\n",
    "    - 没有则查找父类\n",
    "    - 构造函数如果本类中没有定义，则自动查找调用父类构造函数\n",
    "    - 如果本类有定义，则不再继续向上查找\n"
   ]
  },
  {
   "cell_type": "code",
   "execution_count": 9,
   "metadata": {},
   "outputs": [
    {
     "name": "stdout",
     "output_type": "stream",
     "text": [
      "NoName\n",
      "secret\n",
      "sleeping...\n",
      "9527\n",
      "test.....\n"
     ]
    }
   ],
   "source": [
    "# 继承的语法\n",
    "#在Python中，任何类都有一个共同的父类叫object\n",
    "class Person():\n",
    "    name = 'NoName'\n",
    "    age = 0\n",
    "    __score = 0  # 成绩是秘密只要自己知道，用两个下划线标注 \n",
    "    _petname = 'secret'   # 小名，是保护的，子类可以用，但不能共用   用一个下划线\n",
    "    def sleep(self):\n",
    "        print('sleeping...')\n",
    "    \n",
    "class Teacher(Person):       # Teacher 就可以继承Person的子类     父类写在括号内   \n",
    "    teacher_id = '9527'\n",
    "    def make_test(self):    # \n",
    "        print('test.....')\n",
    "\n",
    "t = Teacher()\n",
    "print(t.name)            #    Teacher 里没有name ，但是继承了父类Person 里的\n",
    "print(t._petname)       #   \n",
    "# print(t.__score)     # 公开访问私有变量则会报错\n",
    "t.sleep()             #  sleep 是父类方法，继承访问\n",
    "print(t.teacher_id)  # teacher_id 是子类中独有的成员 \n",
    "t.make_test()       # make_test()是子类类里独有的\n",
    "\n",
    "\n"
   ]
  },
  {
   "cell_type": "code",
   "execution_count": 14,
   "metadata": {},
   "outputs": [
    {
     "name": "stdout",
     "output_type": "stream",
     "text": [
      "Alex\n"
     ]
    }
   ],
   "source": [
    "# 子类父类相同成员的引用优先使用子类\n",
    "class Teacher(Person):       # Teacher 就可以继承Person的子类     父类写在括号内   \n",
    "    name = 'Alex'\n",
    "    teacher_id = '9527'\n",
    "    def make_test(self):    # \n",
    "        print('test.....')\n",
    "\n",
    "t = Teacher()\n",
    "print(t.name)     # 子类中定义的成员和父类成员如果相同，则优先使用子类成员"
   ]
  },
  {
   "cell_type": "code",
   "execution_count": 27,
   "metadata": {},
   "outputs": [
    {
     "name": "stdout",
     "output_type": "stream",
     "text": [
      "make money ...\n",
      "make money ...\n",
      "test.....\n"
     ]
    }
   ],
   "source": [
    "#  子类扩充父类功能的案例--------------------\n",
    "class Person():\n",
    "    name = 'NoName'\n",
    "    age = 0\n",
    "    def work(self):\n",
    "        print('make money ...')\n",
    "    \n",
    "class Teacher(Person):     \n",
    "    teacher_id = '9527'\n",
    "    def make_test(self):   \n",
    "        print('test.....')\n",
    "    def work(self):         # 扩充父类的功能只需要调用父类相应的函数\n",
    "        Person.work(self)  # 引用父类方法1\n",
    "        super().work()    # 引用父类方法2\n",
    "        self.make_test()\n",
    "\n",
    "t = Teacher()\n",
    "t.work()       # 引用了父类的方法，同时也有子类自己的方法 \n",
    "\n"
   ]
  },
  {
   "cell_type": "markdown",
   "metadata": {},
   "source": [
    "### 构造函数\n",
    "- 是一类特殊的函数，在类进行实例化之前进行调用\n",
    "- 如果定义了构造函数，则实例化时执行构造函数，不查找父类构造函数\n",
    "- 如果没有定义，则自动查找父类构造函数\n",
    "- 如果子类没有定义，负责的构造函数代参数，则构造对象时的参数应该按父类参数构造\n"
   ]
  },
  {
   "cell_type": "code",
   "execution_count": 20,
   "metadata": {},
   "outputs": [
    {
     "name": "stdout",
     "output_type": "stream",
     "text": [
      "I am init in dog\n"
     ]
    }
   ],
   "source": [
    "# 构造函数的概念 \n",
    "\n",
    "class Dog():\n",
    "    def __init__(self):     # __init__就是构造函数，每次实例化的时候第一个被调用,因为主要工作是进行初始化，所以得名\n",
    "        print('I am init in dog')\n",
    "        \n",
    "kk = Dog()     #  实例化的时候就自动调用Dog的构造函数并执行\n"
   ]
  },
  {
   "cell_type": "code",
   "execution_count": 45,
   "metadata": {
    "scrolled": true
   },
   "outputs": [
    {
     "name": "stdout",
     "output_type": "stream",
     "text": [
      "I am init in Dog\n",
      "--------------------\n",
      "I am init in Pet .\n",
      "jj\n",
      "--------------------\n",
      "I am init in Pet .\n",
      "caty\n",
      "this is Cat init\n"
     ]
    }
   ],
   "source": [
    "# 继承中的构造函数\n",
    "\n",
    "class Animal():\n",
    "    def __init__(self):\n",
    "        print('init in Animal')\n",
    "class Pet(Animal):\n",
    "    def __init__(self, name):\n",
    "        print('I am init in Pet .')\n",
    "        print(name)\n",
    "\n",
    "class Dog(Pet):\n",
    "    def __init__(self):\n",
    "        print('I am init in Dog')\n",
    "        \n",
    "kk = Dog()  # 子类有构造函数，父类也有构造函数，首先调用自身的构造函数\n",
    "\n",
    "print('-' * 20) #   ---------------分割线--------------\n",
    "\n",
    "class Bird(Pet):    #  子类中没有构造函数，父类是Pet\n",
    "    pass\n",
    "jj = Bird('jj')     # 没有构造函数，自动调用父类的构造函数\n",
    "\n",
    "print('-' * 20) #   ---------------分割线--------------\n",
    "\n",
    "class Cat(Pet):\n",
    "    def __init__(self, name):\n",
    "        Pet.__init__(self, name)     # 首先调用父类构造函数\n",
    "        print('this is Cat init')   # 然后再增加自己的功能\n",
    "\n",
    "        \n",
    "mimi = Cat('caty')   \n"
   ]
  },
  {
   "cell_type": "markdown",
   "metadata": {},
   "source": [
    "### super  \n",
    "- super 不是关键字，而是一个类\n",
    "- super 的作用是获取MRO （）列表中的第一个类\n",
    "- super 与父类没有直接任何实质性关系，但通过super可以调用到父类的成员\n",
    "- super 使用的常用方法： 在构造函数中调用父类的构造函数\n"
   ]
  }
 ],
 "metadata": {
  "kernelspec": {
   "display_name": "Python 3",
   "language": "python",
   "name": "python3"
  },
  "language_info": {
   "codemirror_mode": {
    "name": "ipython",
    "version": 3
   },
   "file_extension": ".py",
   "mimetype": "text/x-python",
   "name": "python",
   "nbconvert_exporter": "python",
   "pygments_lexer": "ipython3",
   "version": "3.6.5"
  }
 },
 "nbformat": 4,
 "nbformat_minor": 2
}
