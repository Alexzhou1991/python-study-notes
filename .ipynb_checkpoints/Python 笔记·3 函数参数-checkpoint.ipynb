{
 "cells": [
  {
   "cell_type": "markdown",
   "metadata": {},
   "source": [
    "# 函数\n",
    "    - 代码的一种组织形式\n",
    "    - 一个函数一般完成一项特定的功能\n",
    "    - 函数的使用\n",
    "        ·函数需要先定义\n",
    "        ·使用函数，俗称调用\n",
    "        \n",
    "    "
   ]
  },
  {
   "cell_type": "code",
   "execution_count": 6,
   "metadata": {},
   "outputs": [
    {
     "name": "stdout",
     "output_type": "stream",
     "text": [
      "我是一个函数\n",
      "我要完成一定功能\n",
      "结束\n"
     ]
    }
   ],
   "source": [
    "# 定义一个函数\n",
    "# 只定义不执行\n",
    "# 函数名自己定义。起名需要遵循命名规则\n",
    "# 后面括号冒号不能少，括号内可以有参数\n",
    "# 函数内所有代码缩进\n",
    "\n",
    "def func():\n",
    "    print('我是一个函数')\n",
    "    print('我要完成一定功能')\n",
    "    print('结束')\n",
    "    \n",
    "# 函数的调用\n",
    "func()"
   ]
  },
  {
   "cell_type": "markdown",
   "metadata": {},
   "source": [
    "## 函数的参数和返回值\n",
    "    - 参数：负责给函数传递一些必要的数据或者信息\n",
    "        ·形式参数(形参)：在函数定义的时候用到的参数没有具体的值。只是一个占位的符号\n",
    "        ·实际参数(实参)：在调用的函数的时候输入的值\n",
    "    - 返回值：函数的执行结果\n",
    "        ·使用 return 关键字\n",
    "        ·如果没有return ，默认返回一个None\n",
    "        ·函数一旦执行到return 语句，则无条件返回，后面语句不再执行\n",
    "        "
   ]
  },
  {
   "cell_type": "code",
   "execution_count": 9,
   "metadata": {},
   "outputs": [
    {
     "name": "stdout",
     "output_type": "stream",
     "text": [
      "请输入你的名字：liu \n",
      "liu ,你咋回事\n",
      "I'm good.\n"
     ]
    }
   ],
   "source": [
    "# 参数的定义和使用\n",
    "# 参数person 只是一个符号，代表是调用的时候的某一个参数\n",
    "# 调用的时候会用p的值代替函数中所有的person\n",
    "\n",
    "\n",
    "def hello(person):\n",
    "    print('{0},你咋回事'.format(person))\n",
    "    print('I\\'m good.')\n",
    "p = input('请输入你的名字：')\n",
    "hello(p)\n"
   ]
  },
  {
   "cell_type": "code",
   "execution_count": 11,
   "metadata": {},
   "outputs": [
    {
     "name": "stdout",
     "output_type": "stream",
     "text": [
      "请输入你的名字：zhang\n",
      "zhang,你咋回事\n",
      "I'm good.\n",
      "zhang他很好，zhang没有问题\n"
     ]
    }
   ],
   "source": [
    "# return 语句的基本使用\n",
    "# 函数打完招呼后返回一句话\n",
    "\n",
    "def hello(person):\n",
    "    print('{0},你咋回事'.format(person))\n",
    "    print('I\\'m good.')\n",
    "    \n",
    "    return'{0}他很好，{1}没有问题'.format(person,person)\n",
    "p = input('请输入你的名字：')\n",
    "str = hello(p)\n",
    "print(str)"
   ]
  },
  {
   "cell_type": "code",
   "execution_count": 14,
   "metadata": {
    "scrolled": true
   },
   "outputs": [
    {
     "name": "stdout",
     "output_type": "stream",
     "text": [
      "请输入你的名字：小张\n",
      "小张,你咋回事\n",
      "I'm good.\n",
      "小张他很好，小张没有问题\n"
     ]
    }
   ],
   "source": [
    "# return 示例2\n",
    "\n",
    "def hello(person):\n",
    "    print('{0},你咋回事'.format(person))\n",
    "    print('I\\'m good.')\n",
    "    return'{0}他很好，{1}没有问题'.format(person,person)\n",
    "p = input('请输入你的名字：')\n",
    "str = hello(p)\n",
    "print(str)\n"
   ]
  },
  {
   "cell_type": "code",
   "execution_count": 28,
   "metadata": {},
   "outputs": [
    {
     "name": "stdout",
     "output_type": "stream",
     "text": [
      "1 ---\n",
      "2 4 ---\n",
      "3 6 9 ---\n",
      "4 8 12 16 ---\n",
      "5 10 15 20 25 ---\n",
      "6 12 18 24 30 36 ---\n",
      "7 14 21 28 35 42 49 ---\n",
      "8 16 24 32 40 48 56 64 ---\n",
      "9 18 27 36 45 54 63 72 81 ---\n"
     ]
    }
   ],
   "source": [
    "# 九九乘法表 1.0\n",
    "\n",
    "for row in range(1,10):  \n",
    "    for col in range(1,row+1):\n",
    "        print( row * col, end=' ')\n",
    "    print('---')"
   ]
  },
  {
   "cell_type": "code",
   "execution_count": 47,
   "metadata": {},
   "outputs": [
    {
     "name": "stdout",
     "output_type": "stream",
     "text": [
      "1 -\n",
      "2 4 -\n",
      "3 6 9 -\n",
      "4 8 12 16 -\n",
      "5 10 15 20 25 -\n",
      "6 12 18 24 30 36 -\n",
      "7 14 21 28 35 42 49 -\n",
      "8 16 24 32 40 48 56 64 -\n",
      "9 18 27 36 45 54 63 72 81 -\n"
     ]
    }
   ],
   "source": [
    "# 九九乘法表 2.0\n",
    "# 定义一个函数，打印一行九九乘法表\n",
    "\n",
    "def printline(row):\n",
    "    for col in range(1,row+1):\n",
    "        print( row * col, end=' ')\n",
    "    print('-')\n",
    "# \n",
    "\n",
    "for row in range(1,10):  \n",
    "    printline(row)"
   ]
  },
  {
   "cell_type": "markdown",
   "metadata": {},
   "source": [
    "## 参数详解\n",
    "    - 参数分类：\n",
    "        ·普通参数\n",
    "        ·默认参数\n",
    "        ·关键字参数\n",
    "        ·收集参数\n",
    "        \n",
    "    \n",
    "### 普通参数\n",
    "    - 定义的时候直接定义变量名\n",
    "    - 调用的时候直接把变量或者值放入指定位置\n",
    "    - 例\n",
    "        def 函数名(参数1，参数2，....):\n",
    "            函数体\n",
    "        \n",
    "        #调用\n",
    "        函数名(value1,value2,....)   \n",
    "        # 调用的时候按位置赋值 \n",
    "        \n",
    "### 默认参数\n",
    "    - 形参带有默认值\n",
    "    - 调用的时候，如果没有对相应形参赋值，则使用默认值\n",
    "    - 例\n",
    "        def func_name(p1=v1,p2=v2,....)\n",
    "            func_block\n",
    "        \n",
    "        #调用1\n",
    "        func_name()\n",
    "        \n",
    "        #调用2\n",
    "        func_name(v1,v2,...)"
   ]
  },
  {
   "cell_type": "code",
   "execution_count": 37,
   "metadata": {},
   "outputs": [
    {
     "name": "stdout",
     "output_type": "stream",
     "text": [
      "小明is 18years old , he is good boy .\n",
      "小红is17years old , she , is good girl.\n"
     ]
    }
   ],
   "source": [
    "# 默认参数示例\n",
    "# 包名函数，需要知道学生姓名，默认男生\n",
    "\n",
    "\n",
    "def reg(name,age,gender='male'):\n",
    "    if gender == 'male':\n",
    "        print('{0}is {1}years old , he is good boy .'.format(name,age,gender))\n",
    "    else:\n",
    "        print('{0}is{1}years old , she , is good girl.'.format(name,age,gender))\n",
    "        \n",
    "# 调用\n",
    "reg('小明',18)  # 默认参数可以不用填写\n",
    "reg('小红',17,'female')   # 改动默认参数"
   ]
  },
  {
   "cell_type": "markdown",
   "metadata": {},
   "source": [
    "### 关键字参数\n",
    "    - 语法\n",
    "        def func_name(p1=v1,p2=v2,...)\n",
    "            func_body\n",
    "            \n",
    "        #调用函数\n",
    "        func_name(p1=value1,p2=value2,....)\n",
    "    - 好处：\n",
    "        ·不容易混淆，\n",
    "        ·是用关键字参数，可以不考虑参数位置\n",
    "        \n",
    "\n"
   ]
  },
  {
   "cell_type": "code",
   "execution_count": 46,
   "metadata": {},
   "outputs": [
    {
     "name": "stdout",
     "output_type": "stream",
     "text": [
      "I am sutdent.\n",
      "我叫xiaoming,今年18,住在beijing\n",
      "I am sutdent.\n",
      "我叫xiaoming,今年18岁,住在beijing\n"
     ]
    }
   ],
   "source": [
    "# 普通参数示例\n",
    "\n",
    "def stu(name,age,addr):    # 默认参数按照位置传递\n",
    "    print('I am sutdent.')\n",
    "    print('我叫{0},今年{1},住在{2}'.format(name,age,addr))\n",
    "\n",
    "n = 'xiaoming'\n",
    "a = 18\n",
    "addr = 'beijing'\n",
    "# 普通参数只按照位置传递，容易出错 \n",
    "stu(n,a,addr)\n",
    "\n",
    "\n",
    "\n",
    "# 关键字参数示例==============================================\n",
    "def stu_key(name='no name',age=0,addr='no addr'):   #关键字参数在定义的时候赋值，执行默认\n",
    "    print('I am sutdent.')\n",
    "    print('我叫{0},今年{1}岁,住在{2}'.format(name,age,addr))\n",
    "\n",
    "n = 'xiaoming'\n",
    "a = 18\n",
    "addr = 'beijing'\n",
    "# 关键字参数可以打乱顺序，结果不变\n",
    "stu_key(addr=addr,name=n,age=a)  #执行的时候重新赋值，可以不考虑顺序\n",
    "\n",
    "\n"
   ]
  },
  {
   "cell_type": "markdown",
   "metadata": {},
   "source": [
    "###  收集参数\n",
    "    - 把没有位置，不能和定义时的参数位置相对应的参数，放入一个特定的数据结构中\n",
    "    - 语法\n",
    "        def func_name(*args):\n",
    "            func_body\n",
    "            按照list使用方式访问args得到传入的参数\n",
    "            \n",
    "         #调用\n",
    "         func_name(p1,p2,p3...)\n",
    "        \n",
    "    - args 可以自定义名称 ，但是必须要有星号，表示这是收集参数\n",
    "    - 收集参数可以和其他参数共存\n",
    "    - 收集参数可以不带任何实参调用，\n",
    "    "
   ]
  },
  {
   "cell_type": "code",
   "execution_count": 59,
   "metadata": {},
   "outputs": [
    {
     "name": "stdout",
     "output_type": "stream",
     "text": [
      "Hello,下面是我的个人信息：\n",
      "<class 'tuple'>\n",
      "alex\n",
      "18\n",
      "北京人\n",
      "单身\n",
      "--------------------\n",
      "Hello,下面是我的个人信息：\n",
      "<class 'tuple'>\n",
      "啥也不想说\n",
      "--------------------\n",
      "Hello,下面是我的个人信息：\n",
      "<class 'tuple'>\n"
     ]
    }
   ],
   "source": [
    "# 收集参数示例\n",
    "# 函数模拟学生进行自我介绍，具体内容不清楚\n",
    "# args 看做一个list\n",
    "\n",
    "def stu(*args):\n",
    "    print('Hello,下面是我的个人信息：')\n",
    "    print(type(args)) # type 函数的作用是监测变量的类型\n",
    "    for item in args:  # arges 变量放入 循环 中打印\n",
    "        print(item)\n",
    "stu('alex',18,'北京人','单身')   # 这个函数里参数较多\n",
    "print('-' * 20) #分割线\n",
    "stu('啥也不想说')  #  这个函数里就一个参数\n",
    "print('-' * 20) #分割线\n",
    "stu()  # 不带实参"
   ]
  },
  {
   "cell_type": "code",
   "execution_count": 56,
   "metadata": {},
   "outputs": [
    {
     "ename": "TypeError",
     "evalue": "stu() got an unexpected keyword argument 'name'",
     "output_type": "error",
     "traceback": [
      "\u001b[1;31m---------------------------------------------------------------------------\u001b[0m",
      "\u001b[1;31mTypeError\u001b[0m                                 Traceback (most recent call last)",
      "\u001b[1;32m<ipython-input-56-bd04e9a80411>\u001b[0m in \u001b[0;36m<module>\u001b[1;34m()\u001b[0m\n\u001b[0;32m      1\u001b[0m \u001b[1;31m# 关键字参数如果使用关键字参数格式调用，会出错\u001b[0m\u001b[1;33m\u001b[0m\u001b[1;33m\u001b[0m\u001b[0m\n\u001b[0;32m      2\u001b[0m \u001b[1;31m# 例\u001b[0m\u001b[1;33m\u001b[0m\u001b[1;33m\u001b[0m\u001b[0m\n\u001b[1;32m----> 3\u001b[1;33m \u001b[0mstu\u001b[0m\u001b[1;33m(\u001b[0m\u001b[0mname\u001b[0m\u001b[1;33m=\u001b[0m\u001b[1;34m'liu'\u001b[0m\u001b[1;33m)\u001b[0m\u001b[1;33m\u001b[0m\u001b[0m\n\u001b[0m",
      "\u001b[1;31mTypeError\u001b[0m: stu() got an unexpected keyword argument 'name'"
     ]
    }
   ],
   "source": [
    "# 关键字参数如果使用关键字参数格式调用，会出错\n",
    "# 例\n",
    "stu(name='liu')"
   ]
  },
  {
   "cell_type": "markdown",
   "metadata": {},
   "source": [
    "### 收集参数之关键字收集参数\n",
    "    - 把关键字参数按字典格式存入收集参数\n",
    "    - 语法：\n",
    "        def func_name(**kwargs):   # 收集参数一个* ， 关键字收集参数两个*\n",
    "            func_body\n",
    "            \n",
    "        # 调用\n",
    "        func_name(p1=v1,p2=v2,p3=v1,...)\n",
    "            \n",
    "    - kwargs 可自定义名称\n",
    "    - 调用的时候，把多余的关键字参数放入kwargs \n",
    "    - 访问 kwaegs 需要按照字典格式访问  \n",
    "\n"
   ]
  },
  {
   "cell_type": "code",
   "execution_count": 70,
   "metadata": {
    "scrolled": true
   },
   "outputs": [
    {
     "name": "stdout",
     "output_type": "stream",
     "text": [
      "Hello,一下是我的个人信息：\n",
      "<class 'dict'>\n",
      "name === alex\n",
      "age === 19\n",
      "addr === beijing\n",
      "brith === 0920\n",
      "tall === 175\n",
      "--------------------\n",
      "Hello,一下是我的个人信息：\n",
      "<class 'dict'>\n",
      "name === Bob\n",
      "--------------------\n",
      "Hello,一下是我的个人信息：\n",
      "<class 'dict'>\n"
     ]
    }
   ],
   "source": [
    "# 关键字收集参数示例\n",
    "# 调用的时候要使用关键字参数\n",
    "\n",
    "def stu( **kwargs):   # 收集参数一个* ， 关键字收集参数两个*\n",
    "    print('Hello,一下是我的个人信息：')\n",
    "    print(type(kwargs))\n",
    "    for a,b in kwargs.items():   # a 是变量名称 b 是变量对应的值 kwargs 关键字参数后面要加.items()\n",
    "        print(a,'===',b)\n",
    "stu(name='alex',age=19,addr='beijing',brith=\"0920\",tall=175)\n",
    "print('-' * 20)\n",
    "stu(name='Bob')\n",
    "print('-' * 20)\n",
    "stu()  # 收集参数可以为空\n"
   ]
  },
  {
   "cell_type": "markdown",
   "metadata": {},
   "source": [
    "### 收集参数混合调用的顺序问题\n",
    "    - 收集参数，关键字参数，普通参数可以混合使用\n",
    "    - 使用规则就是，普通参数和关键字参数优先\n",
    "    - 定义的时候一般找普通参数，关键字参数，收集参数tuple,收集参数dict\n",
    "    "
   ]
  },
  {
   "cell_type": "code",
   "execution_count": 1,
   "metadata": {},
   "outputs": [
    {
     "name": "stdout",
     "output_type": "stream",
     "text": [
      "Hello ，以下是我的个人信息\n",
      "我叫alex，今年19岁了。\n",
      "我没啥爱好。\n",
      "..........\n",
      "..........\n",
      "--------------------\n",
      "Hello ，以下是我的个人信息\n",
      "我叫alex，今年19岁了。\n",
      "我的爱好是旅游\n",
      "..........\n",
      "..........\n",
      "--------------------\n",
      "Hello ，以下是我的个人信息\n",
      "我叫alex，今年19岁了。\n",
      "我的爱好是旅游\n",
      "..........\n",
      "kally\n",
      "asina\n",
      "..........\n",
      "hobby2 --- 吃\n",
      "hobby3 --- 玩\n"
     ]
    }
   ],
   "source": [
    "# 收集参数混合调用示例\n",
    "# \n",
    "\n",
    "def stu(name, age, *args, hobby='NO', **kwargs): # 普通参数，收集参数，关键字参数，关键字收集参数\n",
    "    print('Hello ，以下是我的个人信息')\n",
    "    print('我叫{0}，今年{1}岁了。'.format(name,age))\n",
    "    if hobby == 'NO':\n",
    "        print('我没啥爱好。')\n",
    "    else:\n",
    "        print('我的爱好是{0}'.format(hobby))\n",
    "        \n",
    "    print('.' * 10)\n",
    "    \n",
    "    for i in args:\n",
    "        print(i)\n",
    "        \n",
    "    print('.' * 10)\n",
    "    \n",
    "    for k,v in kwargs.items():\n",
    "        print(k,'---',v)\n",
    "    \n",
    "# 调用1\n",
    "name = 'alex'\n",
    "age = 19\n",
    "\n",
    "stu(name,age)\n",
    "\n",
    "print('-' * 20) #大分割线 -----------------\n",
    "\n",
    "# 调用2\n",
    "\n",
    "stu(name,age,hobby='旅游',)\n",
    "\n",
    "print('-' * 20) #大分割线 -----------------\n",
    "\n",
    "# 调用3\n",
    "\n",
    "stu(name, age, 'kally', 'asina', hobby='旅游',hobby2='吃', hobby3='玩') # 普通参数值对应放入，其余的字符放入收集参数，=放入关键字收集参数\n",
    "\n"
   ]
  },
  {
   "cell_type": "markdown",
   "metadata": {},
   "source": [
    "###  收集参数的解包问题\n",
    "- 把参数放入list  或者字典中，直接把list 或者字典中的值放入收集参数中\n",
    "- 对dict 类型收集参数一样可以解包，但是对dict 进行解包，需要用两个星号\n"
   ]
  },
  {
   "cell_type": "code",
   "execution_count": 10,
   "metadata": {},
   "outputs": [
    {
     "name": "stdout",
     "output_type": "stream",
     "text": [
      "hahahaha\n",
      "kally\n",
      "john\n",
      "111\n",
      "99\n",
      "********************\n",
      "hahahaha\n",
      "['kally', 'john', 111, 99]\n",
      "hahahaha\n",
      "kally\n",
      "john\n",
      "111\n",
      "99\n"
     ]
    }
   ],
   "source": [
    "# 收集参数 解包示例\n",
    "def stu(*args):\n",
    "    print('hahahaha')\n",
    "    for i in args:\n",
    "        print(i)\n",
    "        \n",
    "stu('kally','john',111,99)    # 将多个参数放入带有收集参数的函数里\n",
    "\n",
    "print('*' * 20)\n",
    "\n",
    "l = ['kally','john',111,99]\n",
    "stu(l)                  #  放入一个列表的话，会打印整个列表\n",
    "stu(*l)                #  加上*  为解包符号，可以将列表内的多个值放入收集参数内"
   ]
  },
  {
   "cell_type": "markdown",
   "metadata": {},
   "source": [
    "## 返回值\n",
    "- 函数和过程的区别\n",
    "    - 有无返回值\n",
    "- 需要用return 显示返回内容\n",
    "- 如果没有返回，默认返回None \n",
    "- 无论有没有返回值，推荐最后都以return结束"
   ]
  },
  {
   "cell_type": "code",
   "execution_count": 17,
   "metadata": {},
   "outputs": [
    {
     "name": "stdout",
     "output_type": "stream",
     "text": [
      "这里有返回值\n",
      "1\n",
      "********************\n",
      "这里没有返回值\n",
      "None\n"
     ]
    }
   ],
   "source": [
    "#  返回值示例\n",
    "def f1():\n",
    "    print('这里有返回值')\n",
    "    return 1\n",
    "def f2():\n",
    "    print('这里没有返回值')\n",
    "    \n",
    "F1 = f1()\n",
    "print(F1)    # return 返回是1\n",
    "print('*' * 20)\n",
    "F2 = f2()\n",
    "print(F2)  # f2没有写返回值，但是默认是None"
   ]
  },
  {
   "cell_type": "markdown",
   "metadata": {},
   "source": []
  },
  {
   "cell_type": "markdown",
   "metadata": {},
   "source": [
    "###  函数文档\n",
    "    - 函数文档的作用是对当前函数他供是用相关的参考信息\n",
    "    - 文档的写法：在函数内部开始的第一行是用三引号进行定义\n",
    "    - 函数文档的查看：\n",
    "        · 使用help函数，例如： help(func_name)\n",
    "        · 使用_doc_\n",
    "     "
   ]
  },
  {
   "cell_type": "code",
   "execution_count": 4,
   "metadata": {},
   "outputs": [
    {
     "name": "stdout",
     "output_type": "stream",
     "text": [
      "Help on function stu in module __main__:\n",
      "\n",
      "stu(name, age, *args)\n",
      "    这里是文档的注释内容\n",
      "    :param name: 这里填写该函数参数1的描述\n",
      "    :param age: 这里填写该函数参数2的描述\n",
      "    :return: 这里填写返回值的描述\n",
      "\n",
      "--------------------\n"
     ]
    },
    {
     "data": {
      "text/plain": [
       "'\\n    这里是文档的注释内容\\n    :param name: 这里填写该函数参数1的描述\\n    :param age: 这里填写该函数参数2的描述\\n    :return: 这里填写返回值的描述\\n    '"
      ]
     },
     "execution_count": 4,
     "metadata": {},
     "output_type": "execute_result"
    }
   ],
   "source": [
    "# 函数文档使用示例 \n",
    "\n",
    "def stu(name, age, *args):\n",
    "    '''\n",
    "    这里是文档的注释内容\n",
    "    :param name: 这里填写该函数参数1的描述\n",
    "    :param age: 这里填写该函数参数2的描述\n",
    "    :return: 这里填写返回值的描述\n",
    "    '''\n",
    "    print('*函数帮助文档示例*')\n",
    "    \n",
    "    \n",
    "#查看函数帮助文档\n",
    "\n",
    "help(stu)\n",
    "\n",
    "print('-' * 20)\n",
    "\n",
    "stu.__doc__"
   ]
  }
 ],
 "metadata": {
  "kernelspec": {
   "display_name": "Python 3",
   "language": "python",
   "name": "python3"
  },
  "language_info": {
   "codemirror_mode": {
    "name": "ipython",
    "version": 3
   },
   "file_extension": ".py",
   "mimetype": "text/x-python",
   "name": "python",
   "nbconvert_exporter": "python",
   "pygments_lexer": "ipython3",
   "version": "3.6.4"
  }
 },
 "nbformat": 4,
 "nbformat_minor": 2
}
