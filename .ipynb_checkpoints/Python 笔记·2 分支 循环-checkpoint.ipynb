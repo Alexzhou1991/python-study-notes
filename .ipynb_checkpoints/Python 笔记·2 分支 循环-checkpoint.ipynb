{
 "cells": [
  {
   "cell_type": "markdown",
   "metadata": {},
   "source": [
    "\n",
    "    \n",
    "# 程序结构\n",
    "    - 顺序\n",
    "    - 分支\n",
    "    - 循环\n",
    "    \n",
    "## 分支\n",
    "    - 分支的基本语法\n",
    "        if 条件表达式：\n",
    "            语句1\n",
    "            语句2\n",
    "            语句3\n",
    "            。。。。。\n",
    "        条件表达式就是计算结果必须为布尔值的表达式\n",
    "        表达式后面必须带冒号"
   ]
  },
  {
   "cell_type": "code",
   "execution_count": 2,
   "metadata": {},
   "outputs": [
    {
     "name": "stdout",
     "output_type": "stream",
     "text": [
      "请输入年龄大小:17\n",
      "小崽子\n"
     ]
    }
   ],
   "source": [
    "#if 语句 练习\n",
    "#请输入年龄大小，大于18 ：你好，大孩子。小于18：小崽子\n",
    "age = int(input('请输入年龄大小:'))\n",
    "if age >=18:\n",
    "    print('你好，大孩子')\n",
    "else:\n",
    "    print('小崽子')"
   ]
  },
  {
   "cell_type": "markdown",
   "metadata": {},
   "source": [
    "### 双向分支\n",
    "    - if...else...语句\n",
    "    - 双向分支有两个分支，当程序执行到if...else...语句的时候，一定会执行if或者else中的一个，也只执行一个\n",
    "    - input 返回的内容一定是字符串类型\n"
   ]
  },
  {
   "cell_type": "code",
   "execution_count": 10,
   "metadata": {},
   "outputs": [
    {
     "name": "stdout",
     "output_type": "stream",
     "text": [
      "请输入性别：\n",
      "您输入的性别是：\n",
      "你是个妹子\n",
      "开始上课\n"
     ]
    }
   ],
   "source": [
    "gender = input('请输入性别：')\n",
    "print('您输入的性别是：{0}'.format(gender))\n",
    "\n",
    "if gender == 'nan':\n",
    "    print('你是个爷们')\n",
    "else:\n",
    "    print('你是个妹子')\n",
    "print('开始上课')"
   ]
  },
  {
   "cell_type": "code",
   "execution_count": 16,
   "metadata": {},
   "outputs": [
    {
     "name": "stdout",
     "output_type": "stream",
     "text": [
      "请输入分数1000\n",
      "A\n"
     ]
    }
   ],
   "source": [
    "#成绩判断\n",
    "\n",
    "score = int(input('请输入分数'))\n",
    "if score >= 90:\n",
    "    print('A')\n",
    "if score <90 and score >=80:\n",
    "    print('B')\n",
    "if score <80 and score >=70:\n",
    "    print('C')\n",
    "if score <70:\n",
    "    print('byebye!')"
   ]
  },
  {
   "cell_type": "markdown",
   "metadata": {},
   "source": [
    "### 多路分支\n",
    "    - 有很多分支情况，简称多路分支\n",
    "    - elif 可以无限多\n",
    "    - else 可以没有\n",
    "    - 多路分支只执行一个。\n",
    "    \n",
    "    \n",
    "## 循环语句\n",
    "    -重复执行某些基本固定的事务\n",
    "    -分类\n",
    "        for 循环\n",
    "        while 循环\n",
    "        \n",
    "### for 循环\n",
    "    for 变量 in 序列：\n",
    "        语句1\n",
    "        语句2\n",
    "        ...\n",
    "    列表循环\n",
    "    \n",
    "    当for循环结束的时候会执行else 语句（可选）\n",
    "        "
   ]
  },
  {
   "cell_type": "code",
   "execution_count": 6,
   "metadata": {},
   "outputs": [
    {
     "name": "stdout",
     "output_type": "stream",
     "text": [
      "xiaoli同学你好\n",
      "xiaozhang同学你好\n",
      "ergou同学你好\n",
      "你好，偶像liuxiang\n",
      "所有同学开始上课！！！\n"
     ]
    }
   ],
   "source": [
    "#打印学生列表姓名\n",
    "#如果是liuxiang ：世界冠军！  其他人BYEBYE !\n",
    "#最后所有同学上课！\n",
    "for name in ['xiaoli','xiaozhang','ergou','liuxiang',]:\n",
    "    \n",
    "    if name =='liuxiang':\n",
    "        print('你好，偶像{0}'.format(name))\n",
    "    else:\n",
    "        print('{0}同学你好'.format(name))\n",
    "else:\n",
    "    print('所有同学开始上课！！！')"
   ]
  },
  {
   "cell_type": "markdown",
   "metadata": {},
   "source": [
    "### 循环之 break ,contineu ,pass\n",
    "    -break:无条件结束整个循环（循环猝死）\n",
    "    -contineu : 无条件结束本次循环，从新进入下一轮循环\n",
    "    -pass :略过 一般用于占位\n",
    "    "
   ]
  },
  {
   "cell_type": "code",
   "execution_count": 17,
   "metadata": {},
   "outputs": [
    {
     "name": "stdout",
     "output_type": "stream",
     "text": [
      "1\n",
      "2\n",
      "3\n",
      "4\n",
      "5\n",
      "6\n",
      "7找到了！\n"
     ]
    }
   ],
   "source": [
    "#break 语句示例\n",
    "#寻找1到10 的数据，遇到 7 结束\n",
    "for i in range(1,11):\n",
    "    if i == 7:\n",
    "        print('7找到了！')\n",
    "        break\n",
    "    else:\n",
    "        print(i)"
   ]
  },
  {
   "cell_type": "code",
   "execution_count": 21,
   "metadata": {},
   "outputs": [
    {
     "name": "stdout",
     "output_type": "stream",
     "text": [
      "2是偶数！\n",
      "4是偶数！\n",
      "6是偶数！\n",
      "8是偶数！\n",
      "10是偶数！\n"
     ]
    }
   ],
   "source": [
    "#break 语句示例\n",
    "#打印1到10 中的 偶数\n",
    "\n",
    "for i in range(1,11):\n",
    "    if i % 2 == 1 :\n",
    "        continue\n",
    "    print('{0}是偶数！'.format(i))"
   ]
  },
  {
   "cell_type": "code",
   "execution_count": 25,
   "metadata": {},
   "outputs": [
    {
     "name": "stdout",
     "output_type": "stream",
     "text": [
      "略过\n",
      "略过\n",
      "略过\n",
      "略过\n",
      "略过\n",
      "略过\n",
      "略过\n",
      "略过\n",
      "略过\n",
      "略过\n"
     ]
    }
   ],
   "source": [
    "#pass 示例 \n",
    "\n",
    "for i in range(1,11):\n",
    "    pass\n",
    "    print('略过')"
   ]
  },
  {
   "cell_type": "markdown",
   "metadata": {},
   "source": [
    "### while 循环\n",
    "    - 一个循环语句\n",
    "    - 表示当某循环条件成立的时候进行循环\n",
    "    - 不知道循环的次数，但能确定循环成立条件的时候使用while循环\n",
    "    - while 循环语法：\n",
    "    \n",
    "        while 条件表达式:\n",
    "            语句\n",
    "            \n",
    "            \n",
    "        或者：\n",
    "        \n",
    "        while 条件表达式:\n",
    "            语句1\n",
    "        else:\n",
    "            语句2\n",
    "        \n",
    "    "
   ]
  },
  {
   "cell_type": "code",
   "execution_count": 29,
   "metadata": {},
   "outputs": [
    {
     "name": "stdout",
     "output_type": "stream",
     "text": [
      "第1年拿了106700.0块钱\n",
      "第2年拿了113848.9块钱\n",
      "第3年拿了121476.77629999998块钱\n",
      "第4年拿了129615.72031209998块钱\n",
      "第5年拿了138299.97357301068块钱\n",
      "第6年拿了147566.07180240238块钱\n",
      "第7年拿了157452.99861316333块钱\n",
      "第8年拿了168002.34952024528块钱\n",
      "第9年拿了179258.5069381017块钱\n",
      "第10年拿了191268.8269029545块钱\n",
      "第11年拿了204083.83830545243块钱\n",
      "本钱已经翻倍\n"
     ]
    }
   ],
   "source": [
    "# 假设年利率6.7% ， 本利是每年翻倍，则多少年后本钱会翻倍\n",
    "\n",
    "benqian = 100000\n",
    "year = 0\n",
    "while benqian < 200000:\n",
    "    benqian = benqian * (1+0.067)\n",
    "    year += 1 # year = year + 1\n",
    "    print('第{0}年拿了{1}块钱'.format(year,benqian))\n",
    "else:\n",
    "    print('本钱已经翻倍')\n",
    "    "
   ]
  },
  {
   "cell_type": "code",
   "execution_count": null,
   "metadata": {},
   "outputs": [],
   "source": []
  },
  {
   "cell_type": "code",
   "execution_count": null,
   "metadata": {},
   "outputs": [],
   "source": []
  },
  {
   "cell_type": "code",
   "execution_count": null,
   "metadata": {},
   "outputs": [],
   "source": []
  },
  {
   "cell_type": "code",
   "execution_count": null,
   "metadata": {},
   "outputs": [],
   "source": []
  }
 ],
 "metadata": {
  "kernelspec": {
   "display_name": "Python 3",
   "language": "python",
   "name": "python3"
  },
  "language_info": {
   "codemirror_mode": {
    "name": "ipython",
    "version": 3
   },
   "file_extension": ".py",
   "mimetype": "text/x-python",
   "name": "python",
   "nbconvert_exporter": "python",
   "pygments_lexer": "ipython3",
   "version": "3.6.4"
  }
 },
 "nbformat": 4,
 "nbformat_minor": 2
}
