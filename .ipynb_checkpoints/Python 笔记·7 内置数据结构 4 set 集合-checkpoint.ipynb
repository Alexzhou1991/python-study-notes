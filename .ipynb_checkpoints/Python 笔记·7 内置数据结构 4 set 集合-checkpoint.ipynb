{
 "cells": [
  {
   "cell_type": "markdown",
   "metadata": {},
   "source": [
    "# 集合- set \n",
    "    - 集合时候高中数学中的一个概念\n",
    "    - 一堆确定的无序的唯一的数据，集合中每一个数据成为一个元素"
   ]
  },
  {
   "cell_type": "code",
   "execution_count": 6,
   "metadata": {},
   "outputs": [
    {
     "name": "stdout",
     "output_type": "stream",
     "text": [
      "<class 'set'>\n",
      "<class 'dict'>\n",
      "<class 'set'>\n",
      "{1, 2, 3, 4, 5, 6}\n"
     ]
    }
   ],
   "source": [
    "# 创建集合\n",
    "s = {1,2,3,4,5,6}    # 大括号内要有值，如果大括号内没有值的话，创建出来的是dict 类型\n",
    "s1 = {}\n",
    "print(type(s))\n",
    "print(type(s1))\n",
    "\n",
    "s2 = set()      # 要创建空的集合，要用set赋值方式\n",
    "print(type(s2))    \n",
    "\n",
    "print(s)"
   ]
  },
  {
   "cell_type": "markdown",
   "metadata": {},
   "source": [
    "## 集合的特征\n",
    "    - 集合内数据无需，即无法索引和分片\n",
    "    - 集合内数据元素具有唯一性，可以用来排除重复数据\n",
    "    - 集合内的数据，str, int , float , tuple , 冻结集合等，及内部只能防止可哈希数据\n",
    "    - 集合本身不可哈希"
   ]
  },
  {
   "cell_type": "markdown",
   "metadata": {},
   "source": [
    "### 集合序列操作 \n",
    "    - 成员检测：in , not in \n",
    "    - 集合遍历操作"
   ]
  },
  {
   "cell_type": "code",
   "execution_count": 13,
   "metadata": {},
   "outputs": [
    {
     "name": "stdout",
     "output_type": "stream",
     "text": [
      "{'kally', 6, 9, 'john', 'halo'}\n",
      "yes\n"
     ]
    }
   ],
   "source": [
    "# 成员检测操作\n",
    "s = {9,6,'john','kally','halo'}\n",
    "print(s)           # 集合内的数据无序，打印出的结果与放入时的顺序不一致\n",
    "\n",
    "if 'john' in s:    # set 成员检测与list 一致\n",
    "    print('yes')\n",
    "else:\n",
    "    print('no')"
   ]
  },
  {
   "cell_type": "code",
   "execution_count": 16,
   "metadata": {},
   "outputs": [
    {
     "name": "stdout",
     "output_type": "stream",
     "text": [
      "kally 6 9 john halo "
     ]
    }
   ],
   "source": [
    "# 集合遍历操作\n",
    "s = {9,6,'john','kally','halo'}\n",
    "for i in s:\n",
    "    print(i,end=' ')"
   ]
  },
  {
   "cell_type": "code",
   "execution_count": 18,
   "metadata": {},
   "outputs": [
    {
     "name": "stdout",
     "output_type": "stream",
     "text": [
      "one --- two --- three\n",
      "7 --- 8 --- 9\n",
      "1 --- 2 --- 3\n",
      "('one', 'two', 'three')\n",
      "(7, 8, 9)\n",
      "(1, 2, 3)\n"
     ]
    }
   ],
   "source": [
    "# 带有元祖的遍历\n",
    "s = {(1,2,3),('one','two','three'),(7,8,9)}\n",
    "for k,m,n in s:\n",
    "    print(k,'---',m,'---',n)   # 多层遍历\n",
    "for k in s:\n",
    "    print(k)   # 单层遍历"
   ]
  },
  {
   "cell_type": "markdown",
   "metadata": {},
   "source": [
    "### 集合的内涵"
   ]
  },
  {
   "cell_type": "code",
   "execution_count": 23,
   "metadata": {},
   "outputs": [
    {
     "name": "stdout",
     "output_type": "stream",
     "text": [
      "{1, 34, 2, 12, 45, 23}\n",
      "{1, 34, 2, 12, 45, 23}\n",
      "{34, 2, 12}\n"
     ]
    }
   ],
   "source": [
    "# 普通集合内涵\n",
    "s = {12,23,34,45,1,2,2,1,1,2,2,}\n",
    "print(s)   # 集合在初始化之后自动过滤掉重复值\n",
    "\n",
    "ss = {i for i in s}     # 用集合创建集合\n",
    "print(ss)\n",
    "\n",
    "sss = {i for i in s if i % 2 == 0}   # 带条件的集合创建集合\n",
    "print(sss)"
   ]
  },
  {
   "cell_type": "code",
   "execution_count": 25,
   "metadata": {},
   "outputs": [
    {
     "name": "stdout",
     "output_type": "stream",
     "text": [
      "{'tomtomtomtom', 'johnjohnjohn', 'lalalalala', 'john', 'kkk', 'tomtomtomtomtom', 'johnjohnjohnjohn', 'kally', 'tomtomtom', 'kkkk', 'johnjohnjohnjohnjohn', 'tomtom', 'kallykallykallykally', 'lalalala', 'kallykally', 'k', 'lalala', 'kallykallykally', 'kallykallykallykallykally', 'lala', 'la', 'kkkkk', 'tom', 'kk', 'johnjohn'}\n",
      "{'tomtom', 'lala', 'kk', 'johnjohn', 'kallykally'}\n"
     ]
    }
   ],
   "source": [
    "# 多循环的集合内涵 \n",
    "s1 = {1,2,3,4,5}\n",
    "s2 = {'john','kally','tom','k','la'}\n",
    "s = {m*n for m in s2 for n in s1}\n",
    "print(s)\n",
    "\n",
    "s = {m*n for m in s2 for n in s1 if n == 2}\n",
    "print(s)"
   ]
  },
  {
   "cell_type": "markdown",
   "metadata": {},
   "source": [
    "## 集合的函数/关于集合的函数\n",
    "    - len,max,min  \n",
    "    - 跟其他基本函数一致\n",
    "    - add:向函数内添加元素\n",
    "    - clear:清空 \n",
    "    - copy 拷贝\n",
    "    - remove 移除指定的值\n",
    "    - discard 移除集合中指定的值\n",
    "    - pop 随机移除一个元素"
   ]
  },
  {
   "cell_type": "code",
   "execution_count": 32,
   "metadata": {},
   "outputs": [
    {
     "name": "stdout",
     "output_type": "stream",
     "text": [
      "{344, 1}\n",
      "set()\n"
     ]
    }
   ],
   "source": [
    "# add示例\n",
    "s = {1}\n",
    "s.add(344)  # 向集合内添加一个元素\n",
    "print(s)\n",
    "\n",
    "s.clear()\n",
    "print(s)   # 原地清空数据"
   ]
  },
  {
   "cell_type": "code",
   "execution_count": 34,
   "metadata": {},
   "outputs": [
    {
     "name": "stdout",
     "output_type": "stream",
     "text": [
      "{1, 2, 3, 4, 5, 6, 7, 8, 9}\n",
      "{1, 2, 3, 4, 6, 7, 8, 9}\n",
      "--------------------\n",
      "{1, 2, 3, 4, 6, 7, 8, 9}\n"
     ]
    },
    {
     "ename": "KeyError",
     "evalue": "888",
     "output_type": "error",
     "traceback": [
      "\u001b[1;31m---------------------------------------------------------------------------\u001b[0m",
      "\u001b[1;31mKeyError\u001b[0m                                  Traceback (most recent call last)",
      "\u001b[1;32m<ipython-input-34-f63e8d9d5248>\u001b[0m in \u001b[0;36m<module>\u001b[1;34m()\u001b[0m\n\u001b[0;32m     10\u001b[0m \u001b[0mprint\u001b[0m\u001b[1;33m(\u001b[0m\u001b[0ms\u001b[0m\u001b[1;33m)\u001b[0m\u001b[1;33m\u001b[0m\u001b[0m\n\u001b[0;32m     11\u001b[0m \u001b[1;33m\u001b[0m\u001b[0m\n\u001b[1;32m---> 12\u001b[1;33m \u001b[0ms\u001b[0m\u001b[1;33m.\u001b[0m\u001b[0mremove\u001b[0m\u001b[1;33m(\u001b[0m\u001b[1;36m888\u001b[0m\u001b[1;33m)\u001b[0m\u001b[1;33m\u001b[0m\u001b[0m\n\u001b[0m\u001b[0;32m     13\u001b[0m \u001b[0mprint\u001b[0m\u001b[1;33m(\u001b[0m\u001b[0ms\u001b[0m\u001b[1;33m)\u001b[0m\u001b[1;33m\u001b[0m\u001b[0m\n",
      "\u001b[1;31mKeyError\u001b[0m: 888"
     ]
    }
   ],
   "source": [
    "# remobe 和 discard 区别 \n",
    "s = {1,2,3,4,5,6,7,8,9}\n",
    "print(s)\n",
    "s.discard(5)\n",
    "print(s)\n",
    "\n",
    "print('-'*20) #--------分割线--------\n",
    "\n",
    "s.discard(999)  #  discard 一个不存在的值\n",
    "print(s)\n",
    "\n",
    "s.remove(888)   # remove一个不存在的值会报错\n",
    "print(s)"
   ]
  },
  {
   "cell_type": "code",
   "execution_count": 36,
   "metadata": {},
   "outputs": [
    {
     "name": "stdout",
     "output_type": "stream",
     "text": [
      "1\n",
      "{2, 3, 4, 5, 6, 7, 8}\n"
     ]
    }
   ],
   "source": [
    "#  pop 示例\n",
    "s = {1,2,3,4,5,6,7,8}\n",
    "d = s.pop()   # 移除一个元素，并赋值给d \n",
    "print(d)\n",
    "print(s)"
   ]
  },
  {
   "cell_type": "markdown",
   "metadata": {},
   "source": [
    "###  集合函数\n",
    "    - intersection :交集\n",
    "    - differrence ：差集\n",
    "    - union ： 并集\n",
    "    - issubset : 检查一个集合是否为另一个子集\n",
    "    - isssuperset : 检查一个集合是否为另一个超集\n",
    "    - "
   ]
  },
  {
   "cell_type": "code",
   "execution_count": 40,
   "metadata": {},
   "outputs": [
    {
     "name": "stdout",
     "output_type": "stream",
     "text": [
      "{5, 6, 7}\n",
      "{1, 2, 3, 4}\n",
      "False\n"
     ]
    }
   ],
   "source": [
    "# intersection :交集  示例\n",
    "s1 = {1,2,3,4,5,6,7}\n",
    "s2 = {5,6,7,8,9,0}\n",
    "i1 = s1.intersection(s2)    # 将s1 与 2s的交集赋值给s3 \n",
    "print(i1)\n",
    "\n",
    "i2 = s1.difference(s2)   # 将s1 与 s2 的差集赋值给s4 \n",
    "print(i2)\n",
    "\n",
    "i3 = s1.issubset(s2)   # 检查s1 是否为s2 的子集。结果为布尔值\n",
    "print(i3)"
   ]
  },
  {
   "cell_type": "code",
   "execution_count": 42,
   "metadata": {},
   "outputs": [
    {
     "name": "stdout",
     "output_type": "stream",
     "text": [
      "{1, 2, 3, 4}\n"
     ]
    },
    {
     "ename": "TypeError",
     "evalue": "unsupported operand type(s) for +: 'set' and 'set'",
     "output_type": "error",
     "traceback": [
      "\u001b[1;31m---------------------------------------------------------------------------\u001b[0m",
      "\u001b[1;31mTypeError\u001b[0m                                 Traceback (most recent call last)",
      "\u001b[1;32m<ipython-input-42-52920de4e94f>\u001b[0m in \u001b[0;36m<module>\u001b[1;34m()\u001b[0m\n\u001b[0;32m      6\u001b[0m \u001b[0mprint\u001b[0m\u001b[1;33m(\u001b[0m\u001b[0ms_1\u001b[0m\u001b[1;33m)\u001b[0m\u001b[1;33m\u001b[0m\u001b[0m\n\u001b[0;32m      7\u001b[0m \u001b[1;33m\u001b[0m\u001b[0m\n\u001b[1;32m----> 8\u001b[1;33m \u001b[0ms_2\u001b[0m \u001b[1;33m=\u001b[0m \u001b[0ms1\u001b[0m \u001b[1;33m+\u001b[0m \u001b[0ms2\u001b[0m\u001b[1;33m\u001b[0m\u001b[0m\n\u001b[0m\u001b[0;32m      9\u001b[0m \u001b[0mprint\u001b[0m\u001b[1;33m(\u001b[0m\u001b[0ms_2\u001b[0m\u001b[1;33m)\u001b[0m\u001b[1;33m\u001b[0m\u001b[0m\n",
      "\u001b[1;31mTypeError\u001b[0m: unsupported operand type(s) for +: 'set' and 'set'"
     ]
    }
   ],
   "source": [
    "# 集合的数学操作\n",
    "s1 = {1,2,3,4,5,6}\n",
    "s2 = {5,6,7,8,9}\n",
    "\n",
    "s_1 = s1 - s2     # 集合之间可以减法操作 ，即 用S1里减去S1与S2的交集\n",
    "print(s_1)\n",
    "\n",
    "s_2 = s1 + s2   #  集合之间无法加法操作 \n",
    "print(s_2)"
   ]
  },
  {
   "cell_type": "markdown",
   "metadata": {},
   "source": [
    "###  frozen set : 冰冻集合\n",
    "    - 冰冻集合就是不可以进行任何修改的集合\n",
    "    - frozenset 是一种特殊集合"
   ]
  },
  {
   "cell_type": "code",
   "execution_count": 43,
   "metadata": {},
   "outputs": [
    {
     "name": "stdout",
     "output_type": "stream",
     "text": [
      "<class 'frozenset'>\n",
      "frozenset()\n"
     ]
    }
   ],
   "source": [
    "# frozen 集合创建\n",
    "s = frozenset()\n",
    "print(type(s))\n",
    "print(s)\n"
   ]
  },
  {
   "cell_type": "code",
   "execution_count": null,
   "metadata": {},
   "outputs": [],
   "source": []
  },
  {
   "cell_type": "code",
   "execution_count": null,
   "metadata": {},
   "outputs": [],
   "source": []
  },
  {
   "cell_type": "code",
   "execution_count": null,
   "metadata": {},
   "outputs": [],
   "source": []
  },
  {
   "cell_type": "code",
   "execution_count": null,
   "metadata": {},
   "outputs": [],
   "source": []
  },
  {
   "cell_type": "code",
   "execution_count": null,
   "metadata": {},
   "outputs": [],
   "source": []
  },
  {
   "cell_type": "code",
   "execution_count": null,
   "metadata": {},
   "outputs": [],
   "source": []
  }
 ],
 "metadata": {
  "kernelspec": {
   "display_name": "Python 3",
   "language": "python",
   "name": "python3"
  },
  "language_info": {
   "codemirror_mode": {
    "name": "ipython",
    "version": 3
   },
   "file_extension": ".py",
   "mimetype": "text/x-python",
   "name": "python",
   "nbconvert_exporter": "python",
   "pygments_lexer": "ipython3",
   "version": "3.6.4"
  }
 },
 "nbformat": 4,
 "nbformat_minor": 2
}
