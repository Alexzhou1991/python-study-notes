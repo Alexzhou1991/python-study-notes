{
 "cells": [
  {
   "cell_type": "markdown",
   "metadata": {},
   "source": [
    "# 异常\n",
    "- 广义上的错误，分为错误和异常\n",
    "- 错误指的是可以人为避免\n",
    "- 异常是在语法跟逻辑正确的前提下出现的问题\n",
    "- 在Python里，异常是一个类，可以处理和使用\n",
    "- \n",
    "\n"
   ]
  },
  {
   "cell_type": "markdown",
   "metadata": {},
   "source": [
    "## 常见异常\n",
    "异常名称\t       描述\n",
    "BaseException   \t所有异常的基类\n",
    "SystemExit  \t    解释器请求退出\n",
    "KeyboardInterrupt  \t 用户中断执行(通常是输入^C)\n",
    "Exception\t       常规错误的基类\n",
    "StopIteration   \t迭代器没有更多的值\n",
    "GeneratorExit\t生成器(generator)发生异常来通知退出\n",
    "SystemExit\tPython 解释器请求退出\n",
    "StandardError\t所有的内建标准异常的基类\n",
    "ArithmeticError\t所有数值计算错误的基类\n",
    "FloatingPointError\t浮点计算错误\n",
    "OverflowError\t数值运算超出最大限制\n",
    "ZeroDivisionError\t除(或取模)零 (所有数据类型)\n",
    "AssertionError\t断言语句失败\n",
    "AttributeError\t对象没有这个属性\n",
    "EOFError\t没有内建输入,到达EOF 标记\n",
    "EnvironmentError\t操作系统错误的基类\n",
    "IOError\t输入/输出操作失败\n",
    "OSError\t操作系统错误\n",
    "WindowsError\t系统调用失败\n",
    "ImportError\t导入模块/对象失败\n",
    "KeyboardInterrupt\t用户中断执行(通常是输入^C)\n",
    "LookupError\t无效数据查询的基类\n",
    "IndexError\t序列中没有没有此索引(index)\n",
    "KeyError\t映射中没有这个键\n",
    "MemoryError\t内存溢出错误(对于Python 解释器不是致命的)\n",
    "NameError\t未声明/初始化对象 (没有属性)\n",
    "UnboundLocalError\t访问未初始化的本地变量\n",
    "ReferenceError\t弱引用(Weak reference)试图访问已经垃圾回收了的对象\n",
    "RuntimeError\t一般的运行时错误\n",
    "NotImplementedError\t尚未实现的方法\n",
    "SyntaxError\tPython 语法错误\n",
    "IndentationError\t缩进错误\n",
    "TabError\tTab 和空格混用\n",
    "SystemError\t一般的解释器系统错误\n",
    "TypeError\t对类型无效的操作\n",
    "ValueError\t传入无效的参数\n",
    "UnicodeError\tUnicode 相关的错误\n",
    "UnicodeDecodeError\tUnicode 解码时的错误\n",
    "UnicodeEncodeError\tUnicode 编码时错误\n",
    "UnicodeTranslateError\tUnicode 转换时错误\n",
    "Warning\t警告的基类\n",
    "DeprecationWarning\t关于被弃用的特征的警告\n",
    "FutureWarning\t关于构造将来语义会有改变的警告\n",
    "OverflowWarning\t旧的关于自动提升为长整型(long)的警告\n",
    "PendingDeprecationWarning\t关于特性将会被废弃的警告\n",
    "RuntimeWarning\t可疑的运行时行为(runtime behavior)的警告\n",
    "SyntaxWarning\t可疑的语法的警告\n",
    "UserWarning\t用户代码生成的警告"
   ]
  },
  {
   "cell_type": "markdown",
   "metadata": {},
   "source": [
    "## 异常处理\n",
    "- 不能保证程序永远正确运行\n",
    "- 但是，必须保证程序在最坏的情况下得到的问题能被妥善处理\n",
    "- python的异常处理模块全部语法为：\n",
    "\n",
    "        try:\n",
    "            尝试实现某个操作\n",
    "            如果没有出现异常，任务都可以完成\n",
    "            如果出现异常，将异常从当前代码块扔出去尝试解决异常\n",
    "            \n",
    "        except 异常类型1：\n",
    "            解决方案1 ，用于尝试在此处处理异常解决问题\n",
    "            \n",
    "        except 异常类型2：\n",
    "            解决方案1 ，用于尝试在此处处理异常解决问题\n",
    "            \n",
    "        except (异常类型3，异常类型4，，，，)\n",
    "            针对多个异常，使用相同的处理方式\n",
    "            \n",
    "        except:\n",
    "            解决方案：所有异常的解决方案\n",
    "            \n",
    "        else:\n",
    "            如果没有出现任何异常，将会执行此处代码\n",
    "            \n",
    "        finally:\n",
    "            不管有没有异常，都要执行的代码\n",
    "            \n",
    "- 流程\n",
    "    1. 执行try下面的语句\n",
    "    2. 如果出现异常，则在except 中查找对应异常并进行相应处理\n",
    "    3. 如果没有出现异常，则执行else语句\n",
    "    4. 最后不管有没有出现异常，都要执行finally语句\n",
    "\n",
    "\n"
   ]
  },
  {
   "cell_type": "code",
   "execution_count": 2,
   "metadata": {},
   "outputs": [
    {
     "name": "stdout",
     "output_type": "stream",
     "text": [
      "请输入数值：0\n"
     ]
    },
    {
     "ename": "ZeroDivisionError",
     "evalue": "division by zero",
     "output_type": "error",
     "traceback": [
      "\u001b[1;31m---------------------------------------------------------------------------\u001b[0m",
      "\u001b[1;31mZeroDivisionError\u001b[0m                         Traceback (most recent call last)",
      "\u001b[1;32m<ipython-input-2-c2631516b83c>\u001b[0m in \u001b[0;36m<module>\u001b[1;34m()\u001b[0m\n\u001b[0;32m      1\u001b[0m \u001b[1;31m# 简单异常\u001b[0m\u001b[1;33m\u001b[0m\u001b[1;33m\u001b[0m\u001b[0m\n\u001b[0;32m      2\u001b[0m \u001b[0mnum\u001b[0m \u001b[1;33m=\u001b[0m \u001b[0mint\u001b[0m\u001b[1;33m(\u001b[0m\u001b[0minput\u001b[0m\u001b[1;33m(\u001b[0m\u001b[1;34m'请输入数值：'\u001b[0m\u001b[1;33m)\u001b[0m\u001b[1;33m)\u001b[0m\u001b[1;33m\u001b[0m\u001b[0m\n\u001b[1;32m----> 3\u001b[1;33m \u001b[0mrst\u001b[0m \u001b[1;33m=\u001b[0m \u001b[1;36m100\u001b[0m\u001b[1;33m/\u001b[0m\u001b[0mnum\u001b[0m\u001b[1;33m\u001b[0m\u001b[0m\n\u001b[0m\u001b[0;32m      4\u001b[0m \u001b[0mprint\u001b[0m\u001b[1;33m(\u001b[0m\u001b[1;34m'计算结果是：{0}'\u001b[0m\u001b[1;33m.\u001b[0m\u001b[0mformat\u001b[0m\u001b[1;33m(\u001b[0m\u001b[0mrst\u001b[0m\u001b[1;33m)\u001b[0m\u001b[1;33m)\u001b[0m\u001b[1;33m\u001b[0m\u001b[0m\n",
      "\u001b[1;31mZeroDivisionError\u001b[0m: division by zero"
     ]
    }
   ],
   "source": [
    "# 简单异常 \n",
    "num = int(input('请输入数值：'))\n",
    "rst = 100/num\n",
    "print('计算结果是：{0}'.format(rst))"
   ]
  },
  {
   "cell_type": "code",
   "execution_count": 2,
   "metadata": {},
   "outputs": [
    {
     "name": "stdout",
     "output_type": "stream",
     "text": [
      "请输入数值：0\n",
      "你输入的数值有问题！\n"
     ]
    }
   ],
   "source": [
    "# 简单异常处理案例\n",
    "try:\n",
    "    num = int(input('请输入数值：'))\n",
    "    rst = 100/num\n",
    "    print('计算结果是：{0}'.format(rst))\n",
    "except:\n",
    "    print('你输入的数值有问题！')\n",
    "    exit()   # exit为退出程序\n",
    "    \n",
    "# 以上代码：\n",
    "# 第一行要求用户输入数值，第二行用10除以输入的数值\n",
    "# 当用户输入0的时候，由于0不能作为被除数，于是报错，直接跳转到except语句。第三行不再执行\n",
    "# 说明 ： 执行try 下的语句时，一旦报错，直接跳转到except，不再继续执行后面的内容"
   ]
  },
  {
   "cell_type": "code",
   "execution_count": 4,
   "metadata": {},
   "outputs": [
    {
     "name": "stdout",
     "output_type": "stream",
     "text": [
      "请输入数值：0\n",
      "你输入的数值有问题！\n",
      "division by zero\n"
     ]
    }
   ],
   "source": [
    "# 简单异常处理案例 2 \n",
    "# 给出提示信息\n",
    "try:\n",
    "    num = int(input('请输入数值：'))\n",
    "    rst = 100/num\n",
    "    print('计算结果是：{0}'.format(rst))\n",
    "# 出现异常后，把异常实例化，出现信息在实例里\n",
    "# 注意以下写法 !!!!!\n",
    "# 以下语句时捕获 ZeroDivisionError 异常并进行实例化\n",
    "except ZeroDivisionError as e:\n",
    "    print('你输入的数值有问题！')\n",
    "    print(e)  # 打印出异常的信息\n",
    "    exit()   # exit为退出程序"
   ]
  },
  {
   "cell_type": "code",
   "execution_count": 1,
   "metadata": {},
   "outputs": [
    {
     "name": "stdout",
     "output_type": "stream",
     "text": [
      "请输入数值：撒打算\n",
      "最后也不知道是什么错误\n",
      "invalid literal for int() with base 10: '撒打算'\n",
      "哈哈哈哈哈啊\n"
     ]
    }
   ],
   "source": [
    "# 异常处理 3 \n",
    "try:\n",
    "    num = int(input('请输入数值：'))\n",
    "    rst = 100/num\n",
    "    print('计算结果是：{0}'.format(rst))\n",
    "# 如果是多中erro的情况\n",
    "#  越具体的错误越往前放\n",
    "# 在异常的继承关系中，越是子类的异常，越要往前放\n",
    "\n",
    "# 在异常处理的时候，如果拦截到某个异常，则不再继续往下查看，直接进行下一个代码\n",
    "# 即有finally 则直接执行finally ，否则就执行下一个大的语句\n",
    "# 找到对应异常之后，则不再找其他异常\n",
    "except ZeroDivisionError as e:\n",
    "    print('你输入的数值有问题！')\n",
    "    print(e)\n",
    "    exit()   # exit为退出程序\n",
    "except NameError as e:\n",
    "    print('这里有个NameErro')\n",
    "    print(e)\n",
    "    exit()\n",
    "except AttributeError as e:\n",
    "    print('这里还有个AttributeError')\n",
    "    print(e)\n",
    "    exit\n",
    "# 所有的异常都继承自Exception \n",
    "# 如果写了下面的代码，任何异常都会拦截住\n",
    "# 而且，Exception 一定是最后一个except\n",
    "except Exception as e:\n",
    "    print('最后也不知道是什么错误')\n",
    "    print(e)\n",
    "    exit()\n",
    "except ValueError as e:      # 此段代码没有意义，因为上面的Exception 已经拦截所有的错误，不会再执行此段代码\n",
    "    print('要输入数字！')   \n",
    "    print(e)\n",
    "\n",
    "\n",
    "print('哈哈哈哈哈啊')"
   ]
  },
  {
   "cell_type": "markdown",
   "metadata": {},
   "source": [
    "## 用户手动引发异常\n",
    "\n",
    "- 当某些情况，用户希望自己引发一个异常的时候，可以使用\n",
    "- raise 关键字来引发异常\n"
   ]
  },
  {
   "cell_type": "code",
   "execution_count": 1,
   "metadata": {},
   "outputs": [
    {
     "name": "stdout",
     "output_type": "stream",
     "text": [
      "这是第一句\n",
      "这是第二句\n",
      "出现了ValueError\n",
      "完了完了，这是finally\n"
     ]
    }
   ],
   "source": [
    "# raise 案例-1\n",
    "try:\n",
    "    print('这是第一句')\n",
    "    print('这是第二句')\n",
    "    raise ValueError       # 这里手动引发一个异常\n",
    "    print('这是第三句')\n",
    "except NameError as e:\n",
    "    print('出现了NameError')\n",
    "except ValueError as e:\n",
    "    print('出现了ValueError')\n",
    "except Exception as e:\n",
    "    print('有个不知道什么异常')\n",
    "finally:\n",
    "    print('完了完了，这是finally')"
   ]
  },
  {
   "cell_type": "code",
   "execution_count": 2,
   "metadata": {},
   "outputs": [
    {
     "name": "stdout",
     "output_type": "stream",
     "text": [
      "这是第一句\n",
      "这是第二句\n",
      "出现了ValueError\n",
      "完了完了，这是finally\n"
     ]
    }
   ],
   "source": [
    "# raise 案例-2\n",
    "# 自己定义一个异常\n",
    "class SbError(ValueError):\n",
    "    pass\n",
    "try:\n",
    "    print('这是第一句')\n",
    "    print('这是第二句')\n",
    "    raise SbError       # 这里手动引发一个异常\n",
    "    print('这是第三句')\n",
    "except NameError as e:\n",
    "    print('出现了NameError')\n",
    "except ValueError as e:      # ValueError是SbError 的父类，没有查找到SbError 则使用父类\n",
    "    print('出现了ValueError')\n",
    "except Exception as e:\n",
    "    print('有个不知道什么异常')\n",
    "finally:\n",
    "    print('完了完了，这是finally')"
   ]
  },
  {
   "cell_type": "code",
   "execution_count": 4,
   "metadata": {},
   "outputs": [
    {
     "name": "stdout",
     "output_type": "stream",
     "text": [
      "请输入数值：0\n",
      "出错了\n",
      "这是finally语句下的代码\n"
     ]
    }
   ],
   "source": [
    "# else 案例\n",
    "try:\n",
    "    num = int(input('请输入数值：'))\n",
    "    rst = 100/num\n",
    "    print('计算结果是：{0}'.format(rst))\n",
    "except Exception as e:\n",
    "    print('出错了')\n",
    "else:         # 如果没有出现异常才会执行下面的语句，有出现异常则不执行\n",
    "    print('这是else语句下的代码')\n",
    "finally:    # 不管有没有异常都要执行的语句\n",
    "    print('这是finally语句下的代码')"
   ]
  },
  {
   "cell_type": "markdown",
   "metadata": {},
   "source": [
    "## 关于自定义异常\n",
    "- 只要是raise 异常，推荐自定义异常\n",
    "- 自定义异常的时候，一般包含以下内容：\n",
    "    1. 自定义发生异常的异常代码\n",
    "    2. 自定义发生异常后的问题提示\n",
    "    3. 自定义发生异常的行数\n",
    "- 最终的目的是，一旦发生异常，方便程序员快速定位错误现场"
   ]
  },
  {
   "cell_type": "code",
   "execution_count": null,
   "metadata": {},
   "outputs": [],
   "source": []
  },
  {
   "cell_type": "code",
   "execution_count": null,
   "metadata": {},
   "outputs": [],
   "source": []
  }
 ],
 "metadata": {
  "kernelspec": {
   "display_name": "Python 3",
   "language": "python",
   "name": "python3"
  },
  "language_info": {
   "codemirror_mode": {
    "name": "ipython",
    "version": 3
   },
   "file_extension": ".py",
   "mimetype": "text/x-python",
   "name": "python",
   "nbconvert_exporter": "python",
   "pygments_lexer": "ipython3",
   "version": "3.6.5"
  }
 },
 "nbformat": 4,
 "nbformat_minor": 2
}
