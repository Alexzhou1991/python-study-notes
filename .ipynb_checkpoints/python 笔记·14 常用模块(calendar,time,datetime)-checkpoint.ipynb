{
 "cells": [
  {
   "cell_type": "markdown",
   "metadata": {},
   "source": [
    "# 常用模块\n",
    "- calendar\n",
    "- time\n",
    "- datatime\n",
    "- timeit\n",
    "- os\n",
    "- shutil\n",
    "- zip\n",
    "- math\n",
    "- string\n",
    "\n",
    "- 以上模块的使用，理论上应该先导入， string 是特例\n",
    "- calendar time datatime 的区别参考中文意思\n"
   ]
  },
  {
   "cell_type": "markdown",
   "metadata": {},
   "source": [
    "## calendar\n",
    "- 跟日历相关的模块"
   ]
  },
  {
   "cell_type": "code",
   "execution_count": 7,
   "metadata": {},
   "outputs": [
    {
     "name": "stdout",
     "output_type": "stream",
     "text": [
      "<class 'str'>\n",
      "                              2017\n",
      "\n",
      "      January               February               March\n",
      "Mo Tu We Th Fr Sa Su  Mo Tu We Th Fr Sa Su  Mo Tu We Th Fr Sa Su\n",
      "                   1         1  2  3  4  5         1  2  3  4  5\n",
      " 2  3  4  5  6  7  8   6  7  8  9 10 11 12   6  7  8  9 10 11 12\n",
      " 9 10 11 12 13 14 15  13 14 15 16 17 18 19  13 14 15 16 17 18 19\n",
      "16 17 18 19 20 21 22  20 21 22 23 24 25 26  20 21 22 23 24 25 26\n",
      "23 24 25 26 27 28 29  27 28                 27 28 29 30 31\n",
      "30 31\n",
      "\n",
      "       April                  May                   June\n",
      "Mo Tu We Th Fr Sa Su  Mo Tu We Th Fr Sa Su  Mo Tu We Th Fr Sa Su\n",
      "                1  2   1  2  3  4  5  6  7            1  2  3  4\n",
      " 3  4  5  6  7  8  9   8  9 10 11 12 13 14   5  6  7  8  9 10 11\n",
      "10 11 12 13 14 15 16  15 16 17 18 19 20 21  12 13 14 15 16 17 18\n",
      "17 18 19 20 21 22 23  22 23 24 25 26 27 28  19 20 21 22 23 24 25\n",
      "24 25 26 27 28 29 30  29 30 31              26 27 28 29 30\n",
      "\n",
      "        July                 August              September\n",
      "Mo Tu We Th Fr Sa Su  Mo Tu We Th Fr Sa Su  Mo Tu We Th Fr Sa Su\n",
      "                1  2      1  2  3  4  5  6               1  2  3\n",
      " 3  4  5  6  7  8  9   7  8  9 10 11 12 13   4  5  6  7  8  9 10\n",
      "10 11 12 13 14 15 16  14 15 16 17 18 19 20  11 12 13 14 15 16 17\n",
      "17 18 19 20 21 22 23  21 22 23 24 25 26 27  18 19 20 21 22 23 24\n",
      "24 25 26 27 28 29 30  28 29 30 31           25 26 27 28 29 30\n",
      "31\n",
      "\n",
      "      October               November              December\n",
      "Mo Tu We Th Fr Sa Su  Mo Tu We Th Fr Sa Su  Mo Tu We Th Fr Sa Su\n",
      "                   1         1  2  3  4  5               1  2  3\n",
      " 2  3  4  5  6  7  8   6  7  8  9 10 11 12   4  5  6  7  8  9 10\n",
      " 9 10 11 12 13 14 15  13 14 15 16 17 18 19  11 12 13 14 15 16 17\n",
      "16 17 18 19 20 21 22  20 21 22 23 24 25 26  18 19 20 21 22 23 24\n",
      "23 24 25 26 27 28 29  27 28 29 30           25 26 27 28 29 30 31\n",
      "30 31\n",
      "\n"
     ]
    }
   ],
   "source": [
    "# calendar 案例\n",
    "# calendar 获取一年的日历字符串\n",
    "# 参数：\n",
    "# w = 每个日期之间的间隔字符数\n",
    "# l = 每周所占用的行数\n",
    "# c = 每个月之间的间隔字符数\n",
    "import calendar\n",
    "cal = calendar.calendar(2017,w=0,l=0,c=0)   # 调整三个参数可以让日历更紧凑一些，可以不填写参数。\n",
    "print(type(cal))    #  通过打印cal的类型得知这是一个字符串\n",
    "print(cal)\n"
   ]
  },
  {
   "cell_type": "code",
   "execution_count": 8,
   "metadata": {},
   "outputs": [
    {
     "name": "stdout",
     "output_type": "stream",
     "text": [
      "True\n",
      "False\n"
     ]
    }
   ],
   "source": [
    "# isleap： 判断某一年是否是闰年\n",
    "# is开头函数，一般都表示判断，以布尔值形式返回\n",
    "a = calendar.isleap(2000)\n",
    "b = calendar.isleap(2018)\n",
    "print(a)\n",
    "print(b)"
   ]
  },
  {
   "cell_type": "code",
   "execution_count": 9,
   "metadata": {},
   "outputs": [
    {
     "data": {
      "text/plain": [
       "5"
      ]
     },
     "execution_count": 9,
     "metadata": {},
     "output_type": "execute_result"
    }
   ],
   "source": [
    "# leapdays: 获取指定年份之间的闰年个数\n",
    "calendar.leapdays(2000,2018)  # 需要两个年份作为参数"
   ]
  },
  {
   "cell_type": "code",
   "execution_count": 10,
   "metadata": {},
   "outputs": [
    {
     "name": "stdout",
     "output_type": "stream",
     "text": [
      "Help on function leapdays in module calendar:\n",
      "\n",
      "leapdays(y1, y2)\n",
      "    Return number of leap years in range [y1, y2).\n",
      "    Assume y1 <= y2.\n",
      "\n"
     ]
    }
   ],
   "source": [
    "help(calendar.leapdays)"
   ]
  },
  {
   "cell_type": "code",
   "execution_count": 13,
   "metadata": {},
   "outputs": [
    {
     "name": "stdout",
     "output_type": "stream",
     "text": [
      "    August 2008\n",
      "Mo Tu We Th Fr Sa Su\n",
      "             1  2  3\n",
      " 4  5  6  7  8  9 10\n",
      "11 12 13 14 15 16 17\n",
      "18 19 20 21 22 23 24\n",
      "25 26 27 28 29 30 31\n",
      "\n"
     ]
    }
   ],
   "source": [
    "# month() ： 获取某个月日历的字符串\n",
    "# 格式：calendar.month(年,月)\n",
    "# 回值：月日历的字符串\n",
    "mon = calendar.month(2008,8)\n",
    "print(mon)"
   ]
  },
  {
   "cell_type": "code",
   "execution_count": 19,
   "metadata": {},
   "outputs": [
    {
     "name": "stdout",
     "output_type": "stream",
     "text": [
      "(2, 31)\n",
      "********************\n",
      "2\n",
      "31\n",
      "********************\n",
      "Help on function monthrange in module calendar:\n",
      "\n",
      "monthrange(year, month)\n",
      "    Return weekday (0-6 ~ Mon-Sun) and number of days (28-31) for\n",
      "    year, month.\n",
      "\n"
     ]
    }
   ],
   "source": [
    "# monthrange() ：获取一个月的周几开始和天数\n",
    "# 格式：calendar.monthrange(年,月)\n",
    "# 回值：元祖（周几开始,天数）\n",
    "# 注意： 周默认 0-6   用来表示周一到周天\n",
    "t = calendar.monthrange(2018,8)\n",
    "print(t)  # 返回的数值\n",
    "print('*' * 20) #-----------分割线-------------\n",
    "a,b = calendar.monthrange(2018,8)\n",
    "print(a)     # 返回的数值是两个，所以可以用两个变量进行接收\n",
    "print(b)\n",
    "print('*' * 20) #-----------分割线-------------\n",
    "help(calendar.monthrange)"
   ]
  },
  {
   "cell_type": "code",
   "execution_count": 24,
   "metadata": {},
   "outputs": [
    {
     "name": "stdout",
     "output_type": "stream",
     "text": [
      "<class 'list'>\n",
      "[[0, 0, 1, 2, 3, 4, 5], [6, 7, 8, 9, 10, 11, 12], [13, 14, 15, 16, 17, 18, 19], [20, 21, 22, 23, 24, 25, 26], [27, 28, 29, 30, 31, 0, 0]]\n"
     ]
    }
   ],
   "source": [
    "# monthcalendar() 返回一个月每天的矩阵列表\n",
    "# 格式: calendar.monthcalendar(年,月)\n",
    "# 回值：二级嵌套列表\n",
    "# 注意：矩阵中，没有的天数用 0 表示\n",
    "m = calendar.monthcalendar(2018,8)\n",
    "print(type(m))\n",
    "print(m)"
   ]
  },
  {
   "cell_type": "code",
   "execution_count": 8,
   "metadata": {},
   "outputs": [
    {
     "name": "stdout",
     "output_type": "stream",
     "text": [
      "Help on method pryear in module calendar:\n",
      "\n",
      "pryear(theyear, w=0, l=0, c=6, m=3) method of calendar.TextCalendar instance\n",
      "    Print a year's calendar.\n",
      "\n",
      "                                  2018\n",
      "\n",
      "      January                   February                   March\n",
      "Mo Tu We Th Fr Sa Su      Mo Tu We Th Fr Sa Su      Mo Tu We Th Fr Sa Su\n",
      " 1  2  3  4  5  6  7                1  2  3  4                1  2  3  4\n",
      " 8  9 10 11 12 13 14       5  6  7  8  9 10 11       5  6  7  8  9 10 11\n",
      "15 16 17 18 19 20 21      12 13 14 15 16 17 18      12 13 14 15 16 17 18\n",
      "22 23 24 25 26 27 28      19 20 21 22 23 24 25      19 20 21 22 23 24 25\n",
      "29 30 31                  26 27 28                  26 27 28 29 30 31\n",
      "\n",
      "       April                      May                       June\n",
      "Mo Tu We Th Fr Sa Su      Mo Tu We Th Fr Sa Su      Mo Tu We Th Fr Sa Su\n",
      "                   1          1  2  3  4  5  6                   1  2  3\n",
      " 2  3  4  5  6  7  8       7  8  9 10 11 12 13       4  5  6  7  8  9 10\n",
      " 9 10 11 12 13 14 15      14 15 16 17 18 19 20      11 12 13 14 15 16 17\n",
      "16 17 18 19 20 21 22      21 22 23 24 25 26 27      18 19 20 21 22 23 24\n",
      "23 24 25 26 27 28 29      28 29 30 31               25 26 27 28 29 30\n",
      "30\n",
      "\n",
      "        July                     August                  September\n",
      "Mo Tu We Th Fr Sa Su      Mo Tu We Th Fr Sa Su      Mo Tu We Th Fr Sa Su\n",
      "                   1             1  2  3  4  5                      1  2\n",
      " 2  3  4  5  6  7  8       6  7  8  9 10 11 12       3  4  5  6  7  8  9\n",
      " 9 10 11 12 13 14 15      13 14 15 16 17 18 19      10 11 12 13 14 15 16\n",
      "16 17 18 19 20 21 22      20 21 22 23 24 25 26      17 18 19 20 21 22 23\n",
      "23 24 25 26 27 28 29      27 28 29 30 31            24 25 26 27 28 29 30\n",
      "30 31\n",
      "\n",
      "      October                   November                  December\n",
      "Mo Tu We Th Fr Sa Su      Mo Tu We Th Fr Sa Su      Mo Tu We Th Fr Sa Su\n",
      " 1  2  3  4  5  6  7                1  2  3  4                      1  2\n",
      " 8  9 10 11 12 13 14       5  6  7  8  9 10 11       3  4  5  6  7  8  9\n",
      "15 16 17 18 19 20 21      12 13 14 15 16 17 18      10 11 12 13 14 15 16\n",
      "22 23 24 25 26 27 28      19 20 21 22 23 24 25      17 18 19 20 21 22 23\n",
      "29 30 31                  26 27 28 29 30            24 25 26 27 28 29 30\n",
      "                                                    31\n",
      "\n"
     ]
    }
   ],
   "source": [
    "# prcal : print calendar  直接打印日历\n",
    "help(calendar.prcal)\n",
    "calendar.prcal(2018)"
   ]
  },
  {
   "cell_type": "code",
   "execution_count": 28,
   "metadata": {},
   "outputs": [
    {
     "name": "stdout",
     "output_type": "stream",
     "text": [
      "    August 2018\n",
      "Mo Tu We Th Fr Sa Su\n",
      "       1  2  3  4  5\n",
      " 6  7  8  9 10 11 12\n",
      "13 14 15 16 17 18 19\n",
      "20 21 22 23 24 25 26\n",
      "27 28 29 30 31\n"
     ]
    }
   ],
   "source": [
    "# prmonth()  ： print month 直接打印整个月的日历\n",
    "# 格式： calendar.prmonth(年,月)\n",
    "# 返回值：无\n",
    "calendar.prmonth(2018,8)"
   ]
  },
  {
   "cell_type": "code",
   "execution_count": 30,
   "metadata": {},
   "outputs": [
    {
     "data": {
      "text/plain": [
       "2"
      ]
     },
     "execution_count": 30,
     "metadata": {},
     "output_type": "execute_result"
    }
   ],
   "source": [
    "# weekday() 获取一个日期的周几\n",
    "# 格式：calendar.weekday(年,月,日)\n",
    "# 返回值：周几对应的数字\n",
    "calendar.weekday(2018,7,4)\n",
    "# 周几为0-6 表示 0 为周一，6为周天"
   ]
  },
  {
   "cell_type": "markdown",
   "metadata": {},
   "source": [
    "## time 模块\n",
    "\n",
    "- 时间戳\n",
    "    - 一个时间表示，根据不同语言，可以是整数或者是浮点数\n",
    "    - 是从1970年1月1日0时0分0秒 到现在经历的秒数\n",
    "    - 如果表示的时间时1970年以前或者是太遥远的未来，可能出现异常\n",
    "    - 32位操作系统能够支持到2038年\n",
    "\n",
    "- UTC时间 \n",
    "    - UTC时间又称为世界协调时间，以英国的格林尼治天文台所在地区的时间作为参考的时间，也叫做世界标准时间\n",
    "    - 中国的时间是 UTC+8 东八区\n",
    "    \n",
    "- 夏令时\n",
    "    - 夏令时就是在夏天的时候，将时间调快一个小时，本意是督促大家早睡早起节省照明。\n",
    "    - \n",
    "    \n",
    "- 时间元组\n",
    "    - 一个包含时间内容的普通元组\n",
    "    \n",
    "            序号     字段\t   属性      值\n",
    "            0    \t4位数年\t tm_year    2008\n",
    "            1\t      月    \t tm_mon\t    1 到 12\n",
    "            2\t      日     tm_mday \t1 到 31\n",
    "            3\t     小时\t    tm_hour    0 到 23\n",
    "            4\t     分钟   \ttm_min     0到59\n",
    "            5      \t  秒   \t tm_sec     0到61 (60或61 是闰秒)\n",
    "            6\t     周几   \ttm_wday     0到6 (0是周一)\n",
    "            7\t     第几天 \ttm_yday     1到366 (儒略历)\n",
    "            8\t     夏令时\ttm_isdst    -1, 0, 1, -1是决定是否为夏令时的旗帜\n",
    "            \n",
    "            \n",
    "            "
   ]
  },
  {
   "cell_type": "code",
   "execution_count": 31,
   "metadata": {},
   "outputs": [],
   "source": [
    "# time 模块示例 \n",
    "# 需要单独导入模块\n",
    "import time"
   ]
  },
  {
   "cell_type": "code",
   "execution_count": 33,
   "metadata": {},
   "outputs": [
    {
     "name": "stdout",
     "output_type": "stream",
     "text": [
      "-28800\n"
     ]
    }
   ],
   "source": [
    "# 时间模块的属性   \n",
    "# timezone : 当前时间和UTC时间相差的秒数，在没有夏令时情况下的间隔\n",
    "# altzone : 前时间和UTC时间相差的秒数，在有夏令时情况下的间隔\n",
    "# daylight : 测当前是否是在夏令时的状态\n",
    "print(time.timezone)\n"
   ]
  },
  {
   "cell_type": "code",
   "execution_count": 43,
   "metadata": {},
   "outputs": [
    {
     "data": {
      "text/plain": [
       "1530641619.6758237"
      ]
     },
     "execution_count": 43,
     "metadata": {},
     "output_type": "execute_result"
    }
   ],
   "source": [
    "# 得到时间戳\n",
    "time.time()\n"
   ]
  },
  {
   "cell_type": "code",
   "execution_count": 44,
   "metadata": {},
   "outputs": [
    {
     "name": "stdout",
     "output_type": "stream",
     "text": [
      "time.struct_time(tm_year=2018, tm_mon=7, tm_mday=4, tm_hour=2, tm_min=13, tm_sec=47, tm_wday=2, tm_yday=185, tm_isdst=0)\n",
      "2\n",
      "<class 'time.struct_time'>\n"
     ]
    }
   ],
   "source": [
    "# localtime : 得到当前时间的时间结构\n",
    "# 可以通过点操作符得到相应的属性元素的内容\n",
    "t = time.localtime()\n",
    "print(t)\n",
    "print(t.tm_hour)  # 获取当前时间的小时\n",
    "print(type(t))"
   ]
  },
  {
   "cell_type": "code",
   "execution_count": 46,
   "metadata": {},
   "outputs": [
    {
     "name": "stdout",
     "output_type": "stream",
     "text": [
      "time.struct_time(tm_year=2018, tm_mon=7, tm_mday=4, tm_hour=2, tm_min=18, tm_sec=36, tm_wday=2, tm_yday=185, tm_isdst=0)\n",
      "Wed Jul  4 02:18:36 2018\n",
      "<class 'str'>\n"
     ]
    }
   ],
   "source": [
    "# asctime() : 返回元组的正常字符串化之后的时间格式\n",
    "# 格式  time.asctime(时间元组)\n",
    "# 返回值：字符串 \n",
    "t = time.localtime()   # t的内容是元组格式\n",
    "tt = time.asctime(t)  # 使用sectime 来将时间字符串化\n",
    "print(t)\n",
    "print(tt)\n",
    "print(type(tt))"
   ]
  },
  {
   "cell_type": "code",
   "execution_count": 47,
   "metadata": {},
   "outputs": [
    {
     "name": "stdout",
     "output_type": "stream",
     "text": [
      "Wed Jul  4 02:20:16 2018\n",
      "<class 'str'>\n"
     ]
    }
   ],
   "source": [
    "# ctime : 获取字符串化的当前时间\n",
    "t = time.ctime()\n",
    "print(t)\n",
    "print(type(t))"
   ]
  },
  {
   "cell_type": "code",
   "execution_count": 50,
   "metadata": {},
   "outputs": [
    {
     "name": "stdout",
     "output_type": "stream",
     "text": [
      "1530642318.0\n",
      "<class 'float'>\n"
     ]
    }
   ],
   "source": [
    "# mktime() ：使用时间元组获取对应的时间戳\n",
    "# 格式： time.mktime(时间元组)\n",
    "# 返回值：浮点数时间戳\n",
    "lt = time.localtime()  # 此时lt获取到的是时间元组\n",
    "ts = time.mktime(lt)  # 用mktime 获取元组的时间戳\n",
    "print(ts)\n",
    "print(type(ts))"
   ]
  },
  {
   "cell_type": "code",
   "execution_count": 51,
   "metadata": {},
   "outputs": [],
   "source": [
    "# clock ： 获取CPU时间  Python 3.0-3.3直接使用，3.6调用有问题\n",
    "# "
   ]
  },
  {
   "cell_type": "code",
   "execution_count": 53,
   "metadata": {},
   "outputs": [
    {
     "name": "stdout",
     "output_type": "stream",
     "text": [
      "0\n",
      "1\n",
      "2\n",
      "3\n",
      "4\n",
      "5\n",
      "6\n",
      "7\n",
      "8\n",
      "9\n"
     ]
    }
   ],
   "source": [
    "# sleep : 使程序进入睡眠，n 秒后继续\n",
    "for i in range(0,10):\n",
    "    print(i)\n",
    "    time.sleep(1)  # 每打印完一次休息一秒钟"
   ]
  },
  {
   "cell_type": "markdown",
   "metadata": {},
   "source": [
    "### strftime\n",
    "- 将时间元组转化为自定义的字符串格式\n",
    "\n",
    "\n",
    "%y   两位数的年份表示（00-99）\n",
    "%Y   四位数的年份表示（000-9999）\n",
    "%m   月份（01-12）\n",
    "%d   月内中的一天（0-31）\n",
    "%H   24小时制小时数（0-23）\n",
    "%I   12小时制小时数（01-12）\n",
    "%M   分钟数（00=59）\n",
    "%S   秒（00-59）\n",
    "%a   本地简化星期名称\n",
    "%A   本地完整星期名称\n",
    "%b   本地简化的月份名称\n",
    "%B   本地完整的月份名称\n",
    "%c   本地相应的日期表示和时间表示\n",
    "%j   年内的一天（001-366）\n",
    "%p   本地A.M.或P.M.的等价符\n",
    "%U   一年中的星期数（00-53）星期天为星期的开始\n",
    "%w   星期（0-6），星期天为星期的开始\n",
    "%W   一年中的星期数（00-53）星期一为星期的开始\n",
    "%x   本地相应的日期表示\n",
    "%X   本地相应的时间表示\n",
    "%Z   当前时区的名称\n",
    "%%   %号本身"
   ]
  },
  {
   "cell_type": "code",
   "execution_count": null,
   "metadata": {},
   "outputs": [],
   "source": [
    "# 把时间表示成：2018年7月5日 00:02\n",
    "import time\n",
    "t = time.localtime()\n",
    "print(t)\n",
    "tf = time.strftime('现在是%Y年%m月%d日 %H:5M',t)\n",
    "print(tf)\n"
   ]
  },
  {
   "cell_type": "markdown",
   "metadata": {},
   "source": [
    "## datetime 模块\n",
    "- datetime 提供日期和时间的运算和表示\n",
    "- "
   ]
  },
  {
   "cell_type": "code",
   "execution_count": 25,
   "metadata": {},
   "outputs": [
    {
     "name": "stdout",
     "output_type": "stream",
     "text": [
      "<class 'datetime.date'>\n",
      "2018-03-08\n",
      "2018\n",
      "8\n",
      "3\n"
     ]
    }
   ],
   "source": [
    "# datetime 示例\n",
    "import datetime\n",
    "\n",
    "# datetime 常见属性\n",
    "# datetime.date : 一个理想和的日期，提供year ， month , day 属性\n",
    "dt = datetime.date(2018,3,8)\n",
    "print(type(dt))\n",
    "print(dt)\n",
    "print(dt.year)\n",
    "print(dt.day)\n",
    "print(dt.month)"
   ]
  },
  {
   "cell_type": "code",
   "execution_count": null,
   "metadata": {},
   "outputs": [],
   "source": [
    "# datetime.time : 提供一个理想和的时间，提供hour,minte,sec,microsec"
   ]
  },
  {
   "cell_type": "code",
   "execution_count": 32,
   "metadata": {},
   "outputs": [
    {
     "name": "stdout",
     "output_type": "stream",
     "text": [
      "2018-07-05 01:23:47.730875\n",
      "2018-07-05 01:23:47.730875\n",
      "2018-07-05 01:23:47.730875\n"
     ]
    }
   ],
   "source": [
    "# datetime.datetime : 提供日期跟时间的组合\n",
    "# 常用类方法：\n",
    "# today\n",
    "# now\n",
    "# utcnow\n",
    "# fromtimestamp : 从时间戳中返回本地时间\n",
    "\n",
    "from datetime import datetime\n",
    "dt = datetime(2018,2,9)\n",
    "print(dt.today())\n",
    "print(dt.now())\n",
    "print(dt.fromtimestamp(time.time()))"
   ]
  },
  {
   "cell_type": "code",
   "execution_count": 41,
   "metadata": {},
   "outputs": [
    {
     "name": "stdout",
     "output_type": "stream",
     "text": [
      "2018-07-05 01:37:58.457169\n",
      "2018-07-05 02:37:58.457169\n"
     ]
    }
   ],
   "source": [
    "# datetime.timedelta : 提供一个时间差，时间长度\n",
    "from datetime import datetime , timedelta\n",
    "t = datetime.now()\n",
    "print(t)\n",
    "td = timedelta(hours=1)   # td 表示以小时的时间长度\n",
    "print((t+td)) # 当前时间加上时间间隔后，把得到的一个小时后的时间格式化输出"
   ]
  },
  {
   "cell_type": "code",
   "execution_count": 47,
   "metadata": {},
   "outputs": [
    {
     "name": "stdout",
     "output_type": "stream",
     "text": [
      "-2.881779432296753\n",
      "********************\n",
      "6.155769791288086\n",
      "14.352840391237812\n"
     ]
    }
   ],
   "source": [
    "# timeit ： 时间测量工具\n",
    "# 测量代码运行时间间隔实验 1 \n",
    "def p():\n",
    "    time.sleep(2.88)\n",
    "t1 = time.time()\n",
    "p()\n",
    "t2 = time.time()\n",
    "print(t1-t2)   # 用函数运行前的时间减去函数运行后的时间，得到的就是代码运行时间\n",
    "print('*' * 20)\n",
    "\n",
    "# 使用timeit 测量代码运行时间\n",
    "import timeit  \n",
    "c = '''\n",
    "sum = []\n",
    "for i in range(1000):\n",
    "    sum.append(i)\n",
    "'''\n",
    "# 利用timeit调用代码，执行100000，查看运行时间\n",
    "T1 = timeit.timeit(stmt='[i for i in range(1000)]', number=100000)\n",
    "# 测量代码c 执行100000此，查看运行时间\n",
    "T2 = timeit.timeit(stmt=c,number=100000)\n",
    "print(T1)\n",
    "print(T2)\n",
    "# timeit 同样可以执行一个函数，来测量函数的执行时间"
   ]
  },
  {
   "cell_type": "code",
   "execution_count": 48,
   "metadata": {},
   "outputs": [
    {
     "name": "stdout",
     "output_type": "stream",
     "text": [
      "Help on function timeit in module timeit:\n",
      "\n",
      "timeit(stmt='pass', setup='pass', timer=<built-in function perf_counter>, number=1000000, globals=None)\n",
      "    Convenience function to create Timer object and call timeit method.\n",
      "\n"
     ]
    }
   ],
   "source": [
    "help(timeit.timeit)"
   ]
  },
  {
   "cell_type": "code",
   "execution_count": null,
   "metadata": {},
   "outputs": [],
   "source": []
  }
 ],
 "metadata": {
  "kernelspec": {
   "display_name": "Python 3",
   "language": "python",
   "name": "python3"
  },
  "language_info": {
   "codemirror_mode": {
    "name": "ipython",
    "version": 3
   },
   "file_extension": ".py",
   "mimetype": "text/x-python",
   "name": "python",
   "nbconvert_exporter": "python",
   "pygments_lexer": "ipython3",
   "version": "3.6.5"
  }
 },
 "nbformat": 4,
 "nbformat_minor": 2
}
