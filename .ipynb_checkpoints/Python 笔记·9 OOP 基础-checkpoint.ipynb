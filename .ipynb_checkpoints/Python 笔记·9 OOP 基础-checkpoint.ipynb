{
 "cells": [
  {
   "cell_type": "markdown",
   "metadata": {},
   "source": [
    "#  OOP- python面向对象\n",
    "- python的面向对象\n",
    "- 面向对象编程:\n",
    "    - 基础\n",
    "    - 公有私有\n",
    "    - 继承\n",
    "    - 组合 Mixin\n",
    " - 魔法函数\n",
    "    - 魔法函数概述\n",
    "    - 构造类魔法函数\n",
    "    - 运算类魔法函数"
   ]
  },
  {
   "cell_type": "markdown",
   "metadata": {},
   "source": [
    "\n",
    "# 面向对象概述(OpjectOriented,OO)\n",
    "- OOP 思想：\n",
    "\n",
    "    - 接触到任意一个任务，首先想到的是这个任务的构成，是由模型构成的\n",
    "        \n",
    "- 名词\n",
    "    - OO：面向对象\n",
    "    - OOA: 面向对象的分析\n",
    "    - OOD：面向对象的设计\n",
    "    - OOI：XXX的实现\n",
    "    - OOP：XXX的编程\n",
    "    - OOA->OOD->OOI :面向对象的实现过程\n",
    "    \n",
    "    \n",
    "##  类和对象的概念\n",
    "- 类：抽象名词，代表一个集合，共性的事物\n",
    "- 对象：具象的事物，单个个体\n",
    "- 类跟对象的关系：\n",
    "    - 一个具象，代表一类事物的某一个个体\n",
    "    - 一个是抽象，代表的是一大类事物\n",
    "- 类中的内容，应该具有两个内容\n",
    "    - 表明事物的特征，叫做属性（变量）\n",
    "    - 表明事物功能或动作，称为成员方法（函数）\n",
    "    \n",
    "    \n",
    "## 类的基本实现\n",
    "### 类的命名\n",
    "    - 遵守变量命名的规范\n",
    "    - 大驼峰（首字母大写，单词直接相连）\n",
    "    - 尽量避开跟系统命名相似的命名\n",
    "### 如何声明一个类\n",
    "    - 必须用class 关键字\n",
    "    - 类由属性和方法构成，其他不允许出现\n",
    "    - 成员属性定义可以直接使用变量赋值，如果没有值，使用None\n",
    "    - 案例"
   ]
  },
  {
   "cell_type": "code",
   "execution_count": 1,
   "metadata": {},
   "outputs": [
    {
     "name": "stdout",
     "output_type": "stream",
     "text": [
      "None\n",
      "18\n",
      "I do Homework\n"
     ]
    }
   ],
   "source": [
    "# 定义一个空的类\n",
    "class Student():\n",
    "    #一个空类，pass 代表直接跳过（必须pass）\n",
    "    pass\n",
    "    \n",
    "# 定义一个对象\n",
    "alex = Student()\n",
    "\n",
    "# 再定义一个类，用来描述听Python的学生：\n",
    "class PythonStudent():\n",
    "    name = None     # 用None给不确定的值赋值\n",
    "    age = 18       # 成员属性\n",
    "    course = 'Python'\n",
    "    \n",
    "    # 注意缩进层级\n",
    "    def DoHomeWork(self):       # 类里放函数（成员方法）\n",
    "        print('I do Homework')\n",
    "\n",
    "        return None \n",
    "\n",
    "# 实例化ALEX学生，是一个具体的人\n",
    "alex = PythonStudent()     # 实例化一个对象 \n",
    "\n",
    "print(alex.name)\n",
    "print(alex.age)\n",
    "alex.DoHomeWork()"
   ]
  },
  {
   "cell_type": "markdown",
   "metadata": {},
   "source": [
    "### 实例化类\n",
    "    - 变量 = 类名()       #实例化了一个对象\n",
    "### 访问对象成员\n",
    "    - 使用点操作符\n",
    "        - obj.成员属性名称\n",
    "        - obj.成员方法\n",
    "    - 可以通过默认内置变量检查类和对象的所有成员\n",
    "        - 对象所有成员检查\n",
    "            - #dict 前后各有两个下划线\n",
    "            - obj.__dict__\n",
    "        - 类所有的成员\n",
    "            - # dict 前后各有两个下划线\n",
    "            - class_name.__dict__"
   ]
  },
  {
   "cell_type": "code",
   "execution_count": 9,
   "metadata": {},
   "outputs": [
    {
     "data": {
      "text/plain": [
       "mappingproxy({'__dict__': <attribute '__dict__' of 'Student' objects>,\n",
       "              '__doc__': None,\n",
       "              '__module__': '__main__',\n",
       "              '__weakref__': <attribute '__weakref__' of 'Student' objects>,\n",
       "              'age': 21,\n",
       "              'name': 'alex'})"
      ]
     },
     "execution_count": 9,
     "metadata": {},
     "output_type": "execute_result"
    }
   ],
   "source": [
    "#  实例\n",
    "class Student():\n",
    "    name = 'alex'\n",
    "    age = 21\n",
    "    \n",
    "Student.__dict__   #  用__dict__ 查看类示例的内容\n",
    "\n",
    "john = Student()    # 实例化\n"
   ]
  },
  {
   "cell_type": "code",
   "execution_count": null,
   "metadata": {},
   "outputs": [],
   "source": []
  },
  {
   "cell_type": "code",
   "execution_count": null,
   "metadata": {},
   "outputs": [],
   "source": []
  }
 ],
 "metadata": {
  "kernelspec": {
   "display_name": "Python 3",
   "language": "python",
   "name": "python3"
  },
  "language_info": {
   "codemirror_mode": {
    "name": "ipython",
    "version": 3
   },
   "file_extension": ".py",
   "mimetype": "text/x-python",
   "name": "python",
   "nbconvert_exporter": "python",
   "pygments_lexer": "ipython3",
   "version": "3.6.4"
  }
 },
 "nbformat": 4,
 "nbformat_minor": 2
}
