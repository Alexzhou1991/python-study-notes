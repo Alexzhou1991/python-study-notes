{
 "cells": [
  {
   "cell_type": "markdown",
   "metadata": {},
   "source": [
    "# dict  字典\n",
    "    - 字典是一种组合数据，没有顺序的组合数据，数据以键值对形式出现"
   ]
  },
  {
   "cell_type": "code",
   "execution_count": 11,
   "metadata": {},
   "outputs": [
    {
     "name": "stdout",
     "output_type": "stream",
     "text": [
      "{}\n",
      "{}\n",
      "{'one': 1, 'two': 2, 'three': 3}\n",
      "{'one': 1, 'two': 2, 'three': 3}\n",
      "{'one': 1, 'two': 2, 'three': 3}\n"
     ]
    }
   ],
   "source": [
    "# 创建空字典\n",
    "\n",
    "d = {}\n",
    "print(d)\n",
    "\n",
    "d = dict()\n",
    "print(d)\n",
    "\n",
    "\n",
    "# 创建带值的字典\n",
    "d = {'one':1,'two':2,'three':3}      # 键和值用冒号隔开\n",
    "print(d)\n",
    "\n",
    "d = dict(one=1,two=2,three=3)  # 利用关键字参数\n",
    "print(d)\n",
    "\n",
    "d = dict([('one',1),('two',2),('three',3)])  # 列表内嵌套元祖\n",
    "print(d)"
   ]
  },
  {
   "cell_type": "markdown",
   "metadata": {},
   "source": [
    "## 字典的特征\n",
    "    - 字典是序列类型，但是是无序序列，所以没有分片和索引\n",
    "    - 字典中的数据每个都有键值对组成，即kv对\n",
    "        - key:必须是可哈希的值，比如int,string,float,tuple,但是list,set,dict 不行\n",
    "        - value：任何值 \n",
    "        \n",
    "        \n",
    "\n",
    "## 字典常见操作\n",
    "\n",
    "\n",
    "\n"
   ]
  },
  {
   "cell_type": "code",
   "execution_count": 30,
   "metadata": {},
   "outputs": [
    {
     "name": "stdout",
     "output_type": "stream",
     "text": [
      "11111\n"
     ]
    }
   ],
   "source": [
    "# 访问数据\n",
    "d = {'one':11111,'two':22222,'three':33333}  \n",
    "print(d['one'])    #  访问格式：中括号内对应的键值，只打印对应键的值 "
   ]
  },
  {
   "cell_type": "code",
   "execution_count": 31,
   "metadata": {},
   "outputs": [
    {
     "name": "stdout",
     "output_type": "stream",
     "text": [
      "{'one': 11111, 'two': 22222, 'three': 'thrid'}\n"
     ]
    }
   ],
   "source": [
    "# 重新赋值\n",
    "d['three']='thrid' \n",
    "print(d)"
   ]
  },
  {
   "cell_type": "code",
   "execution_count": 22,
   "metadata": {},
   "outputs": [
    {
     "name": "stdout",
     "output_type": "stream",
     "text": [
      "{'one': 11111, 'three': 'thrid'}\n"
     ]
    }
   ],
   "source": [
    "# 删除某个操作\n",
    "del d['two']\n",
    "print(d)"
   ]
  },
  {
   "cell_type": "code",
   "execution_count": 25,
   "metadata": {},
   "outputs": [
    {
     "name": "stdout",
     "output_type": "stream",
     "text": [
      "键\n"
     ]
    }
   ],
   "source": [
    "# 成员检测 ： in , not in \n",
    "d = {'one':11111,'two':22222,'three':33333}  \n",
    "if 2 in d:\n",
    "    print('值')\n",
    "if 'two' in d:\n",
    "    print('键')        # 字典的成员检测只检测键  key   \n",
    "if ('three',33333) in d:\n",
    "    print('键值对')"
   ]
  },
  {
   "cell_type": "code",
   "execution_count": 37,
   "metadata": {},
   "outputs": [
    {
     "name": "stdout",
     "output_type": "stream",
     "text": [
      "one\n",
      "two\n",
      "three\n",
      "--------------------\n",
      "one 1\n",
      "two 2\n",
      "three 3\n",
      "--------------------\n",
      "1\n",
      "2\n",
      "3\n",
      "--------------------\n",
      "one --- 1\n",
      "two --- 2\n",
      "three --- 3\n"
     ]
    }
   ],
   "source": [
    "# 字典的遍历\n",
    "d = {'one':1,'two':2,'three':3}  \n",
    "for k in d:\n",
    "    print(k)  # 是用for 循环，直接按KEY值访问\n",
    "\n",
    "print('-'*20)  # ----------分割线--------\n",
    "\n",
    "for k in d.keys():\n",
    "    print(k,d[k])   \n",
    "    \n",
    "print('-'*20)  # ----------分割线--------\n",
    "\n",
    "for v in d.values():\n",
    "    print(v)      #  只访问字典的值\n",
    "\n",
    "print('-'*20)  # ----------分割线--------\n",
    "\n",
    "for k,v in d.items():\n",
    "    print(k,'---',v)  # 使用items  访问字典的键和值"
   ]
  },
  {
   "cell_type": "markdown",
   "metadata": {},
   "source": [
    "### 字典生成式\n"
   ]
  },
  {
   "cell_type": "code",
   "execution_count": 39,
   "metadata": {},
   "outputs": [
    {
     "name": "stdout",
     "output_type": "stream",
     "text": [
      "{'one': 1, 'two': 2, 'three': 3}\n"
     ]
    }
   ],
   "source": [
    "# 常规字典生成式\n",
    "d = {'one':1,'two':2,'three':3}  \n",
    "dd = {k:v for k,v in d.items()}\n",
    "print(dd)"
   ]
  },
  {
   "cell_type": "code",
   "execution_count": 42,
   "metadata": {},
   "outputs": [
    {
     "name": "stdout",
     "output_type": "stream",
     "text": [
      "{'one': 1, 'three': 3}\n"
     ]
    }
   ],
   "source": [
    "# 加限制条件字典生成式\n",
    "ddd = {k:v for k,v in d.items() if v % 2 == 1}   # 加限制条件，仅限值是奇数的字典赋值给ddd \n",
    "print(ddd)"
   ]
  },
  {
   "cell_type": "markdown",
   "metadata": {},
   "source": [
    "## 字典的相关函数\n",
    "    - 通用函数： len,max,min,dict\n",
    "    - clear 清空字典\n",
    "    - items 返回字典的键值对 组成的元祖格式\n",
    "    - keys 返回字典的键组成的一个结构\n",
    "    - values 返回字典值组成的一个结构\n",
    "    - get 根据指定建返回相应的值\n",
    "        - get 好处是可以设置默认值\n",
    "    - fromkeys 使用指定的序列作为键，使用一个值作为字典的所有键的值\n",
    "    "
   ]
  },
  {
   "cell_type": "code",
   "execution_count": 43,
   "metadata": {},
   "outputs": [
    {
     "name": "stdout",
     "output_type": "stream",
     "text": [
      "<class 'dict_items'>\n",
      "dict_items([('one', 1), ('two', 2), ('three', 3)])\n"
     ]
    }
   ],
   "source": [
    " # items 示例 \n",
    "d = {'one':1,'two':2,'three':3}  \n",
    "i = d.items()\n",
    "print(type(i))\n",
    "print(i)"
   ]
  },
  {
   "cell_type": "code",
   "execution_count": 44,
   "metadata": {},
   "outputs": [
    {
     "name": "stdout",
     "output_type": "stream",
     "text": [
      "<class 'dict_keys'>\n",
      "dict_keys(['one', 'two', 'three'])\n"
     ]
    }
   ],
   "source": [
    "# keys 示例\n",
    "k = d.keys()    # 将d 里的关键字 返回给K \n",
    "print(type(k))\n",
    "print(k)"
   ]
  },
  {
   "cell_type": "code",
   "execution_count": 45,
   "metadata": {},
   "outputs": [
    {
     "name": "stdout",
     "output_type": "stream",
     "text": [
      "<class 'dict_values'>\n",
      "dict_values([1, 2, 3])\n"
     ]
    }
   ],
   "source": [
    "# values 示例\n",
    "v = d.values()   # 只返回字典内的值\n",
    "print(type(v))\n",
    "print(v)"
   ]
  },
  {
   "cell_type": "code",
   "execution_count": 50,
   "metadata": {},
   "outputs": [
    {
     "name": "stdout",
     "output_type": "stream",
     "text": [
      "None\n",
      "3\n",
      "99999\n"
     ]
    },
    {
     "ename": "KeyError",
     "evalue": "'nothere'",
     "output_type": "error",
     "traceback": [
      "\u001b[1;31m---------------------------------------------------------------------------\u001b[0m",
      "\u001b[1;31mKeyError\u001b[0m                                  Traceback (most recent call last)",
      "\u001b[1;32m<ipython-input-50-4149a27972f4>\u001b[0m in \u001b[0;36m<module>\u001b[1;34m()\u001b[0m\n\u001b[0;32m      4\u001b[0m \u001b[0mprint\u001b[0m\u001b[1;33m(\u001b[0m\u001b[0md\u001b[0m\u001b[1;33m.\u001b[0m\u001b[0mget\u001b[0m\u001b[1;33m(\u001b[0m\u001b[1;34m'three'\u001b[0m\u001b[1;33m)\u001b[0m\u001b[1;33m)\u001b[0m\u001b[1;33m\u001b[0m\u001b[0m\n\u001b[0;32m      5\u001b[0m \u001b[0mprint\u001b[0m\u001b[1;33m(\u001b[0m\u001b[0md\u001b[0m\u001b[1;33m.\u001b[0m\u001b[0mget\u001b[0m\u001b[1;33m(\u001b[0m\u001b[1;34m'nothere'\u001b[0m\u001b[1;33m,\u001b[0m\u001b[1;36m99999\u001b[0m\u001b[1;33m)\u001b[0m\u001b[1;33m)\u001b[0m\u001b[1;33m\u001b[0m\u001b[0m\n\u001b[1;32m----> 6\u001b[1;33m \u001b[0mprint\u001b[0m\u001b[1;33m(\u001b[0m\u001b[0md\u001b[0m\u001b[1;33m[\u001b[0m\u001b[1;34m'nothere'\u001b[0m\u001b[1;33m]\u001b[0m\u001b[1;33m)\u001b[0m \u001b[1;31m# 若直接访问一个不存在的键，则会报错\u001b[0m\u001b[1;33m\u001b[0m\u001b[0m\n\u001b[0m",
      "\u001b[1;31mKeyError\u001b[0m: 'nothere'"
     ]
    }
   ],
   "source": [
    "# get 示例 \n",
    "d = {'one':1,'two':2,'three':3} \n",
    "print(d.get('nothere'))   # 返回字典内指定关键字对应的值，没有的话返回一个none \n",
    "print(d.get('three'))\n",
    "print(d.get('nothere',99999))   #  带默认值，如果查找不到对应的键，则返回里面设置的值\n",
    "print(d['nothere']) # 若直接访问一个不存在的键，则会报错"
   ]
  },
  {
   "cell_type": "code",
   "execution_count": 53,
   "metadata": {},
   "outputs": [
    {
     "name": "stdout",
     "output_type": "stream",
     "text": [
      "{'AAA': '999', 'BBB': '999', 'CCC': '999'}\n"
     ]
    }
   ],
   "source": [
    "# fromkeys 示例\n",
    "l = ['AAA','BBB','CCC']           # 生成一个列表\n",
    "d = dict.fromkeys(l,'999')  #  将列表内的值都作为键，所有键对应的值都是‘999’\n",
    "print(d)\n",
    "\n",
    "\n"
   ]
  }
 ],
 "metadata": {
  "kernelspec": {
   "display_name": "Python 3",
   "language": "python",
   "name": "python3"
  },
  "language_info": {
   "codemirror_mode": {
    "name": "ipython",
    "version": 3
   },
   "file_extension": ".py",
   "mimetype": "text/x-python",
   "name": "python",
   "nbconvert_exporter": "python",
   "pygments_lexer": "ipython3",
   "version": "3.6.4"
  }
 },
 "nbformat": 4,
 "nbformat_minor": 2
}
