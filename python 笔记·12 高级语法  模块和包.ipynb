{
 "cells": [
  {
   "cell_type": "markdown",
   "metadata": {},
   "source": [
    "# 模块\n",
    "- 一个模块就是一个包含python代码的文件，后缀名.py就可以，模块就是一个Python文件\n",
    "- 为什么使用模块\n",
    "    1. 程序太大，编写维护不方方便，需要拆分\n",
    "    2. 模块可以增加代码重复利用的方式\n",
    "    3. 当作命名空间使用，避免命名冲突\n",
    "- 如何定义模块\n",
    "    1. 模块就是一个普通python文件，所以任何代码可以直接书写\n",
    "    2. 不过根据规范，最好在模块中编写以下内容\n",
    "        1. 函数（单一功能）\n",
    "        2. 类（功能相似的组合，或者类似业务模块）\n",
    "        3. 测试代码\n",
    "- 如何使用模块\n",
    "    1. 模块直接导入\n",
    "        1. 加入模块名以数字开头，需要借助importlib帮助\n",
    "        2. 语法\n",
    "            1. 导入模块 import module_name\n",
    "            2. 使用模块函数 module_name.func_name\n",
    "            3. 使用模块类 module_name.class_name\n",
    "    2. import as 别名 以别名导入模块\n",
    "    3. from module_name import func_name , class_name \n",
    "        1. 此方法可以选择性导入模块\n",
    "        2. 使用时直接使用导入的内容，不需要前缀\n",
    "    4. from module_name import * \n",
    "        0. 导入一个模块的所有内容\n",
    "        \n",
    "- if __name__ == '__main__': 的使用\n",
    "    1. 可以有效避免模块代码导入的时候被动执行的问题\n",
    "    2. 建议所有程序的入口都以此代码为入口\n",
    "    \n"
   ]
  },
  {
   "cell_type": "code",
   "execution_count": null,
   "metadata": {},
   "outputs": [],
   "source": [
    "# 模拟创建一个某块和导入已创建的模块\n",
    "\n",
    "class Student():\n",
    "    def __init__(self,name='Alex',age=22):\n",
    "        self.name = name\n",
    "        self.age = age\n",
    "    def say(self):\n",
    "        print('Hello ,my name is {0},and my age is {1}'.format(self.name,self.age))\n",
    "        \n",
    "def Hello:\n",
    "    print('Hello ,Nothing here.')\n",
    "\n",
    "print('我是p01模块') # 导入模块时，会默认把模块里的代码都执行一遍，所以此处的print会在每次导入的时候执行。\n",
    "\n",
    "# 假设上方代码，单独另存为p01.py，以下打开一个新的p02.py，导入上面代码模块"
   ]
  },
  {
   "cell_type": "code",
   "execution_count": null,
   "metadata": {},
   "outputs": [],
   "source": []
  },
  {
   "cell_type": "code",
   "execution_count": null,
   "metadata": {},
   "outputs": [],
   "source": [
    "# 模块的导入方法 1 \n",
    "import p01   # 使用import 直接导入\n",
    "\n",
    "stu = p01.Student('Bella',19)  # 实例化模块里的类，并传入参数\n",
    "stu.say()                    # 使用模块里的类的方法\n",
    "p01.Hello()                 # 使用模块内的函数\n"
   ]
  },
  {
   "cell_type": "code",
   "execution_count": null,
   "metadata": {},
   "outputs": [],
   "source": [
    "# 模块的导入方法 2 \n",
    "# 假如模块名以数字开头，直接导入使用会报错，需要借助其他方法\n",
    "import importlib # 使用importlib 帮助\n",
    "mod = importlib.import_module('p01')  # 将p01 模块赋值给了mod 往后再使用该模块的时候就以mod. 进行使用\n",
    "\n",
    "stu = mod.Student()   # 将模块里的类实例化（使用模块别名）\n",
    "mod.Hello  # 使用模块里的函数（使用别名）"
   ]
  },
  {
   "cell_type": "code",
   "execution_count": null,
   "metadata": {},
   "outputs": [],
   "source": [
    "# 模块的导入方法 3\n",
    "import p01 as ppp  # 导入p01 模块，并起一个别名ppp ，再使用该模块时就要以ppp. 进行使用\n",
    "\n",
    "\n",
    "stu = ppp.Student()   # 将模块里的类实例化（使用模块别名）\n",
    "ppp.Hello  # 使用模块里的函数（使用别名）"
   ]
  },
  {
   "cell_type": "code",
   "execution_count": null,
   "metadata": {},
   "outputs": [],
   "source": [
    "# 模块的导入方法 4\n",
    "from p01 import Student # 导入p01 模块内的 Student 类，只导入这个类，别的不要（函数也一样）\n",
    "stu = Student() # 直接将模块里的类实例化"
   ]
  },
  {
   "cell_type": "code",
   "execution_count": null,
   "metadata": {},
   "outputs": [],
   "source": [
    "# 模块的导入方法 5\n",
    "from p01 import * # 从p01模块内导入所有（不推荐此方法）\n",
    "\n",
    "Hello()# 直接使用模块的函数（不需要module_name.）\n",
    "\n",
    "stu = Student('Kally',25) # 使用模块里的类（此种导入方式不需要模块名.）\n",
    "stu.say # 使用模块内的类的函数"
   ]
  },
  {
   "cell_type": "code",
   "execution_count": null,
   "metadata": {},
   "outputs": [],
   "source": [
    "# p01.py 模块内有有一个直接print，所以每次导入模块的时候都会执行这个print\n",
    "# 当不需要他在导入执行print的时候，可以使用以下方法\n",
    "# 当模块内使用此代码时，只有直接import导入才会执行if下面代码\n",
    "# 如果时from 导入的，就不执行if下的代码\n",
    "\n",
    "# 此判断语句，建议一直作为程序的入口\n",
    "if __name__ == '__main__':\n",
    "    print('我是p01模块')\n",
    "\n"
   ]
  },
  {
   "cell_type": "markdown",
   "metadata": {},
   "source": [
    "## 模块的搜索和存储路径\n",
    "\n",
    "- 什么是模块的搜索路径\n",
    "    0. 加载模块的时候，系统会在哪些地方寻找此模块\n",
    "- 系统默认的模块搜索路径\n",
    "    \n",
    "        import sys\n",
    "        sys.path  此属性可以获取路径列表\n",
    "        \n",
    "- 添加搜索路径\n",
    "     \n",
    "         sys.path,append(dir)\n",
    "         \n",
    "- 模块的加载顺序\n",
    "    1. 上内存中搜索已经加载好的模块   \n",
    "    2. 搜索python的内置模块\n",
    "    3. 搜索sys.path 路径\n",
    "    "
   ]
  },
  {
   "cell_type": "code",
   "execution_count": 1,
   "metadata": {},
   "outputs": [
    {
     "name": "stdout",
     "output_type": "stream",
     "text": [
      "<class 'list'>\n",
      "['', 'C:\\\\Users\\\\Alex\\\\Anaconda3\\\\python36.zip', 'C:\\\\Users\\\\Alex\\\\Anaconda3\\\\DLLs', 'C:\\\\Users\\\\Alex\\\\Anaconda3\\\\lib', 'C:\\\\Users\\\\Alex\\\\Anaconda3', 'C:\\\\Users\\\\Alex\\\\Anaconda3\\\\lib\\\\site-packages', 'C:\\\\Users\\\\Alex\\\\Anaconda3\\\\lib\\\\site-packages\\\\win32', 'C:\\\\Users\\\\Alex\\\\Anaconda3\\\\lib\\\\site-packages\\\\win32\\\\lib', 'C:\\\\Users\\\\Alex\\\\Anaconda3\\\\lib\\\\site-packages\\\\Pythonwin', 'C:\\\\Users\\\\Alex\\\\Anaconda3\\\\lib\\\\site-packages\\\\IPython\\\\extensions', 'C:\\\\Users\\\\Alex\\\\.ipython']\n"
     ]
    }
   ],
   "source": [
    "import sys\n",
    "print(type(sys.path))\n",
    "print(sys.path)"
   ]
  },
  {
   "cell_type": "markdown",
   "metadata": {},
   "source": [
    "# 包\n",
    "- 包是一种组织管理代码的方式，包里存放的是模块\n",
    "- 用户将模块包含在一起的文件夹就是包\n",
    "- 自定义包的结构\n",
    "    \n",
    "        \\----包\n",
    "        \\----\\----__init__.py 包的标志性文件\n",
    "        \\----\\----模块1\n",
    "        \\----\\----模块2\n",
    "        \\----\\----子包（子文件夹）\n",
    "        \\----\\----\\----__init__.py\n",
    "        \\----\\----\\----子模块1\n",
    "        \\----\\----\\----子模块2\n",
    "    \n",
    "- 包的导入操作\n",
    "    1. import package_name\n",
    "        1. 直接导入一个包，可以使用__init__.py 中的内容\n",
    "        2. 使用方式是\n",
    "            \n",
    "                package_name.func_name    # 包名.函数名\n",
    "                package_name.class_name.func_name()    # 包名.类名.函数名\n",
    "                \n",
    "        3. 此种方式的访问内容是\n",
    "    2. import package_name as ****  \n",
    "        1. 使用别名导入\n",
    "        2. 具体用法跟作用方式，跟上述简单导入一致\n",
    "        3. 注意的是此种方式是默认对__init__.py内容的导入\n",
    "        4. import packge.module as *** 以别名方式导入包中某个模块\n",
    "    3. import packge_name.module\n",
    "        1. 导入包中某一个具体的模块\n",
    "        2. 使用方法：\n",
    "                \n",
    "                package.module.func_name\n",
    "                package.module.class.func_name()\n",
    "                package.module.class.var\n",
    "                \n",
    "    4. from package import module1,module2,module3,,,,,,\n",
    "        1. 此种导入方法不执行 '__init__' 的内容\n",
    "        2. from packge import * \n",
    "            1. 导入当前包中 '__init__.py'文件中所有的函数和类\n",
    "            \n",
    "        3. from packe.module import *\n",
    "            1. 导入包中指定模块的所有内容，\n",
    "            \n",
    "    5. 在开发环境中，经常会引用其他模块，可以在当前包中导入其他模块中的内容\n",
    "        1. import 完整的包或者模块的路径\n",
    "        \n",
    "    6. '__all__' 的用法\n",
    "        1. 在使用 from packge import *  的时候， * 可以导入的内容\n",
    "        2. '__init__.py' 中如果文件为空，或者没有'__all__' , 那么只把'__init__'中的内容导入\n",
    "        3. '__init__' 如果设定了'__all__'的值，那么则按照'__all__'指定的子包或者模块进行加载\n",
    "        4. 如此则不会载入'__init__'中的其他内容\n",
    "        5. '__all__=[module1,module2,module3,,,,,]' \n",
    "        5. "
   ]
  },
  {
   "cell_type": "code",
   "execution_count": null,
   "metadata": {},
   "outputs": [],
   "source": []
  },
  {
   "cell_type": "code",
   "execution_count": null,
   "metadata": {},
   "outputs": [],
   "source": []
  },
  {
   "cell_type": "code",
   "execution_count": null,
   "metadata": {},
   "outputs": [],
   "source": []
  },
  {
   "cell_type": "code",
   "execution_count": null,
   "metadata": {},
   "outputs": [],
   "source": []
  },
  {
   "cell_type": "code",
   "execution_count": null,
   "metadata": {},
   "outputs": [],
   "source": []
  }
 ],
 "metadata": {
  "kernelspec": {
   "display_name": "Python 3",
   "language": "python",
   "name": "python3"
  },
  "language_info": {
   "codemirror_mode": {
    "name": "ipython",
    "version": 3
   },
   "file_extension": ".py",
   "mimetype": "text/x-python",
   "name": "python",
   "nbconvert_exporter": "python",
   "pygments_lexer": "ipython3",
   "version": "3.6.5"
  }
 },
 "nbformat": 4,
 "nbformat_minor": 2
}
