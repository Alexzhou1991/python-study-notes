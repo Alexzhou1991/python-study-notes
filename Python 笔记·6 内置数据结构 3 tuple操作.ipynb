{
 "cells": [
  {
   "cell_type": "markdown",
   "metadata": {},
   "source": [
    "# 元组-tuple\n",
    "    - 元祖可以看成是一个不可能改的list \n",
    "    - 元祖是小括号()\n",
    "    \n",
    "## 元组创建"
   ]
  },
  {
   "cell_type": "code",
   "execution_count": 6,
   "metadata": {},
   "outputs": [
    {
     "name": "stdout",
     "output_type": "stream",
     "text": [
      "<class 'tuple'>\n",
      "--------------------\n",
      "<class 'int'>\n",
      "--------------------\n",
      "<class 'tuple'>\n",
      "(9,)\n"
     ]
    }
   ],
   "source": [
    "# 创建元组\n",
    "t = ()     #  创建空的元组\n",
    "print(type(t))\n",
    "\n",
    "print('-' * 20)      # ---------分割线-----------\n",
    "\n",
    "t = (9)    # 元组里只有一个值\n",
    "print(type(t))   # 元元组内只有一个数值，打印出来的类型是int \n",
    "\n",
    "print('-' * 20)      # ---------分割线-----------\n",
    "\n",
    "t = (9 ,)     # 元组内有多个值，或者加逗号，类型就是tuple\n",
    "print(type(t))\n",
    "print(t)"
   ]
  },
  {
   "cell_type": "code",
   "execution_count": 9,
   "metadata": {},
   "outputs": [
    {
     "name": "stdout",
     "output_type": "stream",
     "text": [
      "<class 'tuple'>\n",
      "(1, 2, 3, 4, 5, 6)\n"
     ]
    }
   ],
   "source": [
    "# 是用其他结构创建元组\n",
    "l = [1,2,3,4,5,6]   # 创建一个表\n",
    "t = tuple(l)       # 把表当成元组赋值给t \n",
    "print(type(t))    # t 的类型就是元组\n",
    "print(t)         # t 的内容就是l的内容"
   ]
  },
  {
   "cell_type": "markdown",
   "metadata": {},
   "source": [
    "## 元组的特性\n",
    "    - 是序列表， 有序\n",
    "    - 元组数据值可以访问，不能修改\n",
    "    - list 所有特性，除了可以修改外，元组都具有\n",
    "    - list 的所有，分片，序列相加，相乘，成员资格操作等一样。\n",
    "    "
   ]
  },
  {
   "cell_type": "code",
   "execution_count": 12,
   "metadata": {},
   "outputs": [
    {
     "name": "stdout",
     "output_type": "stream",
     "text": [
      "5\n",
      "(1, 2, 3, 4, 5)\n"
     ]
    }
   ],
   "source": [
    "# tuple 索引操作\n",
    "t = (1,2,3,4,5)    #生成元组\n",
    "print(t)\n",
    "print(t[4])       # 索引第五个值\n"
   ]
  },
  {
   "cell_type": "code",
   "execution_count": 14,
   "metadata": {},
   "outputs": [
    {
     "ename": "IndexError",
     "evalue": "tuple index out of range",
     "output_type": "error",
     "traceback": [
      "\u001b[1;31m---------------------------------------------------------------------------\u001b[0m",
      "\u001b[1;31mIndexError\u001b[0m                                Traceback (most recent call last)",
      "\u001b[1;32m<ipython-input-14-776a01186cf7>\u001b[0m in \u001b[0;36m<module>\u001b[1;34m()\u001b[0m\n\u001b[0;32m      1\u001b[0m \u001b[1;31m# 超标错误\u001b[0m\u001b[1;33m\u001b[0m\u001b[1;33m\u001b[0m\u001b[0m\n\u001b[1;32m----> 2\u001b[1;33m \u001b[0mprint\u001b[0m\u001b[1;33m(\u001b[0m\u001b[0mt\u001b[0m\u001b[1;33m[\u001b[0m\u001b[1;36m12\u001b[0m\u001b[1;33m]\u001b[0m\u001b[1;33m)\u001b[0m   \u001b[1;31m# 索引超出元祖内位置值会报错\u001b[0m\u001b[1;33m\u001b[0m\u001b[0m\n\u001b[0m",
      "\u001b[1;31mIndexError\u001b[0m: tuple index out of range"
     ]
    }
   ],
   "source": [
    "# 超标错误\n",
    "print(t[12])   # 索引超出元组内位置值会报错"
   ]
  },
  {
   "cell_type": "code",
   "execution_count": 15,
   "metadata": {},
   "outputs": [
    {
     "name": "stdout",
     "output_type": "stream",
     "text": [
      "[2, 3, 4, 5, 6, 7]\n"
     ]
    }
   ],
   "source": [
    "# 切片操作\n",
    "t = [1,2,3,4,5,6,7]\n",
    "t1 = t[1:12]     #  对元组的切片操作可以超标\n",
    "print(t1)"
   ]
  },
  {
   "cell_type": "code",
   "execution_count": 20,
   "metadata": {},
   "outputs": [
    {
     "name": "stdout",
     "output_type": "stream",
     "text": [
      "(1, 2, 3, 4, 5, 6)\n"
     ]
    }
   ],
   "source": [
    "# 序列相加\n",
    "t1 = (1,2,3)\n",
    "t2 = (4,5,6,)\n",
    "t1 = t1 + t2   # 传址操作，将t2的内容扩展到t1 里 \n",
    "print(t1)"
   ]
  },
  {
   "cell_type": "code",
   "execution_count": 22,
   "metadata": {},
   "outputs": [
    {
     "ename": "TypeError",
     "evalue": "'tuple' object does not support item assignment",
     "output_type": "error",
     "traceback": [
      "\u001b[1;31m---------------------------------------------------------------------------\u001b[0m",
      "\u001b[1;31mTypeError\u001b[0m                                 Traceback (most recent call last)",
      "\u001b[1;32m<ipython-input-22-760b65281cc4>\u001b[0m in \u001b[0;36m<module>\u001b[1;34m()\u001b[0m\n\u001b[1;32m----> 1\u001b[1;33m \u001b[0mt1\u001b[0m\u001b[1;33m[\u001b[0m\u001b[1;36m1\u001b[0m\u001b[1;33m]\u001b[0m \u001b[1;33m=\u001b[0m \u001b[1;36m9\u001b[0m  \u001b[1;31m#将t1 内的第二个数值修改为9，报错，因为tuple 不可修改\u001b[0m\u001b[1;33m\u001b[0m\u001b[0m\n\u001b[0m",
      "\u001b[1;31mTypeError\u001b[0m: 'tuple' object does not support item assignment"
     ]
    }
   ],
   "source": [
    "t1[1] = 9  #将t1 内的第二个数值修改为9，报错，因为tuple 不可修改"
   ]
  },
  {
   "cell_type": "code",
   "execution_count": 23,
   "metadata": {},
   "outputs": [
    {
     "name": "stdout",
     "output_type": "stream",
     "text": [
      "(1, 2, 3, 1, 2, 3, 1, 2, 3)\n"
     ]
    }
   ],
   "source": [
    "# 元组相乘\n",
    "t = (1,2,3)\n",
    "t = t * 3\n",
    "print(t)"
   ]
  },
  {
   "cell_type": "code",
   "execution_count": 29,
   "metadata": {},
   "outputs": [
    {
     "name": "stdout",
     "output_type": "stream",
     "text": [
      "输入要查找的数值：9\n",
      "No\n"
     ]
    }
   ],
   "source": [
    "# 成员检测 \n",
    "t = (1,2,3,4,5,6)\n",
    "k = int(input('输入要查找的数值：'))\n",
    "if k in t:\n",
    "    print('yes')\n",
    "else:\n",
    "    print('No')"
   ]
  },
  {
   "cell_type": "code",
   "execution_count": 43,
   "metadata": {},
   "outputs": [
    {
     "name": "stdout",
     "output_type": "stream",
     "text": [
      "1\n",
      "2\n",
      "3\n",
      "john\n",
      "kally\n",
      "jack\n"
     ]
    }
   ],
   "source": [
    "# 元组遍历 ，一遍采用for \n",
    "# 1.单层元组遍历\n",
    "t = (1,2,3,'john','kally','jack')\n",
    "for i in t:\n",
    "    print(i)"
   ]
  },
  {
   "cell_type": "code",
   "execution_count": 50,
   "metadata": {},
   "outputs": [
    {
     "name": "stdout",
     "output_type": "stream",
     "text": [
      "(1, 2, 3)\n",
      "('alex', 'john', 999)\n",
      "(9, 8, 'kally')\n",
      "--------------------\n",
      "1 === 2 === 3\n",
      "alex === john === 999\n",
      "9 === 8 === kally\n"
     ]
    }
   ],
   "source": [
    "# 2. 双层元组的遍历\n",
    "t = ((1,2,3),('alex','john',999),(9,8,'kally'))\n",
    "for i in t:\n",
    "    print(i)   # 与单层元组遍历方法一样，但是结果为多层元组\n",
    "    \n",
    "print('-' * 20)      # ---------分割线-----------\n",
    "    \n",
    "for k,v,m in t:\n",
    "    print(k,'===',v,'===',m)   # 多层元组遍历"
   ]
  },
  {
   "cell_type": "markdown",
   "metadata": {},
   "source": [
    "## 关于元组的函数\n",
    "    - len:获取长度\n",
    "    - "
   ]
  },
  {
   "cell_type": "code",
   "execution_count": 9,
   "metadata": {},
   "outputs": [
    {
     "data": {
      "text/plain": [
       "5"
      ]
     },
     "execution_count": 9,
     "metadata": {},
     "output_type": "execute_result"
    }
   ],
   "source": [
    "# len 获取元祖的长度 \n",
    "t = (1,2,3,4,5)\n",
    "len(t)"
   ]
  },
  {
   "cell_type": "code",
   "execution_count": 10,
   "metadata": {},
   "outputs": [
    {
     "name": "stdout",
     "output_type": "stream",
     "text": [
      "5\n",
      "1\n"
     ]
    }
   ],
   "source": [
    "# max,min 最大值最小值\n",
    "print(max(t))\n",
    "print(min(t))"
   ]
  },
  {
   "cell_type": "code",
   "execution_count": 11,
   "metadata": {},
   "outputs": [
    {
     "name": "stdout",
     "output_type": "stream",
     "text": [
      "(1, 2, 3, 4, 5, 6)\n"
     ]
    }
   ],
   "source": [
    "# tuple 转化或创建元组\n",
    "l = [1,2,3,4,5,6]\n",
    "t = tuple(l)\n",
    "print(t)"
   ]
  },
  {
   "cell_type": "markdown",
   "metadata": {},
   "source": [
    "## 元组的函数\n",
    "    - 基本跟list 通用\n"
   ]
  },
  {
   "cell_type": "code",
   "execution_count": 14,
   "metadata": {},
   "outputs": [
    {
     "name": "stdout",
     "output_type": "stream",
     "text": [
      "3\n",
      "4\n"
     ]
    }
   ],
   "source": [
    "# count 计算特定数据出现的次数\n",
    "t = (1,2,3,1,5,4,5,4,1,5,2)\n",
    "print(t.count(1))\n",
    "\n",
    "# index,求特定元素在元祖中的索引位置\n",
    "print(t.index(5))"
   ]
  },
  {
   "cell_type": "code",
   "execution_count": 16,
   "metadata": {},
   "outputs": [
    {
     "name": "stdout",
     "output_type": "stream",
     "text": [
      "1 a\n",
      "3 b\n",
      "3 a\n",
      "1 b\n"
     ]
    }
   ],
   "source": [
    "# 元祖变量交换  两个变量交换值\n",
    "a = 1 \n",
    "b = 3\n",
    "print(a,'a')\n",
    "print(b,'b')\n",
    "a,b = b,a     # a的值和b的值进行交换\n",
    "print(a,'a')\n",
    "print(b,'b')"
   ]
  }
 ],
 "metadata": {
  "kernelspec": {
   "display_name": "Python 3",
   "language": "python",
   "name": "python3"
  },
  "language_info": {
   "codemirror_mode": {
    "name": "ipython",
    "version": 3
   },
   "file_extension": ".py",
   "mimetype": "text/x-python",
   "name": "python",
   "nbconvert_exporter": "python",
   "pygments_lexer": "ipython3",
   "version": "3.6.4"
  }
 },
 "nbformat": 4,
 "nbformat_minor": 2
}
