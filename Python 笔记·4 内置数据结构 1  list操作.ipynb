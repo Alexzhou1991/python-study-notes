{
 "cells": [
  {
   "cell_type": "markdown",
   "metadata": {},
   "source": [
    "# 变量作用域\n",
    "    - 变量有作用范围限制\n",
    "    - 分类：按照作用域分类\n",
    "        · 全局（global）：在函数外部定义\n",
    "        · 局部（local）：在函数内部定义\n",
    "    - 变量的作用范围：\n",
    "        · 全局变量：在整个全局范围都有效\n",
    "        · 全局变量可以在局部函数中使用，局部函数无法在全局使用\n",
    "        \n",
    "## 提升局部变量为全局变量\n",
    "    - 使用global\n",
    "    - "
   ]
  },
  {
   "cell_type": "code",
   "execution_count": 5,
   "metadata": {},
   "outputs": [
    {
     "name": "stdout",
     "output_type": "stream",
     "text": [
      "100\n",
      "99\n",
      "101\n"
     ]
    },
    {
     "ename": "NameError",
     "evalue": "name 'b2' is not defined",
     "output_type": "error",
     "traceback": [
      "\u001b[1;31m---------------------------------------------------------------------------\u001b[0m",
      "\u001b[1;31mNameError\u001b[0m                                 Traceback (most recent call last)",
      "\u001b[1;32m<ipython-input-5-2c3d023bcef3>\u001b[0m in \u001b[0;36m<module>\u001b[1;34m()\u001b[0m\n\u001b[0;32m     11\u001b[0m \u001b[0mfun\u001b[0m\u001b[1;33m(\u001b[0m\u001b[1;33m)\u001b[0m\u001b[1;33m\u001b[0m\u001b[0m\n\u001b[0;32m     12\u001b[0m \u001b[0mprint\u001b[0m\u001b[1;33m(\u001b[0m\u001b[0mb1\u001b[0m\u001b[1;33m+\u001b[0m\u001b[1;36m1\u001b[0m\u001b[1;33m)\u001b[0m  \u001b[1;31m# 调用函数内的变量\u001b[0m\u001b[1;33m\u001b[0m\u001b[0m\n\u001b[1;32m---> 13\u001b[1;33m \u001b[0mprint\u001b[0m\u001b[1;33m(\u001b[0m\u001b[0mb2\u001b[0m\u001b[1;33m)\u001b[0m    \u001b[1;31m# 调用局部内的变量，非局部，调用失败\u001b[0m\u001b[1;33m\u001b[0m\u001b[0m\n\u001b[0m",
      "\u001b[1;31mNameError\u001b[0m: name 'b2' is not defined"
     ]
    }
   ],
   "source": [
    "# 提升局部变量为全局变量示例 \n",
    "\n",
    "def fun():\n",
    "    global b1   # 提升定义该局部变量为全局变量\n",
    "    b1 = 100\n",
    "    print(b1)\n",
    "    \n",
    "    b2 = 99\n",
    "    print(b2)\n",
    "    \n",
    "fun()\n",
    "print(b1+1)  # 调用函数内的变量\n",
    "print(b2)    # 调用局部内的变量，非局部，调用失败"
   ]
  },
  {
   "cell_type": "markdown",
   "metadata": {},
   "source": [
    "# globals, locals 函数\n",
    "    - 通过globals 和locals 显示出局部变量和全局变量\n",
    "    · "
   ]
  },
  {
   "cell_type": "markdown",
   "metadata": {},
   "source": [
    "## eval()函数\n",
    "    - 把字符串当代码来执行\n",
    "    \n",
    "## exec()函数\n",
    "    - 把字符串当代码执行，但是不返回结果\n",
    "    "
   ]
  },
  {
   "cell_type": "code",
   "execution_count": 8,
   "metadata": {},
   "outputs": [
    {
     "name": "stdout",
     "output_type": "stream",
     "text": [
      "300\n",
      "300\n"
     ]
    }
   ],
   "source": [
    "# eval()函数 示例\n",
    "\n",
    "x = 100\n",
    "y = 200\n",
    "\n",
    "z1 = x+y\n",
    "z2 = eval('x+y')  # z2 函数里是字符串但是同样执行结果 \n",
    "print(z1)\n",
    "print(z2)"
   ]
  },
  {
   "cell_type": "code",
   "execution_count": 11,
   "metadata": {},
   "outputs": [
    {
     "name": "stdout",
     "output_type": "stream",
     "text": [
      "x+y: 300\n",
      "300\n",
      "None\n"
     ]
    }
   ],
   "source": [
    "# exec() 函数 示例 \n",
    "\n",
    "x = 100\n",
    "y = 200\n",
    "\n",
    "z1 = x+y\n",
    "z2 = exec(\"print('x+y:',x+y)\")  # z2 函数里是字符串同样执行结果 ,但是不返回值\n",
    "print(z1)\n",
    "print(z2)  #z2 不返回值"
   ]
  },
  {
   "cell_type": "markdown",
   "metadata": {},
   "source": [
    "## 递归函数\n",
    "    - 函数直接或者间接调用自身\n",
    "    - 优点：\n",
    "        ·简洁理解容易\n",
    "    - 缺点：\n",
    "        ·对递归深度有限制\n",
    "        · 资源消耗大\n",
    "    - Python 对递归深度有限制，超过限制报错\n",
    "    - 在写递归程序的时候，注意结束条件\n",
    "    "
   ]
  },
  {
   "cell_type": "code",
   "execution_count": 2,
   "metadata": {},
   "outputs": [],
   "source": [
    "# 递归调用深度限制代码\n",
    "\n",
    "x = 0\n",
    "def fun():\n",
    "    global x\n",
    "    x+=1\n",
    "    print(x)\n",
    "    fun()   # 在函数内调用自身\n",
    "    \n",
    "# 调用函数\n",
    "fun()  # 无限执行\n"
   ]
  },
  {
   "cell_type": "code",
   "execution_count": 1,
   "metadata": {},
   "outputs": [
    {
     "name": "stdout",
     "output_type": "stream",
     "text": [
      "请输入斐波那契数列位置15\n",
      "610\n"
     ]
    }
   ],
   "source": [
    "# 斐波那契数列\n",
    "#\n",
    "# n 表示低N个斐波那契数列的值\n",
    "\n",
    "def fib(n):\n",
    "    if n == 1:\n",
    "        return 1\n",
    "    \n",
    "    if n == 2:\n",
    "        return 1\n",
    "    \n",
    "    return fib(n-1) + fib(n-2)\n",
    "a = int(input('请输入斐波那契数列位置'))\n",
    "str = fib(a)\n",
    "print(str)\n"
   ]
  },
  {
   "cell_type": "markdown",
   "metadata": {},
   "source": [
    "# 内置数据结构\n",
    "    - list\n",
    "    - set\n",
    "    - dict\n",
    "    - tuple \n",
    "    \n",
    "## list （列表）\n",
    "     - 一种有先后顺序的数据的组合 \n",
    "     - 创建列表："
   ]
  },
  {
   "cell_type": "code",
   "execution_count": 3,
   "metadata": {},
   "outputs": [
    {
     "name": "stdout",
     "output_type": "stream",
     "text": [
      "<class 'list'>\n",
      "<class 'list'>\n",
      "[110, 'listtest']\n",
      "<class 'list'>\n",
      "[]\n"
     ]
    }
   ],
   "source": [
    "# 创建空列表：\n",
    "\n",
    "l = []    #中括号里没有值\n",
    "\n",
    "print(type(l))\n",
    "\n",
    "# 创建带值的列表\n",
    "\n",
    "l2 = [110,'listtest'] # 中括号内带多个值\n",
    "print(type(l2))\n",
    "print(l2)\n",
    "\n",
    "# 使用list()\n",
    "\n",
    "l3 = list()\n",
    "print(type(l3))\n",
    "print(l3)\n",
    "\n",
    "\n"
   ]
  },
  {
   "cell_type": "markdown",
   "metadata": {},
   "source": [
    "### 操作列表\n",
    "    - 访问\n",
    "        - 使用下标操作（索引）\n",
    "        - 列表的位置从0 开始\n",
    "    - 分片操作\n",
    "    - 分片操作是生成一个新的list\n",
    "        "
   ]
  },
  {
   "cell_type": "code",
   "execution_count": 23,
   "metadata": {},
   "outputs": [
    {
     "name": "stdout",
     "output_type": "stream",
     "text": [
      "示例1--- 3\n",
      "示例2--- [1, 2, 3, 4, 5]\n",
      "示例3--- [6, 7, 8, 9]\n",
      "示例4--- [1, 2, 3, 4, 5, 6, 7, 8, 9]\n",
      "示例5--- [3, 5, 7, 9]\n",
      "示例6--- [7, 8, 9]\n",
      "示例7--- [1, 2, 3, 4, 5]\n"
     ]
    }
   ],
   "source": [
    "# 下标访问列表\n",
    "\n",
    "l = [1,2,3,4,5,6,7,8,9]  #列表内有多个值\n",
    "\n",
    "print('示例1---',l[2])   # l[]  括号内为访问的列表的位置，从0开始，第一个是0 ，第二个是1 以此类推\n",
    "\n",
    "\n",
    "# 分片操作\n",
    "\n",
    "print('示例2---',l[0:5])  # 选取一定数量的值，包含左边的下标值，不包含右边的下标值\n",
    "\n",
    "print('示例3---',l[5:])   # 下标值可以为空，坐标下标值默认为0 ，右边的下标值为最大数+1 ，即表示截取到最后一个数据\n",
    "\n",
    "print('示例4---',l[:])  # 下标值都为空，则选取全部\n",
    "\n",
    "# 分片可以控制增长的幅度 ，默认增长幅度为1 \n",
    "\n",
    "print('示例5---',l[2:9:2])  # 第三个数字就是增长幅度，幅度为1就是挨个选取，幅度为2就是建个一个选取一个。以此类推（步长）\n",
    "\n",
    "\n",
    "# 下标可以超出范围，超出后不在考虑多余下标内容\n",
    "\n",
    "print('示例6---',l[6:19])   # 19已经超出下标范围，值选取表内最大值\n",
    "\n",
    "print('示例7---',l[-9:-4])   # 下标可以为负数，负数表示从右往左分别是 -1 -2 -3 -4 -5 .... ,截取数组的时候统一从左往右\n",
    "\n"
   ]
  },
  {
   "cell_type": "code",
   "execution_count": 3,
   "metadata": {},
   "outputs": [
    {
     "name": "stdout",
     "output_type": "stream",
     "text": [
      "1484356160\n",
      "1484356192\n",
      "1484356160\n",
      "3136730254408\n",
      "3136730253832\n",
      "3136730254408\n"
     ]
    }
   ],
   "source": [
    "#  通过id 可以判断分片操作是生成一个新的数据\n",
    "\n",
    "#分片操作示例\n",
    "a = 100\n",
    "b = 101\n",
    "c = a    \n",
    "print(id(a))   #a 与b 的ID不一致，因为值不一样\n",
    "print(id(b))\n",
    "print(id(c))   #a与c的ID一致，因为a 赋值给了 c \n",
    "\n",
    "l1 = [9,8,7,6,4,3,2,1,0]\n",
    "l2 = l1[:]\n",
    "l3 = l1\n",
    "\n",
    "print(id(l1))    # l1 与l2的值一样，但是ID不一样，因为分片操作是生成一个新的数据\n",
    "print(id(l2))\n",
    "print(id(l3))   # l3 与l1 的ID 一样，因为 l1 赋值给了l3 "
   ]
  },
  {
   "cell_type": "markdown",
   "metadata": {},
   "source": [
    "\n",
    "\n",
    "###  list 的删除操作\n",
    "    - 是用del命令进行删除\n",
    "        · 删除命令： del\n",
    "        · 删除后并没有生成一个新的list ，而是在原"
   ]
  },
  {
   "cell_type": "code",
   "execution_count": 18,
   "metadata": {},
   "outputs": [
    {
     "name": "stdout",
     "output_type": "stream",
     "text": [
      "[1, 2, 3, 4, 5, 6, 7, 8, 9]\n",
      "3136685965768\n",
      "[1, 2, 3, 4, 5, 7, 8, 9]\n",
      "3136685965768\n"
     ]
    }
   ],
   "source": [
    "# 列表删除操作示例\n",
    "\n",
    "a = [1,2,3,4,5,6,7,8,9]\n",
    "\n",
    "print(a)\n",
    "print(id(a))\n",
    "del a[5]   #用del 删除列表中对应位置的值\n",
    "print(a)\n",
    "print(id(a))   #删除前后ID一样，说明并没有生成一个新的list"
   ]
  },
  {
   "cell_type": "markdown",
   "metadata": {},
   "source": [
    "### 列表相加相乘\n",
    "    - 使用加号链接两个列表\n",
    "    - 是用乘号（*），链接本列表多次\n",
    "    \n",
    "    "
   ]
  },
  {
   "cell_type": "code",
   "execution_count": 23,
   "metadata": {},
   "outputs": [
    {
     "name": "stdout",
     "output_type": "stream",
     "text": [
      "[1, 2, 3, 4, 5, 6, 7, 8, 9, 'a', 'b', 'c']\n",
      "[1, 2, 3, 4, 1, 2, 3, 4, 1, 2, 3, 4, 1, 2, 3, 4, 1, 2, 3, 4]\n"
     ]
    }
   ],
   "source": [
    "# 列表相加示例\n",
    "\n",
    "a = [1,2,3,4]\n",
    "b = [5,6,7,8,9,]\n",
    "d = ['a','b','c']\n",
    "c= a + b + d\n",
    "print(c)\n",
    "\n",
    "# 列表相乘示例\n",
    "\n",
    "e = a * 5   # 一个列表乘以5 ，等于五个相同的列表衔接在一起\n",
    "print(e)   "
   ]
  },
  {
   "cell_type": "code",
   "execution_count": 28,
   "metadata": {},
   "outputs": [
    {
     "name": "stdout",
     "output_type": "stream",
     "text": [
      "False\n",
      "True\n",
      "True\n"
     ]
    }
   ],
   "source": [
    "# 成员资格运算 \n",
    "# 判断一个元素是否在list 里面\n",
    "\n",
    "a = [1,2,3,4,5,6]\n",
    "b = 8\n",
    "\n",
    "c = b in a  # 监测一个元素是否在列表里，以布尔值形式返回\n",
    "print(c)\n",
    "\n",
    "d = 3\n",
    "print(d in a)\n",
    "\n",
    "print(b not in a)  # 反向\n"
   ]
  },
  {
   "cell_type": "markdown",
   "metadata": {},
   "source": [
    "### 列表的遍历\n",
    "    - for\n",
    "    - while\n",
    "    "
   ]
  },
  {
   "cell_type": "code",
   "execution_count": 31,
   "metadata": {},
   "outputs": [
    {
     "name": "stdout",
     "output_type": "stream",
     "text": [
      "1\n",
      "2\n",
      "3\n",
      "4\n",
      "5\n",
      "6\n",
      "--------------------\n",
      "1\n",
      "2\n",
      "3\n",
      "4\n",
      "5\n",
      "6\n",
      "7\n",
      "8\n"
     ]
    }
   ],
   "source": [
    "# for in list 示例\n",
    "\n",
    "a = [1,2,3,4,5,6]\n",
    "\n",
    "#挨个打印列表里的元素 \n",
    "for i  in a:\n",
    "    print(i)\n",
    "    \n",
    "\n",
    "print('-' * 20)   #----------分割线--------\n",
    "\n",
    "\n",
    "# while循环访问list \n",
    "# 一般不用while遍历list\n",
    "\n",
    "a = [1,2,3,4,5,6,7,8,]\n",
    "length = len(a)\n",
    "indx = 0\n",
    "while indx < length:\n",
    "    print(a[indx])\n",
    "    indx += 1\n"
   ]
  },
  {
   "cell_type": "code",
   "execution_count": 39,
   "metadata": {},
   "outputs": [
    {
     "name": "stdout",
     "output_type": "stream",
     "text": [
      "one --- 1\n",
      "two --- 2\n",
      "three --- 3\n",
      "--------------------\n",
      "one --- 1 --- 一\n",
      "two --- 2 --- 二\n",
      "three --- 3 --- 三\n"
     ]
    }
   ],
   "source": [
    "# 双层列表循环 \n",
    "\n",
    "a = [['one',1],['two',2],['three',3]]  #嵌套列表\n",
    "\n",
    "for k,v in a:\n",
    "    print(k,'---',v)    # 仅在嵌套列表里分别都是两个值的时候才有用\n",
    "\n",
    "print('-' * 20 )  #--------------分割线-----------\n",
    "    \n",
    "b = [['one',1,'一'],['two',2,'二'],['three',3,'三']]\n",
    "\n",
    "for k,v,w in b:\n",
    "    print(k,'---',v,'---',w)    #  k,v,w  的个数要跟捷报出来的变量个数一致"
   ]
  },
  {
   "cell_type": "markdown",
   "metadata": {},
   "source": [
    "### 列表内涵   list contet \n",
    "    - 通过简单的方法制作列表\n",
    "        · for 创建\n",
    "    "
   ]
  },
  {
   "cell_type": "code",
   "execution_count": 49,
   "metadata": {},
   "outputs": [
    {
     "name": "stdout",
     "output_type": "stream",
     "text": [
      "['a', 'b', 'c']\n",
      "--------------------\n",
      "[10, 20, 30, 40, 50]\n",
      "--------------------\n",
      "[1, 2, 3, 4, 5, 6, 7, 8, 9, 10, 11, 12, 13, 14, 15, 16, 17, 18, 19, 20, 21, 22, 23, 24, 25, 26, 27, 28, 29, 30, 31, 32, 33, 34, 35, 36, 37]\n",
      "[2, 4, 6, 8, 10, 12, 14, 16, 18, 20, 22, 24, 26, 28, 30, 32, 34, 36]\n"
     ]
    }
   ],
   "source": [
    "#  for 创建列表 \n",
    "a = ['a','b','c']\n",
    "# 用list a 创建一个list b \n",
    "b = [i for i in a]  # 把a 中所有的元素，逐个放入新列表b 中\n",
    "print(b)\n",
    "\n",
    "print('-' * 20 ) # ----------分割线--------\n",
    "\n",
    "a = [1,2,3,4,5,]\n",
    "b = [i * 10 for i in a]    #  把 a 中所有的元素，乘以10 ，然后逐个放入b 中\n",
    "\n",
    "print(b)\n",
    "\n",
    "print('-' * 20 ) # ----------分割线--------\n",
    "\n",
    "\n",
    "q = [x for x in range(1,38)] # 创建一个列表x ，1到37\n",
    "print(q)   \n",
    "\n",
    "w = [m for m in q if m % 2 == 0]  # 把 q 列表中的偶数都逐个放入到列表 w 中 \n",
    "print(w)\n"
   ]
  },
  {
   "cell_type": "code",
   "execution_count": 51,
   "metadata": {},
   "outputs": [
    {
     "name": "stdout",
     "output_type": "stream",
     "text": [
      "[1, 2, 3, 4]\n",
      "[100, 200, 300, 400]\n",
      "[101, 201, 301, 401, 102, 202, 302, 402, 103, 203, 303, 403, 104, 204, 304, 404]\n",
      "[101, 201, 102, 202, 103, 203, 104, 204]\n"
     ]
    }
   ],
   "source": [
    "# 列表生成式嵌套示例\n",
    "# 有两个列表 \n",
    "\n",
    "a = [i for i in range(1,5)] # 生成list a  \n",
    "print(a)\n",
    "\n",
    "b = [i for i in range(100,500) if i % 100 == 0]\n",
    "print(b)\n",
    "\n",
    "# 生成式可以嵌套\n",
    "\n",
    "c = [ m+n for m in a for n in  b]   \n",
    "print(c)\n",
    " \n",
    "    \n",
    "# 嵌套的列表生成式可以加条件表达式 \n",
    "    \n",
    "c = [ m+n for m in a for n in  b if m+n < 250]   \n",
    "print(c)"
   ]
  },
  {
   "cell_type": "markdown",
   "metadata": {},
   "source": [
    "## 关于列表的常用函数\n",
    "    - 求列表的长度\n",
    "        ·len() 求列表的长度\n",
    "        ·max() 求列表的最大值\n",
    "        ·min() 求列表的最小值\n",
    "    - list 将其他格式的数据转换成list "
   ]
  },
  {
   "cell_type": "code",
   "execution_count": 61,
   "metadata": {},
   "outputs": [
    {
     "name": "stdout",
     "output_type": "stream",
     "text": [
      "99\n",
      "99\n",
      "1\n",
      "kally\n"
     ]
    }
   ],
   "source": [
    "# len:求列表长度\n",
    "\n",
    "a = [x for x in range(1,100)]\n",
    "print(len(a))     # 求列表的长度\n",
    "\n",
    "print(max(a))   # 求列表内的最大值\n",
    "print(min(a))   # 求列表内的最小值\n",
    "\n",
    "b = ['alex','john','kally']\n",
    "print(max(b))   # 字符串同样可以求列表内的最大值"
   ]
  },
  {
   "cell_type": "code",
   "execution_count": 63,
   "metadata": {},
   "outputs": [
    {
     "name": "stdout",
     "output_type": "stream",
     "text": [
      "['I', ' ', 'l', 'o', 'v', 'e', ' ', 'p', 'y', 't', 'h', 'o', 'n']\n",
      "[1, 2, 3, 4, 5, 6, 7, 8, 9]\n"
     ]
    }
   ],
   "source": [
    "# 将其他格式的数据转换成list\n",
    "\n",
    "s = 'I love python'\n",
    "print(list(s))   #  将 s 内的所有字符串转换成列表（包括空格）\n",
    "\n",
    "\n",
    "print(list(range(1,10))) # 把 range 产生的内容转换成list\n"
   ]
  },
  {
   "cell_type": "code",
   "execution_count": null,
   "metadata": {},
   "outputs": [],
   "source": []
  },
  {
   "cell_type": "code",
   "execution_count": null,
   "metadata": {},
   "outputs": [],
   "source": []
  },
  {
   "cell_type": "code",
   "execution_count": null,
   "metadata": {},
   "outputs": [],
   "source": []
  },
  {
   "cell_type": "code",
   "execution_count": null,
   "metadata": {},
   "outputs": [],
   "source": []
  }
 ],
 "metadata": {
  "kernelspec": {
   "display_name": "Python 3",
   "language": "python",
   "name": "python3"
  },
  "language_info": {
   "codemirror_mode": {
    "name": "ipython",
    "version": 3
   },
   "file_extension": ".py",
   "mimetype": "text/x-python",
   "name": "python",
   "nbconvert_exporter": "python",
   "pygments_lexer": "ipython3",
   "version": "3.6.4"
  }
 },
 "nbformat": 4,
 "nbformat_minor": 2
}
